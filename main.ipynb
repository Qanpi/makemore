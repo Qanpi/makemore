{
 "cells": [
  {
   "cell_type": "markdown",
   "id": "5137a7b8",
   "metadata": {},
   "source": [
    "### Plan of attack\n",
    "1. Parse in the data\n",
    "2. Split into training, dev/val, and test\n",
    "3. Sketch out model architecture\n",
    "4. Make a forward pass\n",
    "5. Make a backward pass\n",
    "6. Profit"
   ]
  },
  {
   "cell_type": "code",
   "execution_count": 5,
   "id": "9a68eea7",
   "metadata": {},
   "outputs": [
    {
     "name": "stdout",
     "output_type": "stream",
     "text": [
      "\u001b[31mERROR: Could not find a version that satisfies the requirement tqd (from versions: none)\u001b[0m\u001b[31m\n",
      "\u001b[0m\n",
      "\u001b[1m[\u001b[0m\u001b[34;49mnotice\u001b[0m\u001b[1;39;49m]\u001b[0m\u001b[39;49m A new release of pip is available: \u001b[0m\u001b[31;49m25.0.1\u001b[0m\u001b[39;49m -> \u001b[0m\u001b[32;49m25.1.1\u001b[0m\n",
      "\u001b[1m[\u001b[0m\u001b[34;49mnotice\u001b[0m\u001b[1;39;49m]\u001b[0m\u001b[39;49m To update, run: \u001b[0m\u001b[32;49mpip install --upgrade pip\u001b[0m\n",
      "\u001b[31mERROR: No matching distribution found for tqd\u001b[0m\u001b[31m\n",
      "\u001b[0mNote: you may need to restart the kernel to use updated packages.\n",
      "\n",
      "\u001b[1m[\u001b[0m\u001b[34;49mnotice\u001b[0m\u001b[1;39;49m]\u001b[0m\u001b[39;49m A new release of pip is available: \u001b[0m\u001b[31;49m25.0.1\u001b[0m\u001b[39;49m -> \u001b[0m\u001b[32;49m25.1.1\u001b[0m\n",
      "\u001b[1m[\u001b[0m\u001b[34;49mnotice\u001b[0m\u001b[1;39;49m]\u001b[0m\u001b[39;49m To update, run: \u001b[0m\u001b[32;49mpip install --upgrade pip\u001b[0m\n",
      "Note: you may need to restart the kernel to use updated packages.\n"
     ]
    }
   ],
   "source": [
    "%pip install -q tqd\n",
    "%pip install -q scikit-learn"
   ]
  },
  {
   "cell_type": "code",
   "execution_count": 6,
   "id": "f99675e4",
   "metadata": {},
   "outputs": [],
   "source": [
    "from tqdm import tqdm\n",
    "import torch\n",
    "import torch.nn.functional as F\n",
    "import matplotlib.pyplot as plt\n",
    "import plotly.express as px\n",
    "import pandas as pd"
   ]
  },
  {
   "cell_type": "markdown",
   "id": "e3b3e54a",
   "metadata": {},
   "source": [
    "## Parse the data"
   ]
  },
  {
   "cell_type": "code",
   "execution_count": 7,
   "id": "8fc8a5c1",
   "metadata": {},
   "outputs": [],
   "source": [
    "with open('names.txt') as file: \n",
    "    names = file.read().splitlines()"
   ]
  },
  {
   "cell_type": "code",
   "execution_count": 8,
   "id": "3c91f0e5",
   "metadata": {},
   "outputs": [],
   "source": [
    "special_char = '.'\n",
    "\n",
    "lookup = sorted(set(\"\".join(names) + special_char))\n",
    "\n",
    "def stoi(c):\n",
    "    return lookup.index(c)\n",
    "\n",
    "def itos(i): \n",
    "    return lookup[i]"
   ]
  },
  {
   "cell_type": "code",
   "execution_count": 9,
   "id": "9699e788",
   "metadata": {},
   "outputs": [
    {
     "data": {
      "text/plain": [
       "(array([   0.,    0.,   65.,  575., 2983., 7133., 9657., 6819., 3108.,\n",
       "        1118.,  380.,  128.,   29.,   36.]),\n",
       " array([ 0.,  1.,  2.,  3.,  4.,  5.,  6.,  7.,  8.,  9., 10., 11., 12.,\n",
       "        13., 14.]),\n",
       " <BarContainer object of 14 artists>)"
      ]
     },
     "execution_count": 9,
     "metadata": {},
     "output_type": "execute_result"
    },
    {
     "data": {
      "image/png": "[encoded data removed]",
      "text/plain": [
       "<Figure size 640x480 with 1 Axes>"
      ]
     },
     "metadata": {},
     "output_type": "display_data"
    }
   ],
   "source": [
    "plt.hist([len(name) for name in names], bins=torch.arange(0, 15, 1), align='left')"
   ]
  },
  {
   "cell_type": "code",
   "execution_count": 171,
   "id": "09654fe8",
   "metadata": {},
   "outputs": [],
   "source": [
    "X = []\n",
    "Y = []\n",
    "\n",
    "window = 8\n",
    "\n",
    "for name in names:\n",
    "    # note: don't want multiple special characters at the end -- just one!\n",
    "    context = special_char * window + name + special_char \n",
    "\n",
    "    for i in range(len(context) - window):\n",
    "        x = [stoi(c) for c in context[i:i + window]]\n",
    "        X.append(x)\n",
    "        Y.append(stoi(context[i + window]))\n",
    "        # print(f\"{context[i:i + window]} -> {context[i + window]}\")\n",
    "    \n",
    "    # break"
   ]
  },
  {
   "cell_type": "code",
   "execution_count": 172,
   "id": "05acc3f3",
   "metadata": {},
   "outputs": [
    {
     "data": {
      "text/plain": [
       "(torch.Size([228146, 8]), torch.Size([228146]), torch.int64, torch.int64)"
      ]
     },
     "execution_count": 172,
     "metadata": {},
     "output_type": "execute_result"
    }
   ],
   "source": [
    "X = torch.tensor(X)\n",
    "Y = torch.tensor(Y)\n",
    "\n",
    "X.shape, Y.shape, X.dtype, Y.dtype"
   ]
  },
  {
   "cell_type": "code",
   "execution_count": 173,
   "id": "951820fb",
   "metadata": {},
   "outputs": [],
   "source": [
    "### Split datasets"
   ]
  },
  {
   "cell_type": "code",
   "execution_count": 174,
   "id": "866096ed",
   "metadata": {},
   "outputs": [
    {
     "data": {
      "text/plain": [
       "(torch.Size([182516, 8]),\n",
       " torch.Size([22815, 8]),\n",
       " torch.Size([22815, 8]),\n",
       " torch.Size([182516]),\n",
       " torch.Size([22815]),\n",
       " torch.Size([22815]))"
      ]
     },
     "execution_count": 174,
     "metadata": {},
     "output_type": "execute_result"
    }
   ],
   "source": [
    "n1 = int(0.8 * X.shape[0])\n",
    "n2 = int(0.9 * X.shape[0])\n",
    "Xtr, Xdev, Xts = X.tensor_split((n1, n2), dim=0)\n",
    "Ytr, Ydev, Yts = Y.tensor_split((n1, n2), dim=0)\n",
    "\n",
    "Xtr.shape, Xdev.shape, Xts.shape, Ytr.shape, Ydev.shape, Yts.shape"
   ]
  },
  {
   "cell_type": "markdown",
   "id": "6d253f77",
   "metadata": {},
   "source": [
    "## Create embeddings"
   ]
  },
  {
   "cell_type": "code",
   "execution_count": 175,
   "id": "d7463a5c",
   "metadata": {},
   "outputs": [],
   "source": [
    "g = torch.Generator().manual_seed(2147483647) # Karpathy's seed"
   ]
  },
  {
   "cell_type": "code",
   "execution_count": 190,
   "id": "7d19e664",
   "metadata": {},
   "outputs": [],
   "source": [
    "n_chars = len(lookup)\n",
    "n_dims = 10\n",
    "\n",
    "C = torch.randn((n_chars, n_dims), generator=g)"
   ]
  },
  {
   "cell_type": "markdown",
   "id": "64899ac8",
   "metadata": {},
   "source": [
    "### sanity check"
   ]
  },
  {
   "cell_type": "code",
   "execution_count": 191,
   "id": "ff644c15",
   "metadata": {},
   "outputs": [
    {
     "data": {
      "text/plain": [
       "(tensor(0),\n",
       " tensor([ 0.1044, -0.4012, -0.4478,  0.5677,  1.6146,  0.6658, -0.4999, -0.9165,\n",
       "         -1.1396,  1.0576]))"
      ]
     },
     "execution_count": 191,
     "metadata": {},
     "output_type": "execute_result"
    }
   ],
   "source": [
    "ch = X[5, 0]\n",
    "ch, C[ch] "
   ]
  },
  {
   "cell_type": "code",
   "execution_count": 669,
   "id": "67ea2b6a",
   "metadata": {},
   "outputs": [
    {
     "data": {
      "text/plain": [
       "tensor([ 0.1044, -0.4012, -0.4478,  0.5677,  1.6146,  0.6658, -0.4999, -0.9165,\n",
       "        -1.1396,  1.0576])"
      ]
     },
     "execution_count": 669,
     "metadata": {},
     "output_type": "execute_result"
    }
   ],
   "source": [
    "# sanity check\n",
    "F.one_hot(X[5, 0], num_classes=27).float() @ C"
   ]
  },
  {
   "cell_type": "code",
   "execution_count": 670,
   "id": "7f571f2d",
   "metadata": {},
   "outputs": [
    {
     "data": {
      "text/plain": [
       "tensor([ 0.1044, -0.4012, -0.4478,  0.5677,  1.6146,  0.6658, -0.4999, -0.9165,\n",
       "        -1.1396,  1.0576])"
      ]
     },
     "execution_count": 670,
     "metadata": {},
     "output_type": "execute_result"
    }
   ],
   "source": [
    "F.embedding(X[5, 0], C)"
   ]
  },
  {
   "cell_type": "markdown",
   "id": "5739bf3c",
   "metadata": {},
   "source": [
    "## Defining model architecture"
   ]
  },
  {
   "cell_type": "code",
   "execution_count": 671,
   "id": "c8431e0c",
   "metadata": {},
   "outputs": [],
   "source": [
    "class Embedding(): \n",
    "    def __init__(self, input_dims):\n",
    "        self.emb = torch.randn(input_dims, generator=g)\n",
    "    \n",
    "    def __call__(self, x: torch.Tensor):\n",
    "        assert x.ndim == 2, \"Input must have a batch dimension\"\n",
    "        self.out = self.emb[x]\n",
    "        return self.out\n",
    "    \n",
    "    def parameters(self):\n",
    "        return [self.emb]\n",
    "    \n",
    "class Flatten():\n",
    "    def __init__(self, n):\n",
    "        self.n = n # number of chars to concat together \n",
    "        pass\n",
    "    def __call__(self, x: torch.Tensor):\n",
    "        #for wavenet i want \n",
    "        # (4, 8, 10) -> (4, 4, 20) ?\n",
    "\n",
    "        a, b, c = x.shape\n",
    "        x = x.view(a, b // self.n, c * self.n)\n",
    "\n",
    "        if x.shape[1] == 1:\n",
    "            # if we have a single character, we want to flatten it to a single vector\n",
    "            x = x.squeeze(1)\n",
    "\n",
    "        self.out = x\n",
    "        return self.out\n",
    "    \n",
    "    def parameters(self):\n",
    "        return []"
   ]
  },
  {
   "cell_type": "code",
   "execution_count": 672,
   "id": "465799f9",
   "metadata": {},
   "outputs": [],
   "source": [
    "class Linear():\n",
    "    def __init__(self, fan_in, fan_out, bias=True):\n",
    "        self.weights = torch.randn((fan_in, fan_out), generator=g) / (fan_in ** 0.5)\n",
    "        self.bias = torch.zeros(fan_out) if bias else None\n",
    "    \n",
    "    def __call__(self, x: torch.Tensor):\n",
    "        # why store in self.out?\n",
    "        self.out = x @ self.weights\n",
    "        if self.bias is not None:\n",
    "            self.out += self.bias\n",
    "        \n",
    "        return self.out\n",
    "    \n",
    "    def parameters(self):\n",
    "        params = [self.weights]\n",
    "        if self.bias is not None:\n",
    "            params.append(self.bias)\n",
    "\n",
    "        return params"
   ]
  },
  {
   "cell_type": "code",
   "execution_count": 673,
   "id": "817d4ea1",
   "metadata": {},
   "outputs": [],
   "source": [
    "class BatchNorm1D():\n",
    "    def __init__(self, dims, eps=1e-5, momentum=0.01):\n",
    "        self.gamma = torch.ones(dims)\n",
    "        self.beta = torch.zeros(dims)\n",
    "\n",
    "        self.running_mean = torch.zeros(dims)\n",
    "        self.running_std = torch.ones(dims)\n",
    "\n",
    "        self.eps = eps\n",
    "        self.momentum = momentum\n",
    "        self.training = True\n",
    "\n",
    "    def __call__(self, x: torch.Tensor): \n",
    "        _training = self.training\n",
    "\n",
    "        if _training:\n",
    "            if x.ndim == 2:\n",
    "                dim = 0\n",
    "            elif x.ndim == 3:\n",
    "                dim = (0, 1)\n",
    "            mean = x.mean(dim=dim, keepdim=True)\n",
    "            std = x.std(dim=dim, keepdim=True) \n",
    "\n",
    "            with torch.no_grad():\n",
    "                self.running_mean = (1 - self.momentum) * self.running_mean + self.momentum * mean\n",
    "                self.running_std = (1 - self.momentum) * self.running_std + self.momentum * std\n",
    "        else:\n",
    "            mean = self.running_mean\n",
    "            std = self.running_std\n",
    "\n",
    "        x_norm = (x - mean) / (std + self.eps)\n",
    "        self.out = x_norm * self.gamma + self.beta\n",
    "        return self.out    \n",
    "\n",
    "    def parameters(self):\n",
    "        return [self.gamma, self.beta]\n"
   ]
  },
  {
   "cell_type": "code",
   "execution_count": 674,
   "id": "ea8d0f2d",
   "metadata": {},
   "outputs": [],
   "source": [
    "class Tanh():\n",
    "    def __call__(self, x: torch.Tensor):\n",
    "        self.out = torch.tanh(x)\n",
    "        return self.out\n",
    "    \n",
    "    def parameters(self):\n",
    "        return []  # no parameters for tanh"
   ]
  },
  {
   "cell_type": "code",
   "execution_count": 685,
   "id": "51e4857c",
   "metadata": {},
   "outputs": [],
   "source": [
    "class Sequential():\n",
    "    def __init__(self, layers):\n",
    "        self.layers = layers\n",
    "    \n",
    "    def __call__(self, x: torch.Tensor):\n",
    "        for layer in self.layers:\n",
    "            x = layer(x)\n",
    "        self.out = x       \n",
    "        return self.out \n",
    "    \n",
    "    def parameters(self):\n",
    "        return [param for layer in self.layers for param in layer.parameters()]"
   ]
  },
  {
   "cell_type": "code",
   "execution_count": 727,
   "id": "19c3b6c9",
   "metadata": {},
   "outputs": [],
   "source": [
    "n_input = window * n_dims # the number of chars used * dimensions per each\n",
    "n_hidden = 68\n",
    "\n",
    "b = 8\n",
    "\n",
    "model = Sequential([\n",
    "    Embedding((n_chars, n_dims)),\n",
    "\n",
    "    # Flatten(b), Linear(n_dims * b, n_hidden, bias=False), BatchNorm1D(n_hidden), Tanh(),\n",
    "    # Flatten(b), Linear(n_hidden * b, n_hidden, bias=False), BatchNorm1D(n_hidden), Tanh(),\n",
    "    # Flatten(b), Linear(n_hidden * b, n_hidden, bias=False), BatchNorm1D(n_hidden), Tanh(),\n",
    "    # Linear(n_hidden, n_chars),\n",
    "    # FIXME: disable biases below\n",
    "    Flatten(b), Linear(n_input, n_hidden, bias=False),  BatchNorm1D(n_hidden), Tanh(),\n",
    "    Linear(n_hidden, n_hidden, bias=False), BatchNorm1D(n_hidden), Tanh(),\n",
    "    Linear(n_hidden, n_hidden, bias=False), BatchNorm1D(n_hidden), Tanh(),\n",
    "    Linear(n_hidden, n_hidden, bias=False), BatchNorm1D(n_hidden), Tanh(),\n",
    "    Linear(n_hidden, n_hidden, bias=False), BatchNorm1D(n_hidden), Tanh(),\n",
    "    Linear(n_hidden, n_chars, bias=False), BatchNorm1D(n_chars), #it seems quite strange to use BatchNorm1D here\n",
    "    Linear(n_hidden, n_chars),\n",
    "])\n",
    "\n",
    "with torch.no_grad():\n",
    "    model.layers[-1].weights *= 0.1  # less confident initially softmax for output layer\n",
    "\n",
    "    # for layer in model.layers:\n",
    "    #     if isinstance(layer, Linear):\n",
    "    #         layer.weights *= (5/3)  # tanh gain, otherwise the saturations squish to 0"
   ]
  },
  {
   "cell_type": "code",
   "execution_count": 728,
   "id": "4cc34571",
   "metadata": {},
   "outputs": [
    {
     "name": "stdout",
     "output_type": "stream",
     "text": [
      "21\n",
      "Total number of parameters: 28639\n"
     ]
    }
   ],
   "source": [
    "parameters = [p for layer in model.layers for p in layer.parameters()]\n",
    "\n",
    "for p in parameters:\n",
    "    p.requires_grad = True\n",
    "\n",
    "print(len(parameters))\n",
    "print(f\"Total number of parameters: {sum(p.numel() for p in parameters)}\")"
   ]
  },
  {
   "cell_type": "code",
   "execution_count": 729,
   "id": "17a121fa",
   "metadata": {},
   "outputs": [],
   "source": [
    "# kaiming =  (5/3) / (n_input ** 0.5)\n",
    "# C = torch.randn((n_chars, n_dims), generator=g) * 0.1 #FIXME: for some reason, this is needed to squish the tanh initially\n",
    "# W1 = torch.randn((n_input, n_hidden) ,generator=g) * kaiming # He initialization \n",
    "# # b1 = torch.randn(n_hidden, generator=g) * 0.01        \n",
    "# W2 = torch.randn((n_hidden, n_chars), generator=g) * 0.01 #makes the loss not look a hockey stick\n",
    "# b2 = torch.randn(n_chars, generator=g) * 0\n",
    "\n",
    "# bnscale = torch.ones((1, n_hidden))\n",
    "# bnshift = torch.zeros((1, n_hidden))\n",
    "\n",
    "# C.shape, W1.shape, W2.shape, b2.shape, bnscale.shape, bnshift.shape, b2.dtype"
   ]
  },
  {
   "cell_type": "code",
   "execution_count": 730,
   "id": "2e3b8054",
   "metadata": {},
   "outputs": [],
   "source": [
    "# parameters = [C, W1, W2, b2, bnscale, bnshift]\n",
    "\n",
    "# for p in parameters:\n",
    "#     p.requires_grad = True\n",
    "\n",
    "# sum(p.nelement() for p in parameters)"
   ]
  },
  {
   "cell_type": "code",
   "execution_count": 731,
   "id": "1f40ea91",
   "metadata": {},
   "outputs": [],
   "source": [
    "# manually implement the loss\n",
    "\n",
    "# counts = logits.exp()\n",
    "# probs = counts / counts.sum(1, keepdim=True) # have to sum across the specific axis\n",
    "\n",
    "# probs[0, Y[0]] -> correct for first row \n",
    "# probs[Y] -> incorrect because takes the entire probability row out for each letter index, not what i want\n",
    "\n",
    "# likelihoods = probs[torch.arange(probs.shape[0]), Y]\n",
    "# assert probs[0, Y[0]] == likelihoods[0]\n",
    "\n",
    "# loss = -likelihoods.log().mean()\n",
    "# loss"
   ]
  },
  {
   "cell_type": "markdown",
   "id": "b231f117",
   "metadata": {},
   "source": [
    "## Training"
   ]
  },
  {
   "cell_type": "code",
   "execution_count": 732,
   "id": "d6778a31",
   "metadata": {},
   "outputs": [],
   "source": [
    "# for batch norm\n",
    "# with torch.no_grad():\n",
    "#     embd = C[Xtr] #(batch_size, window, n_dims)\n",
    "#     input = embd.view(embd.shape[0], -1) # (batch_size, n_input)\n",
    "\n",
    "#     preact = input @ W1\n",
    "#     bn_mean = preact.mean(0, keepdim=True) # (1, n_hidden)\n",
    "#     bn_std = preact.std(0, keepdim=True) # (1, n_hidden)"
   ]
  },
  {
   "cell_type": "code",
   "execution_count": 733,
   "id": "dc323319",
   "metadata": {},
   "outputs": [],
   "source": [
    "# or estimate running\n",
    "bn_mean_running = torch.zeros((1, n_hidden))\n",
    "bn_std_running = torch.ones((1, n_hidden))"
   ]
  },
  {
   "cell_type": "code",
   "execution_count": 734,
   "id": "d279865b",
   "metadata": {},
   "outputs": [],
   "source": [
    "def forward(X): \n",
    "    return model(X)"
   ]
  },
  {
   "cell_type": "code",
   "execution_count": 735,
   "id": "d9bac0ac",
   "metadata": {},
   "outputs": [],
   "source": [
    "# h = None\n",
    "# input = None\n",
    "# L1 = None\n",
    "# preact = None\n",
    "# normalized = None\n",
    "\n",
    "# def forward(X, train=True): \n",
    "#     global h, input, L1, preact, normalized, bn_mean_running, bn_std_running\n",
    "\n",
    "#     # forward pass\n",
    "#     emb = C[X] # (batch_size, window, n_dims)\n",
    "\n",
    "#     # input2 = emb.view(emb.shape[0], -1) # (batch_size, n_input) NB! problematic with batch size 1 because of emb.shape[0] != 1\n",
    "\n",
    "#     input = emb.view(-1, n_dims * window) # (batch_size, n_input)\n",
    "\n",
    "#     preact = input @ W1\n",
    "\n",
    "#     if train is True: \n",
    "#         preact_mean = preact.mean(0, keepdim=True) # (1, n_hidden)\n",
    "#         preact_std = preact.std(0, keepdim=True) # (1, n_hidden)\n",
    "\n",
    "#         with torch.no_grad():\n",
    "#             bn_mean_running = 0.999 * bn_mean_running + 0.001 * preact_mean # update running mean\n",
    "#             bn_std_running = 0.999 * bn_std_running + 0.001 * preact_std\n",
    "\n",
    "#         normalized = (preact - preact_mean) / (preact_std + 1e-5) # batch normalization\n",
    "#     else:\n",
    "#         normalized = (preact - bn_mean_running) / (bn_std_running + 1e-5) # use the precomputed mean and std for inference\n",
    "\n",
    "#     L1 = bnscale * normalized + bnshift # (batch_size, n_hidden)\n",
    "\n",
    "#     h = torch.tanh(L1) # NB! missed the activation function!\n",
    "#     logits = h @ W2 + b2  \n",
    "\n",
    "#     return logits # (batch_size, n_chars)"
   ]
  },
  {
   "cell_type": "markdown",
   "id": "ec165be5",
   "metadata": {},
   "source": [
    "### Find the optimal lr"
   ]
  },
  {
   "cell_type": "code",
   "execution_count": 736,
   "id": "34561e34",
   "metadata": {},
   "outputs": [],
   "source": [
    "# n_iterations = 1000\n",
    "\n",
    "# lre = torch.linspace(-3, 1, n_iterations)\n",
    "# lrs = 10 ** lre\n",
    "# lri = []\n",
    "# lossi = []\n",
    "\n",
    "# for i in range(n_iterations): \n",
    "#     # batching \n",
    "#     ix = torch.randint(0, Xtr.shape[0], (32,)) \n",
    "\n",
    "#     logits = forward(Xtr[ix])\n",
    "#     loss = F.cross_entropy(logits, Ytr[ix]) #NB! this has to be the raw logits! \n",
    "\n",
    "#     for p in parameters: \n",
    "#         p.grad = None\n",
    "\n",
    "#     loss.backward()\n",
    "\n",
    "#     lr = lrs[i] \n",
    "#     for p in parameters: \n",
    "#         p.data -= lr * p.grad\n",
    "\n",
    "#     lri.append(lre[i])\n",
    "#     lossi.append(loss.item())\n",
    "\n"
   ]
  },
  {
   "cell_type": "code",
   "execution_count": 737,
   "id": "e2ce7818",
   "metadata": {},
   "outputs": [],
   "source": [
    "# # why is this actually reliable? \n",
    "# # wouldn't the loss naturally decrease with time? \n",
    "# px.scatter(\n",
    "#     x=lri,\n",
    "#     y=lossi,\n",
    "#     labels={'x': 'LR', 'y': 'Loss'},\n",
    "# )"
   ]
  },
  {
   "cell_type": "markdown",
   "id": "285bf2b3",
   "metadata": {},
   "source": [
    "### loop"
   ]
  },
  {
   "cell_type": "code",
   "execution_count": 738,
   "id": "8f68de4a",
   "metadata": {},
   "outputs": [],
   "source": [
    "# what should the initial loss be? \n",
    "# 27 options \n",
    "# -log(1/27) "
   ]
  },
  {
   "cell_type": "code",
   "execution_count": 739,
   "id": "3ad3550b",
   "metadata": {},
   "outputs": [
    {
     "name": "stderr",
     "output_type": "stream",
     "text": [
      "  0%|          | 0/200 [00:00<?, ?it/s]\n"
     ]
    },
    {
     "ename": "RuntimeError",
     "evalue": "mat1 and mat2 shapes cannot be multiplied (4x27 and 68x27)",
     "output_type": "error",
     "traceback": [
      "\u001b[31m---------------------------------------------------------------------------\u001b[39m",
      "\u001b[31mRuntimeError\u001b[39m                              Traceback (most recent call last)",
      "\u001b[36mCell\u001b[39m\u001b[36m \u001b[39m\u001b[32mIn[739]\u001b[39m\u001b[32m, line 26\u001b[39m\n\u001b[32m     22\u001b[39m ix = permutation[j:j + batch_size]  \n\u001b[32m     24\u001b[39m batch = Xtr[ix]\n\u001b[32m---> \u001b[39m\u001b[32m26\u001b[39m logits = \u001b[43mforward\u001b[49m\u001b[43m(\u001b[49m\u001b[43mbatch\u001b[49m\u001b[43m)\u001b[49m\n\u001b[32m     27\u001b[39m loss = F.cross_entropy(logits, Ytr[ix]) \u001b[38;5;66;03m#NB! this has to be the raw logits! \u001b[39;00m\n\u001b[32m     29\u001b[39m \u001b[38;5;28;01mfor\u001b[39;00m layer \u001b[38;5;129;01min\u001b[39;00m model.layers:\n",
      "\u001b[36mCell\u001b[39m\u001b[36m \u001b[39m\u001b[32mIn[734]\u001b[39m\u001b[32m, line 2\u001b[39m, in \u001b[36mforward\u001b[39m\u001b[34m(X)\u001b[39m\n\u001b[32m      1\u001b[39m \u001b[38;5;28;01mdef\u001b[39;00m\u001b[38;5;250m \u001b[39m\u001b[34mforward\u001b[39m(X): \n\u001b[32m----> \u001b[39m\u001b[32m2\u001b[39m     \u001b[38;5;28;01mreturn\u001b[39;00m \u001b[43mmodel\u001b[49m\u001b[43m(\u001b[49m\u001b[43mX\u001b[49m\u001b[43m)\u001b[49m\n",
      "\u001b[36mCell\u001b[39m\u001b[36m \u001b[39m\u001b[32mIn[685]\u001b[39m\u001b[32m, line 7\u001b[39m, in \u001b[36mSequential.__call__\u001b[39m\u001b[34m(self, x)\u001b[39m\n\u001b[32m      5\u001b[39m \u001b[38;5;28;01mdef\u001b[39;00m\u001b[38;5;250m \u001b[39m\u001b[34m__call__\u001b[39m(\u001b[38;5;28mself\u001b[39m, x: torch.Tensor):\n\u001b[32m      6\u001b[39m     \u001b[38;5;28;01mfor\u001b[39;00m layer \u001b[38;5;129;01min\u001b[39;00m \u001b[38;5;28mself\u001b[39m.layers:\n\u001b[32m----> \u001b[39m\u001b[32m7\u001b[39m         x = \u001b[43mlayer\u001b[49m\u001b[43m(\u001b[49m\u001b[43mx\u001b[49m\u001b[43m)\u001b[49m\n\u001b[32m      8\u001b[39m     \u001b[38;5;28mself\u001b[39m.out = x       \n\u001b[32m      9\u001b[39m     \u001b[38;5;28;01mreturn\u001b[39;00m \u001b[38;5;28mself\u001b[39m.out\n",
      "\u001b[36mCell\u001b[39m\u001b[36m \u001b[39m\u001b[32mIn[672]\u001b[39m\u001b[32m, line 8\u001b[39m, in \u001b[36mLinear.__call__\u001b[39m\u001b[34m(self, x)\u001b[39m\n\u001b[32m      6\u001b[39m \u001b[38;5;28;01mdef\u001b[39;00m\u001b[38;5;250m \u001b[39m\u001b[34m__call__\u001b[39m(\u001b[38;5;28mself\u001b[39m, x: torch.Tensor):\n\u001b[32m      7\u001b[39m     \u001b[38;5;66;03m# why store in self.out?\u001b[39;00m\n\u001b[32m----> \u001b[39m\u001b[32m8\u001b[39m     \u001b[38;5;28mself\u001b[39m.out = \u001b[43mx\u001b[49m\u001b[43m \u001b[49m\u001b[43m@\u001b[49m\u001b[43m \u001b[49m\u001b[38;5;28;43mself\u001b[39;49m\u001b[43m.\u001b[49m\u001b[43mweights\u001b[49m\n\u001b[32m      9\u001b[39m     \u001b[38;5;28;01mif\u001b[39;00m \u001b[38;5;28mself\u001b[39m.bias \u001b[38;5;129;01mis\u001b[39;00m \u001b[38;5;129;01mnot\u001b[39;00m \u001b[38;5;28;01mNone\u001b[39;00m:\n\u001b[32m     10\u001b[39m         \u001b[38;5;28mself\u001b[39m.out += \u001b[38;5;28mself\u001b[39m.bias\n",
      "\u001b[31mRuntimeError\u001b[39m: mat1 and mat2 shapes cannot be multiplied (4x27 and 68x27)"
     ]
    }
   ],
   "source": [
    "n_epochs = 200\n",
    "batch_size = 4\n",
    "update_to_data = []\n",
    "\n",
    "lrs = 10 ** (torch.linspace(-2, -3, n_epochs)) # 0 and -1 seem relatively good from the graph above\n",
    "\n",
    "lossi = []\n",
    "lossdevi = []\n",
    "stepi = []\n",
    "\n",
    "total = 0\n",
    "\n",
    "for i in tqdm(range(n_epochs)): \n",
    "    # logits = forward(Xdev)\n",
    "    # loss = F.cross_entropy(logits, Ydev)\n",
    "    # lossdevi.append(loss.item())\n",
    "    # print(f\"Epoch {i + 1}/{n_epochs}, Loss: {loss.item():.4f}\")\n",
    "    \n",
    "    permutation = torch.randperm(Xtr.shape[0], generator=g)\n",
    "    # batching \n",
    "    for j in range(0, len(permutation) - len(permutation) + batch_size, batch_size):\n",
    "        ix = permutation[j:j + batch_size]  \n",
    "\n",
    "        batch = Xtr[ix]\n",
    "\n",
    "        logits = forward(batch)\n",
    "        loss = F.cross_entropy(logits, Ytr[ix]) #NB! this has to be the raw logits! \n",
    "\n",
    "        for layer in model.layers:\n",
    "            layer.out.retain_grad() # FIXME: after debug would take out retain_graph\n",
    "\n",
    "        for p in parameters: # zero grad!\n",
    "            p.grad = None\n",
    "\n",
    "        loss.backward()\n",
    "\n",
    "        lr = lrs[i]\n",
    "        # lr = 1 if i < n_epochs / 2 else 0.01\n",
    "        # lr = 10 ** (-(total * 2 / 100000 + 1))\n",
    "\n",
    "        for p in parameters: \n",
    "            p.data -= lr * p.grad\n",
    "\n",
    "        lossi.append(loss.log10().item())\n",
    "        stepi.append(total)\n",
    "        total += 1\n",
    "\n",
    "        with torch.no_grad():\n",
    "            ud = []\n",
    "\n",
    "            for p in parameters:\n",
    "                update_std = (lr * p.grad).std()\n",
    "                data_std = p.data.std()\n",
    "                ratio = (update_std / data_std).log10().item()\n",
    "                ud.append(ratio)\n",
    "\n",
    "            update_to_data.append(\n",
    "                ud\n",
    "            )\n",
    "\n",
    "    #     break\n",
    "    # break\n",
    "\n",
    "# messy because of mini-batching ! \n",
    "px.scatter(\n",
    "    x=stepi,\n",
    "    y=lossi,\n",
    "    labels={'x': 'Step', 'y': 'Loss'},\n",
    "    title='Loss over time',\n",
    ")\n"
   ]
  },
  {
   "cell_type": "code",
   "execution_count": 713,
   "id": "4a1d7436",
   "metadata": {},
   "outputs": [
    {
     "name": "stdout",
     "output_type": "stream",
     "text": [
      "Embedding out: torch.Size([4, 8, 10])\n",
      "Flatten out: torch.Size([4, 80])\n",
      "Linear out: torch.Size([4, 68])\n",
      "BatchNorm1D out: torch.Size([4, 68])\n",
      "Tanh out: torch.Size([4, 68])\n",
      "Flatten out: N/A\n",
      "Linear out: N/A\n",
      "BatchNorm1D out: N/A\n",
      "Tanh out: N/A\n",
      "Linear out: N/A\n"
     ]
    }
   ],
   "source": [
    "for layer in model.layers:\n",
    "    print(f\"{layer.__class__.__name__} out: {layer.out.shape if hasattr(layer, 'out') else 'N/A'}\")"
   ]
  },
  {
   "cell_type": "markdown",
   "id": "9758c58c",
   "metadata": {},
   "source": [
    "### further advanced diagnosing"
   ]
  },
  {
   "cell_type": "code",
   "execution_count": 638,
   "id": "82727260",
   "metadata": {},
   "outputs": [
    {
     "name": "stdout",
     "output_type": "stream",
     "text": [
      "Layer 4 (Tanh): mean=-0.00, std=0.60, saturation=4.6875%\n",
      "Layer 8 (Tanh): mean=-0.01, std=0.62, saturation=1.654411792755127%\n",
      "Layer 12 (Tanh): mean=0.00, std=0.63, saturation=0.0%\n"
     ]
    },
    {
     "data": {
      "image/png": "[encoded data removed]",
      "text/plain": [
       "<Figure size 2000x500 with 1 Axes>"
      ]
     },
     "metadata": {},
     "output_type": "display_data"
    }
   ],
   "source": [
    "plt.figure(figsize=(20, 5))\n",
    "\n",
    "with torch.no_grad():\n",
    "    legends = []\n",
    "    for i, layer in enumerate(model.layers[:-1]):\n",
    "        if isinstance(layer, Tanh):\n",
    "            t = layer.out\n",
    "            sat = ((t.abs() > 0.97).float().mean() * 100).item()\n",
    "            print(f\"Layer {i} ({layer.__class__.__name__}): mean={t.mean().item():.2f}, std={t.std().item():.2f}, saturation={sat}%\")\n",
    "            hy, hx = torch.histogram(t, density=True)\n",
    "            plt.plot(hx[:-1].detach(), hy)\n",
    "            legends.append(f\"Layer {i} ({layer.__class__.__name__}), sat={sat:.2f}%\")\n",
    "\n",
    "    plt.legend(legends)\n",
    "    plt.title('Activation distribution after each Tanh layer')"
   ]
  },
  {
   "cell_type": "code",
   "execution_count": 639,
   "id": "7efd595c",
   "metadata": {},
   "outputs": [
    {
     "name": "stdout",
     "output_type": "stream",
     "text": [
      "Layer 4 (Tanh): mean=+0.000000, std=1.397865e-03\n",
      "Layer 8 (Tanh): mean=+0.000000, std=1.119016e-03\n",
      "Layer 12 (Tanh): mean=+0.000080, std=7.074190e-04\n"
     ]
    },
    {
     "data": {
      "image/png": "[encoded data removed]",
      "text/plain": [
       "<Figure size 2000x500 with 1 Axes>"
      ]
     },
     "metadata": {},
     "output_type": "display_data"
    }
   ],
   "source": [
    "plt.figure(figsize=(20, 5))\n",
    "\n",
    "with torch.no_grad():\n",
    "    legends = []\n",
    "    for i, layer in enumerate(model.layers[:-1]):\n",
    "        if isinstance(layer, Tanh):\n",
    "            t = layer.out.grad\n",
    "            print(f\"Layer {i} ({layer.__class__.__name__}): mean={t.mean():+f}, std={t.std().item():e}\")\n",
    "            hy, hx = torch.histogram(t, density=True)\n",
    "            plt.plot(hx[:-1].detach(), hy)\n",
    "            legends.append(f\"Layer {i} ({layer.__class__.__name__})\")\n",
    "\n",
    "    plt.legend(legends)\n",
    "    plt.title('Grad distribution after each Tanh layer')"
   ]
  },
  {
   "cell_type": "code",
   "execution_count": 637,
   "id": "a338aec7",
   "metadata": {},
   "outputs": [
    {
     "data": {
      "image/png": "[encoded data removed]",
      "text/plain": [
       "<Figure size 2000x500 with 1 Axes>"
      ]
     },
     "metadata": {},
     "output_type": "display_data"
    }
   ],
   "source": [
    "plt.figure(figsize=(20, 5))\n",
    "\n",
    "with torch.no_grad():\n",
    "    legends = []\n",
    "    for i, p in enumerate(parameters):  # skip the embedding layer\n",
    "        if p.ndim == 2:\n",
    "            t = [update_to_data[j][i] for j in range(len(update_to_data))] \n",
    "            plt.plot(t, alpha=0.5)\n",
    "            legends.append(f\"param {i}\")\n",
    "\n",
    "    plt.legend(legends)\n",
    "    plt.plot([0, len(update_to_data)], [-3, -3], 'r--', label='no change')\n",
    "    plt.title('Update to data ratio (log10) for each parameter over time')"
   ]
  },
  {
   "cell_type": "markdown",
   "id": "2012fb9c",
   "metadata": {},
   "source": [
    "### testing saturations of tan activation layer"
   ]
  },
  {
   "cell_type": "code",
   "execution_count": 2529,
   "id": "62acbe3a",
   "metadata": {},
   "outputs": [
    {
     "data": {
      "text/plain": [
       "tensor([[-2.9104e+00,  1.8555e+00,  6.5978e-01,  1.3854e+00,  6.9671e-01,\n",
       "          3.0344e-01, -9.1748e-01,  2.9278e-01, -1.1114e-01, -4.8818e-01,\n",
       "          1.1668e+00,  1.8022e+00,  8.1740e-01,  1.0714e+00, -3.4607e-01,\n",
       "         -8.7019e-01,  8.2669e-03, -1.2423e+00,  2.6792e-01,  8.9973e-01,\n",
       "          8.9404e-01, -2.5276e+00, -1.3419e-01, -9.8564e-01, -1.4805e+00,\n",
       "         -4.6349e-01,  2.8415e-01],\n",
       "        [-2.5742e+00,  1.1168e+00, -6.4988e-01,  4.0651e-03,  1.1800e+00,\n",
       "         -3.3220e-01, -1.2812e+00, -1.8933e+00, -4.8580e-01,  7.0783e-01,\n",
       "         -2.0370e+00, -2.3834e-01,  3.4653e+00,  2.4778e+00,  7.3373e-01,\n",
       "         -3.1634e-01, -9.8955e-01, -3.1055e+00,  1.7774e+00,  2.6363e+00,\n",
       "          6.5595e-01, -3.3434e-01,  2.2892e+00, -1.9956e+00, -2.1272e+00,\n",
       "          1.9714e-01,  1.1452e+00],\n",
       "        [-5.3371e-01,  3.3006e+00,  1.1467e+00, -6.1233e-01, -4.5722e-02,\n",
       "          2.5580e+00, -2.6690e+00, -9.7845e-01, -2.5248e-01,  3.5161e+00,\n",
       "         -1.5908e+00, -1.0048e+00, -1.4299e-01,  2.7399e+00,  4.0095e-02,\n",
       "          1.3704e+00, -8.1086e-01, -2.6766e+00,  8.4352e-01,  8.5764e-01,\n",
       "         -1.7962e-01, -3.2963e-01, -1.2776e+00, -6.6367e-01, -2.2079e+00,\n",
       "          1.5132e+00, -1.8422e+00],\n",
       "        [ 1.9662e+00,  4.7453e+00, -2.2212e-01, -2.2020e+00, -4.0309e-01,\n",
       "          4.1238e+00, -3.2477e+00, -2.3589e+00, -9.1142e-02,  4.5888e+00,\n",
       "         -2.4242e+00, -1.1895e+00,  7.4879e-01,  6.5434e-01,  8.4534e-01,\n",
       "          2.5749e+00, -2.5250e+00, -4.3193e+00,  2.7336e+00,  1.1678e-01,\n",
       "         -6.9676e-01,  1.0707e+00, -2.1848e+00, -1.3175e+00, -1.9960e+00,\n",
       "          2.9659e+00, -1.9895e+00],\n",
       "        [ 3.1572e+00,  4.2143e-01, -5.0090e-01, -1.3482e+00,  5.8263e-01,\n",
       "          4.7793e-01, -2.5859e+00, -2.9399e-01,  2.4438e+00,  6.4593e-01,\n",
       "         -1.7131e+00, -1.9090e-01,  2.6010e+00,  1.5964e+00,  1.6710e+00,\n",
       "         -2.3030e+00, -2.2537e+00, -2.7201e+00,  2.9521e+00,  1.8736e+00,\n",
       "         -8.0119e-02, -1.9261e+00, -2.9233e-01, -1.7709e+00, -1.7390e+00,\n",
       "          1.3029e+00,  1.7771e-02],\n",
       "        [-2.9104e+00,  1.8555e+00,  6.5978e-01,  1.3854e+00,  6.9671e-01,\n",
       "          3.0344e-01, -9.1748e-01,  2.9278e-01, -1.1114e-01, -4.8818e-01,\n",
       "          1.1668e+00,  1.8022e+00,  8.1740e-01,  1.0714e+00, -3.4607e-01,\n",
       "         -8.7019e-01,  8.2669e-03, -1.2423e+00,  2.6792e-01,  8.9973e-01,\n",
       "          8.9404e-01, -2.5276e+00, -1.3419e-01, -9.8564e-01, -1.4805e+00,\n",
       "         -4.6349e-01,  2.8415e-01],\n",
       "        [-2.0420e+00,  1.9899e+00,  1.5149e-01,  8.8873e-01,  5.1829e-01,\n",
       "          3.7642e-01, -1.0629e+00, -6.4770e-01,  2.4117e-01, -8.0747e-01,\n",
       "         -1.0640e+00,  4.6460e-01,  2.8621e+00,  1.2616e+00,  6.7623e-01,\n",
       "         -6.3399e-02, -4.2250e-01, -2.7174e+00,  2.3612e+00,  1.8866e+00,\n",
       "         -1.3362e-01, -5.8007e-01,  7.1635e-02, -1.7850e+00, -2.0277e+00,\n",
       "         -9.1761e-01,  5.0871e-01],\n",
       "        [-2.3030e+00,  2.9045e+00, -4.3193e-01, -1.1484e-01,  5.3199e-01,\n",
       "          1.9354e+00, -1.5832e-01, -1.3182e+00, -2.2424e+00,  2.5772e+00,\n",
       "         -1.2424e+00, -1.3157e+00,  1.1363e+00, -1.0337e+00,  1.5854e-01,\n",
       "          2.3931e+00, -8.2716e-01, -1.5974e+00, -6.1965e-01, -5.6466e-02,\n",
       "         -8.3542e-01,  2.9342e+00, -5.6145e-01,  5.8846e-03, -1.2468e+00,\n",
       "          2.0911e+00, -7.4933e-01],\n",
       "        [ 1.9441e+00,  2.3737e+00, -1.3456e+00, -1.2889e+00, -3.3907e-01,\n",
       "          3.7987e+00, -7.4163e-01, -8.3410e-01, -8.7634e-01,  2.9588e-01,\n",
       "         -1.3952e+00, -5.9960e-01,  4.5986e-01,  2.5876e-01,  2.6492e+00,\n",
       "          3.6321e-01, -1.1405e+00, -2.1788e+00,  1.4717e-01,  2.5087e+00,\n",
       "          1.1758e+00, -1.8009e+00, -6.9975e-01, -2.4167e+00, -1.3136e+00,\n",
       "          1.5275e+00, -4.8187e-01],\n",
       "        [ 3.6307e+00,  4.4347e+00, -1.0659e+00, -1.9095e+00, -4.5530e-01,\n",
       "          4.0656e+00, -3.6077e+00, -1.6886e+00,  1.3553e+00,  5.0452e+00,\n",
       "         -1.9333e+00, -3.3384e-01,  9.5141e-01, -1.6003e+00, -1.8754e-01,\n",
       "          2.0874e+00, -1.6564e+00, -3.3418e+00, -3.2960e-01,  1.4516e+00,\n",
       "          1.2146e+00, -1.2092e+00, -2.2125e+00, -2.1108e+00, -2.5564e+00,\n",
       "          3.2343e+00, -1.3506e+00],\n",
       "        [ 2.7109e+00,  4.3104e+00, -2.2816e+00, -1.3210e-01, -7.5220e-01,\n",
       "          4.3184e+00, -1.6234e+00, -1.2975e+00,  5.8865e-01,  1.0707e+00,\n",
       "         -1.4711e+00,  1.0430e+00,  5.7444e-01, -7.9706e-01,  2.5180e+00,\n",
       "          1.3374e+00, -1.6858e+00, -2.6240e+00, -2.3902e-01,  5.2577e-01,\n",
       "          1.8013e+00, -1.2622e+00, -1.8669e+00, -3.1073e+00, -2.0642e+00,\n",
       "          1.8109e+00, -1.3669e+00],\n",
       "        [ 5.4101e+00, -3.7452e-01, -6.3572e-01,  8.2771e-02, -2.7627e-01,\n",
       "         -4.1245e-02, -2.4824e+00, -5.3022e-01,  4.5575e+00, -3.1777e-01,\n",
       "         -1.5420e+00, -8.7982e-02,  1.3950e+00,  6.6933e-01,  4.1412e+00,\n",
       "         -2.1265e+00, -1.5711e+00, -2.2925e+00,  9.2618e-01,  1.3999e+00,\n",
       "          4.5370e-01, -2.0798e+00, -2.7479e-01, -1.8706e+00, -1.9559e+00,\n",
       "         -1.2384e-01, -5.2084e-01],\n",
       "        [-2.9104e+00,  1.8555e+00,  6.5978e-01,  1.3854e+00,  6.9671e-01,\n",
       "          3.0344e-01, -9.1748e-01,  2.9278e-01, -1.1114e-01, -4.8818e-01,\n",
       "          1.1668e+00,  1.8022e+00,  8.1740e-01,  1.0714e+00, -3.4607e-01,\n",
       "         -8.7019e-01,  8.2669e-03, -1.2423e+00,  2.6792e-01,  8.9973e-01,\n",
       "          8.9404e-01, -2.5276e+00, -1.3419e-01, -9.8564e-01, -1.4805e+00,\n",
       "         -4.6349e-01,  2.8415e-01],\n",
       "        [-2.6823e+00,  1.0438e+00,  1.6508e-01, -8.4755e-01,  1.3356e+00,\n",
       "         -5.4490e-01, -1.0186e+00, -1.6953e+00,  1.9319e-01,  5.7909e-01,\n",
       "         -1.4390e+00,  6.5257e-02,  2.0687e+00,  1.9805e+00,  1.4858e+00,\n",
       "         -1.3824e+00, -2.0010e+00, -2.7545e+00,  2.0372e+00,  1.9926e+00,\n",
       "          3.4486e-01,  3.0949e-01,  1.3687e+00, -1.8067e+00, -1.7831e+00,\n",
       "          1.2398e+00,  1.7575e+00],\n",
       "        [ 1.2053e+00,  4.1204e+00, -8.1868e-01, -1.9930e+00, -5.3529e-03,\n",
       "          4.3265e+00, -3.1316e+00, -2.6719e+00,  1.6663e+00,  4.2267e+00,\n",
       "         -2.3488e+00, -1.5566e+00,  2.0801e+00, -3.0130e-02, -8.3714e-01,\n",
       "          2.3102e+00, -1.3608e+00, -3.7027e+00,  1.8690e+00,  9.2460e-01,\n",
       "          3.1397e-01, -7.5591e-01, -1.1210e+00, -9.1288e-01, -3.1145e+00,\n",
       "          2.5791e+00, -1.2720e+00],\n",
       "        [ 2.7695e+00,  7.9419e-01,  4.7504e-01, -8.2145e-01,  1.7440e-03,\n",
       "          7.3470e-01, -1.4718e+00, -1.6266e+00,  7.9747e-01,  5.5727e-01,\n",
       "         -1.5511e+00, -1.0456e+00,  3.7065e+00,  6.5661e-01,  3.1301e+00,\n",
       "         -1.3139e+00, -1.8644e+00, -3.0259e+00,  2.5618e+00,  1.0542e+00,\n",
       "         -1.3009e-02, -1.1255e+00, -6.4796e-01, -2.2542e+00, -1.3445e+00,\n",
       "          1.5156e+00, -6.7466e-01],\n",
       "        [-2.9104e+00,  1.8555e+00,  6.5978e-01,  1.3854e+00,  6.9671e-01,\n",
       "          3.0344e-01, -9.1748e-01,  2.9278e-01, -1.1114e-01, -4.8818e-01,\n",
       "          1.1668e+00,  1.8022e+00,  8.1740e-01,  1.0714e+00, -3.4607e-01,\n",
       "         -8.7019e-01,  8.2669e-03, -1.2423e+00,  2.6792e-01,  8.9973e-01,\n",
       "          8.9404e-01, -2.5276e+00, -1.3419e-01, -9.8564e-01, -1.4805e+00,\n",
       "         -4.6349e-01,  2.8415e-01],\n",
       "        [-1.9785e+00,  2.2423e+00, -1.2869e+00, -6.4745e-02,  1.3417e+00,\n",
       "          8.1779e-01, -9.9219e-01, -4.6094e-01, -8.8062e-01, -3.0070e-01,\n",
       "         -1.7181e+00,  1.0780e-01,  1.5184e+00,  1.5766e+00,  1.2737e+00,\n",
       "         -7.4699e-02, -1.8150e+00, -2.8819e+00,  1.6538e+00,  2.9683e+00,\n",
       "          1.5445e+00, -5.1142e-01,  6.3236e-01, -2.4882e+00, -2.2336e+00,\n",
       "          2.5754e-01,  1.8497e+00],\n",
       "        [ 1.7979e+00,  3.3380e+00, -8.9311e-01, -3.9436e-01, -6.7457e-01,\n",
       "          2.3572e+00, -2.6735e+00, -1.3229e+00,  3.1248e+00,  1.0826e+00,\n",
       "         -2.0368e+00, -1.0142e+00,  1.9893e+00,  1.4142e+00,  1.8276e-01,\n",
       "          1.3377e+00, -5.4009e-01, -3.6323e+00,  3.3118e-01,  1.9477e+00,\n",
       "          2.4901e+00, -1.2991e+00, -6.9101e-01, -2.1048e+00, -4.3577e+00,\n",
       "          3.8486e-01, -1.1751e-01],\n",
       "        [ 3.8943e+00,  1.3461e+00,  1.1189e+00, -8.5260e-01, -3.2581e-01,\n",
       "          1.2283e+00, -1.1892e+00, -8.2503e-01,  1.6655e+00,  3.0334e-01,\n",
       "         -1.2101e+00, -7.5910e-01,  1.3486e+00,  8.2738e-01,  2.4653e+00,\n",
       "         -1.7586e+00, -8.2012e-01, -2.1361e+00,  1.2894e+00,  6.0220e-01,\n",
       "          1.5151e-01, -6.7626e-01, -1.2246e+00, -1.1903e+00, -2.3521e+00,\n",
       "          5.0000e-01, -1.4486e+00],\n",
       "        [ 1.9450e+00,  2.7611e+00, -1.0297e+00, -1.5876e+00, -3.6836e-02,\n",
       "          5.3699e+00, -3.6888e+00, -2.2241e+00,  2.1410e+00,  3.5954e+00,\n",
       "         -2.5694e+00, -4.0993e-01,  1.8610e+00, -5.1481e-01,  1.5818e-01,\n",
       "          1.9004e+00, -1.5853e+00, -3.7755e+00,  2.7166e+00,  6.8084e-01,\n",
       "          3.4468e-01, -1.0666e+00, -1.3991e+00, -1.0402e+00, -2.0489e+00,\n",
       "          1.9815e+00, -2.5337e+00],\n",
       "        [ 3.4058e+00,  5.1748e-01, -3.6754e-01, -1.1848e+00,  7.5114e-01,\n",
       "          1.9176e+00, -1.7625e+00, -7.5654e-01,  7.9620e-02,  2.8509e-01,\n",
       "         -1.9498e+00, -9.7729e-01,  4.4327e+00, -1.9873e-01,  1.5956e+00,\n",
       "         -6.9208e-01, -2.3287e+00, -2.9843e+00,  2.0354e+00,  1.4375e+00,\n",
       "          1.9966e+00, -2.8343e+00, -7.0806e-01, -2.6078e+00, -4.6607e-01,\n",
       "          1.5300e+00, -1.8687e-01],\n",
       "        [ 3.2177e+00,  2.9788e+00, -1.3242e+00, -1.3904e+00,  5.3613e-01,\n",
       "          2.1300e+00, -1.7109e+00, -9.7199e-01, -1.0958e+00,  2.6497e+00,\n",
       "         -1.8568e+00, -4.3857e-01,  4.8363e+00,  4.7289e-03, -8.4527e-01,\n",
       "          8.7307e-01, -1.9483e+00, -3.0933e+00, -3.8643e-01,  1.3538e+00,\n",
       "          1.4966e+00, -1.8711e+00,  3.2063e-02, -2.7315e+00, -2.8245e+00,\n",
       "          2.9788e+00, -6.2619e-01],\n",
       "        [ 4.1052e+00,  5.4430e+00, -1.0886e+00, -4.1041e-01, -1.1740e+00,\n",
       "          5.2263e+00, -1.8393e+00, -2.1566e+00, -2.7721e-01,  3.3034e+00,\n",
       "         -1.3692e+00, -1.6825e+00,  1.4923e+00, -1.5004e+00,  6.0425e-01,\n",
       "          2.4871e+00, -1.6130e+00, -2.9375e+00, -1.6865e+00,  2.2063e-01,\n",
       "         -3.1563e-01, -5.3976e-02, -1.3432e+00, -2.5435e+00, -2.0201e+00,\n",
       "          2.5567e+00, -1.4744e+00],\n",
       "        [ 5.5296e+00, -2.7057e-01,  3.3466e-01, -1.7469e+00, -9.5510e-01,\n",
       "          1.0273e+00, -2.0061e+00, -1.5049e+00,  3.5712e+00,  5.8507e-01,\n",
       "         -1.5923e+00, -5.4632e-01,  1.4239e+00,  1.5175e+00,  3.3222e+00,\n",
       "         -2.1723e+00, -1.3323e+00, -2.3844e+00,  1.7667e+00,  1.6144e+00,\n",
       "          6.1147e-02, -2.3857e+00, -6.2373e-01, -1.5534e+00, -1.6572e+00,\n",
       "          1.1695e+00, -1.3129e+00],\n",
       "        [-2.9104e+00,  1.8555e+00,  6.5978e-01,  1.3854e+00,  6.9671e-01,\n",
       "          3.0344e-01, -9.1748e-01,  2.9278e-01, -1.1114e-01, -4.8818e-01,\n",
       "          1.1668e+00,  1.8022e+00,  8.1740e-01,  1.0714e+00, -3.4607e-01,\n",
       "         -8.7019e-01,  8.2669e-03, -1.2423e+00,  2.6792e-01,  8.9973e-01,\n",
       "          8.9404e-01, -2.5276e+00, -1.3419e-01, -9.8564e-01, -1.4805e+00,\n",
       "         -4.6349e-01,  2.8415e-01],\n",
       "        [ 3.3545e-04,  4.3937e+00, -1.6994e+00,  3.1129e-01, -1.3637e+00,\n",
       "          2.7259e+00, -3.2951e+00, -1.5942e+00,  3.3616e+00,  2.1311e+00,\n",
       "         -2.0103e+00,  2.0162e-01,  6.2897e-01, -4.7118e-01, -1.1886e+00,\n",
       "          2.0700e+00, -1.3533e+00, -2.8818e+00,  9.1970e-02, -4.0976e-01,\n",
       "          2.2836e+00,  1.5596e+00, -1.1321e+00, -5.6848e-01, -3.0741e+00,\n",
       "          1.3631e+00, -6.6966e-02],\n",
       "        [-7.5598e-01,  1.0302e+00,  1.8877e-01,  3.1946e-01, -7.8777e-02,\n",
       "         -1.9890e-02, -3.2823e-01, -7.9572e-01,  1.2347e-01, -7.2237e-01,\n",
       "         -1.7383e+00, -1.6933e+00,  3.0073e+00,  5.6748e-01,  2.1584e+00,\n",
       "          6.7219e-01,  8.6639e-01, -2.7037e+00,  2.1140e+00,  7.5516e-01,\n",
       "         -5.0130e-01,  5.7610e-01,  9.0508e-01, -5.6767e-01, -2.1306e+00,\n",
       "         -5.3605e-01, -7.4674e-01],\n",
       "        [ 1.9938e+00,  8.9283e-01, -1.5907e+00,  6.6877e-02, -1.3560e+00,\n",
       "          1.7290e+00, -1.8579e+00, -1.0013e+00,  3.9228e+00,  1.3959e+00,\n",
       "         -1.4681e+00,  8.1490e-01,  3.2060e-01, -8.1850e-01, -4.6514e-01,\n",
       "          3.0384e-01, -1.2072e-01, -1.7357e+00,  7.4058e-01,  1.5518e-01,\n",
       "          2.3255e+00, -7.0175e-01, -7.4784e-01, -8.0624e-02, -2.6755e+00,\n",
       "          4.4393e-01, -5.3589e-01],\n",
       "        [ 4.2234e+00,  3.9096e+00, -3.5509e-01, -2.1867e+00, -1.0193e+00,\n",
       "          4.2987e+00, -2.9223e+00, -2.9614e+00,  1.2789e+00,  3.8657e+00,\n",
       "         -2.6367e+00, -2.3352e+00,  1.9125e+00,  1.5872e-01,  2.1018e-01,\n",
       "          2.4884e+00, -1.4464e+00, -4.1288e+00,  3.5525e-01,  1.0097e+00,\n",
       "          4.2219e-01,  1.3859e+00, -1.0258e+00, -1.4269e+00, -3.7112e+00,\n",
       "          2.4220e+00, -1.7907e+00],\n",
       "        [ 2.1996e+00,  2.4924e+00, -1.2653e+00, -1.5385e+00,  8.7766e-01,\n",
       "          2.0087e+00, -8.3866e-01, -2.7315e-02, -1.7670e+00,  5.5858e-01,\n",
       "         -1.5458e+00,  3.3546e-01,  1.5123e+00,  1.0625e+00,  1.7529e+00,\n",
       "         -5.7422e-01, -1.4702e+00, -2.3186e+00,  2.0464e+00,  1.4921e+00,\n",
       "          1.3118e+00, -1.3940e+00, -8.3711e-01, -2.3757e+00, -2.1373e+00,\n",
       "          8.6600e-01, -3.4720e-01],\n",
       "        [ 4.7698e+00, -9.4635e-02, -1.4765e-01, -7.2281e-01, -3.8275e-01,\n",
       "         -3.8516e-01, -1.8716e+00,  3.6538e-01,  3.5707e+00, -3.8019e-01,\n",
       "         -1.3408e+00, -8.2659e-01,  1.5974e+00,  1.4039e+00,  3.3329e+00,\n",
       "         -1.8591e+00, -1.2476e+00, -2.2255e+00,  1.7820e+00,  1.5637e+00,\n",
       "         -2.1586e-01, -1.3193e+00, -5.9427e-01, -1.7691e+00, -2.1576e+00,\n",
       "          2.8024e-02, -8.7271e-01]], grad_fn=<AddBackward0>)"
      ]
     },
     "execution_count": 2529,
     "metadata": {},
     "output_type": "execute_result"
    }
   ],
   "source": [
    "forward(Xtr[:32])"
   ]
  },
  {
   "cell_type": "code",
   "execution_count": 2530,
   "id": "6a74e4ea",
   "metadata": {},
   "outputs": [
    {
     "data": {
      "text/plain": [
       "(array([ 3.87256813,  0.        ,  0.        ,  3.87256813,  0.        ,\n",
       "         0.        ,  3.87256813,  7.74513627,  7.74513627, 19.36284067,\n",
       "        19.36284067, 11.6177044 , 15.49027254, 19.36284067, 30.98054508,\n",
       "        30.98054508, 27.10797694, 38.72568135, 11.6177044 , 61.96109016,\n",
       "        15.49027254, 34.85311321, 61.96109016, 73.57879456, 42.59824948,\n",
       "        30.98054508, 38.72568135, 46.47081762, 15.49027254, 11.6177044 ,\n",
       "         7.74513627, 19.36284067,  3.87256813, 19.36284067,  3.87256813,\n",
       "         7.74513627, 11.6177044 ,  3.87256813,  7.74513627,  0.        ,\n",
       "         0.        ,  0.        ,  0.        ,  0.        ,  0.        ,\n",
       "         0.        ,  0.        ,  0.        ,  0.        ,  3.87256813]),\n",
       " array([-0.02910206, -0.02781092, -0.02651979, -0.02522866, -0.02393753,\n",
       "        -0.02264639, -0.02135526, -0.02006413, -0.01877299, -0.01748186,\n",
       "        -0.01619073, -0.0148996 , -0.01360846, -0.01231733, -0.0110262 ,\n",
       "        -0.00973506, -0.00844393, -0.0071528 , -0.00586167, -0.00457053,\n",
       "        -0.0032794 , -0.00198827, -0.00069713,  0.000594  ,  0.00188513,\n",
       "         0.00317626,  0.0044674 ,  0.00575853,  0.00704966,  0.0083408 ,\n",
       "         0.00963193,  0.01092306,  0.01221419,  0.01350533,  0.01479646,\n",
       "         0.01608759,  0.01737873,  0.01866986,  0.01996099,  0.02125212,\n",
       "         0.02254326,  0.02383439,  0.02512552,  0.02641666,  0.02770779,\n",
       "         0.02899892,  0.03029005,  0.03158119,  0.03287232,  0.03416345,\n",
       "         0.03545459]),\n",
       " <BarContainer object of 50 artists>)"
      ]
     },
     "execution_count": 2530,
     "metadata": {},
     "output_type": "execute_result"
    },
    {
     "data": {
      "image/png": "[encoded data removed]",
      "text/plain": [
       "<Figure size 640x480 with 1 Axes>"
      ]
     },
     "metadata": {},
     "output_type": "display_data"
    }
   ],
   "source": [
    "plt.hist(b1.tolist(), bins=50, density=True)"
   ]
  },
  {
   "cell_type": "code",
   "execution_count": 2531,
   "id": "5f03481f",
   "metadata": {},
   "outputs": [
    {
     "data": {
      "text/plain": [
       "(array([0.00777308, 0.00388654, 0.        , 0.01165962, 0.0194327 ,\n",
       "        0.04275195, 0.05441157, 0.08939044, 0.0855039 , 0.12048276,\n",
       "        0.17878087, 0.17100779, 0.27594439, 0.37310791, 0.48581759,\n",
       "        0.57909457, 0.71512349, 0.77730815, 0.82006009, 1.09211795,\n",
       "        1.09989103, 1.06102562, 1.26701228, 1.2592392 , 1.30199115,\n",
       "        1.37194888, 1.24369303, 1.2786719 , 1.08823141, 1.06491216,\n",
       "        1.049366  , 0.83560626, 0.67237155, 0.63350614, 0.47804451,\n",
       "        0.38476753, 0.3148098 , 0.26039823, 0.18655396, 0.19821358,\n",
       "        0.12048276, 0.08161736, 0.06218465, 0.03497887, 0.01554616,\n",
       "        0.03109233, 0.01165962, 0.00388654, 0.        , 0.00388654]),\n",
       " array([-1.0618794 , -1.01899636, -0.97611332, -0.93323029, -0.89034725,\n",
       "        -0.84746422, -0.80458118, -0.76169814, -0.71881511, -0.67593207,\n",
       "        -0.63304904, -0.590166  , -0.54728296, -0.50439993, -0.46151689,\n",
       "        -0.41863385, -0.37575082, -0.33286778, -0.28998475, -0.24710171,\n",
       "        -0.20421867, -0.16133564, -0.1184526 , -0.07556957, -0.03268653,\n",
       "         0.01019651,  0.05307954,  0.09596258,  0.13884562,  0.18172865,\n",
       "         0.22461169,  0.26749472,  0.31037776,  0.3532608 ,  0.39614383,\n",
       "         0.43902687,  0.4819099 ,  0.52479294,  0.56767598,  0.61055901,\n",
       "         0.65344205,  0.69632509,  0.73920812,  0.78209116,  0.82497419,\n",
       "         0.86785723,  0.91074027,  0.9536233 ,  0.99650634,  1.03938937,\n",
       "         1.08227241]),\n",
       " <BarContainer object of 50 artists>)"
      ]
     },
     "execution_count": 2531,
     "metadata": {},
     "output_type": "execute_result"
    },
    {
     "data": {
      "image/png": "[encoded data removed]",
      "text/plain": [
       "<Figure size 640x480 with 1 Axes>"
      ]
     },
     "metadata": {},
     "output_type": "display_data"
    }
   ],
   "source": [
    "plt.hist(W1.view(-1).tolist(), bins=50, density=True)"
   ]
  },
  {
   "cell_type": "code",
   "execution_count": 935,
   "id": "05fb40b5",
   "metadata": {},
   "outputs": [
    {
     "data": {
      "text/plain": [
       "(array([0.04194876, 0.        , 0.09228726, 0.        , 0.04194876,\n",
       "        0.        , 0.09228726, 0.17618478, 0.18457453, 0.14262577,\n",
       "        0.35236955, 0.22652328, 0.04194876, 0.29364129, 0.28525154,\n",
       "        0.42787731, 0.30203105, 0.09228726, 0.41948756, 0.45304657,\n",
       "        0.        , 0.55372358, 0.10067702, 0.52855433, 0.61245184,\n",
       "        0.16779503, 0.20974378, 0.09228726, 0.17618478, 0.20135403,\n",
       "        0.05033851, 0.3104208 , 0.49499532, 0.04194876, 0.12584627,\n",
       "        0.06711801, 0.11745652, 0.09228726, 0.02516925, 0.05033851,\n",
       "        0.05033851, 0.09228726, 0.04194876, 0.        , 0.        ,\n",
       "        0.08389751, 0.05033851, 0.        , 0.02516925, 0.02516925]),\n",
       " array([-2.7587657 , -2.63460628, -2.51044685, -2.38628743, -2.26212801,\n",
       "        -2.13796859, -2.01380917, -1.88964974, -1.76549032, -1.6413309 ,\n",
       "        -1.51717148, -1.39301206, -1.26885263, -1.14469321, -1.02053379,\n",
       "        -0.89637437, -0.77221495, -0.64805552, -0.5238961 , -0.39973668,\n",
       "        -0.27557726, -0.15141784, -0.02725842,  0.09690101,  0.22106043,\n",
       "         0.34521985,  0.46937927,  0.59353869,  0.71769812,  0.84185754,\n",
       "         0.96601696,  1.09017638,  1.2143358 ,  1.33849523,  1.46265465,\n",
       "         1.58681407,  1.71097349,  1.83513291,  1.95929234,  2.08345176,\n",
       "         2.20761118,  2.3317706 ,  2.45593002,  2.58008945,  2.70424887,\n",
       "         2.82840829,  2.95256771,  3.07672713,  3.20088655,  3.32504598,\n",
       "         3.4492054 ]),\n",
       " <BarContainer object of 50 artists>)"
      ]
     },
     "execution_count": 935,
     "metadata": {},
     "output_type": "execute_result"
    },
    {
     "data": {
      "image/png": "[encoded data removed]",
      "text/plain": [
       "<Figure size 640x480 with 1 Axes>"
      ]
     },
     "metadata": {},
     "output_type": "display_data"
    }
   ],
   "source": [
    "plt.hist(input.view(-1).tolist(), bins=50, density=True)"
   ]
  },
  {
   "cell_type": "code",
   "execution_count": 936,
   "id": "43f59ec9",
   "metadata": {},
   "outputs": [
    {
     "data": {
      "text/plain": [
       "(array([5.64587736e-05, 8.46881604e-05, 2.54064481e-04, 1.41146934e-04,\n",
       "        3.38752642e-04, 7.62193444e-04, 1.32678118e-03, 2.68179175e-03,\n",
       "        4.43201373e-03, 6.88797038e-03, 1.26749947e-02, 1.89136892e-02,\n",
       "        2.83987631e-02, 4.01986468e-02, 6.07496404e-02, 8.81886044e-02,\n",
       "        1.15175898e-01, 1.47809069e-01, 1.84394355e-01, 2.36872785e-01,\n",
       "        2.75095374e-01, 3.10551484e-01, 3.47898963e-01, 3.73615934e-01,\n",
       "        3.89537309e-01, 4.00546769e-01, 3.90610025e-01, 3.71018831e-01,\n",
       "        3.41632039e-01, 3.05808947e-01, 2.69760020e-01, 2.22447568e-01,\n",
       "        1.86596247e-01, 1.47978446e-01, 1.07723340e-01, 8.14700103e-02,\n",
       "        5.87735833e-02, 4.14125105e-02, 2.66485412e-02, 1.83208720e-02,\n",
       "        1.13482135e-02, 6.94442916e-03, 4.06503170e-03, 2.45595665e-03,\n",
       "        1.52438689e-03, 9.59799152e-04, 3.95211415e-04, 2.82293868e-04,\n",
       "        2.82293868e-05, 8.46881604e-05]),\n",
       " array([-4.50710917, -4.32998878, -4.15286839, -3.975748  , -3.79862761,\n",
       "        -3.62150722, -3.44438683, -3.26726644, -3.09014605, -2.91302566,\n",
       "        -2.73590527, -2.55878488, -2.38166449, -2.2045441 , -2.02742371,\n",
       "        -1.85030332, -1.67318293, -1.49606254, -1.31894215, -1.14182176,\n",
       "        -0.96470137, -0.78758098, -0.61046059, -0.4333402 , -0.25621981,\n",
       "        -0.07909942,  0.09802097,  0.27514136,  0.45226175,  0.62938214,\n",
       "         0.80650253,  0.98362292,  1.16074331,  1.3378637 ,  1.51498409,\n",
       "         1.69210448,  1.86922487,  2.04634526,  2.22346565,  2.40058604,\n",
       "         2.57770643,  2.75482682,  2.93194721,  3.1090676 ,  3.28618799,\n",
       "         3.46330838,  3.64042877,  3.81754916,  3.99466955,  4.17178994,\n",
       "         4.34891033]),\n",
       " <BarContainer object of 50 artists>)"
      ]
     },
     "execution_count": 936,
     "metadata": {},
     "output_type": "execute_result"
    },
    {
     "data": {
      "image/png": "[encoded data removed]",
      "text/plain": [
       "<Figure size 640x480 with 1 Axes>"
      ]
     },
     "metadata": {},
     "output_type": "display_data"
    }
   ],
   "source": [
    "plt.hist(torch.randn((1000, n_hidden)).view(-1).tolist(), bins=50, density=True)"
   ]
  },
  {
   "cell_type": "code",
   "execution_count": 937,
   "id": "137a8cec",
   "metadata": {},
   "outputs": [
    {
     "data": {
      "text/plain": [
       "(array([0.00101755, 0.00101755, 0.00508776, 0.0020351 , 0.0040702 ,\n",
       "        0.0040702 , 0.00814041, 0.00508776, 0.01424572, 0.03256164,\n",
       "        0.03256164, 0.04273715, 0.05393021, 0.06817593, 0.11193063,\n",
       "        0.11905349, 0.13228165, 0.13024655, 0.20249268, 0.24930004,\n",
       "        0.26456331, 0.31238821, 0.33375679, 0.44059966, 0.46909109,\n",
       "        0.55151274, 0.50470538, 0.36631842, 0.33579189, 0.28593188,\n",
       "        0.30526535, 0.2126682 , 0.18722942, 0.14856247, 0.13838696,\n",
       "        0.11498328, 0.07224613, 0.06715838, 0.04986001, 0.04070205,\n",
       "        0.02645633, 0.01628082, 0.01526327, 0.01322817, 0.00915796,\n",
       "        0.00508776, 0.0020351 , 0.00101755, 0.00101755, 0.00101755]),\n",
       " array([-3.89014745, -3.73659252, -3.58303759, -3.42948266, -3.27592772,\n",
       "        -3.12237279, -2.96881786, -2.81526293, -2.661708  , -2.50815307,\n",
       "        -2.35459814, -2.20104321, -2.04748828, -1.89393335, -1.74037842,\n",
       "        -1.58682349, -1.43326856, -1.27971363, -1.1261587 , -0.97260376,\n",
       "        -0.81904883, -0.6654939 , -0.51193897, -0.35838404, -0.20482911,\n",
       "        -0.05127418,  0.10228075,  0.25583568,  0.40939061,  0.56294554,\n",
       "         0.71650047,  0.8700554 ,  1.02361033,  1.17716527,  1.3307202 ,\n",
       "         1.48427513,  1.63783006,  1.79138499,  1.94493992,  2.09849485,\n",
       "         2.25204978,  2.40560471,  2.55915964,  2.71271457,  2.8662695 ,\n",
       "         3.01982443,  3.17337936,  3.32693429,  3.48048923,  3.63404416,\n",
       "         3.78759909]),\n",
       " <BarContainer object of 50 artists>)"
      ]
     },
     "execution_count": 937,
     "metadata": {},
     "output_type": "execute_result"
    },
    {
     "data": {
      "image/png": "[encoded data removed]",
      "text/plain": [
       "<Figure size 640x480 with 1 Axes>"
      ]
     },
     "metadata": {},
     "output_type": "display_data"
    }
   ],
   "source": [
    "plt.hist(normalized.view(-1).tolist(), bins=50, density=True)"
   ]
  },
  {
   "cell_type": "code",
   "execution_count": 938,
   "id": "b3ff2f6b",
   "metadata": {},
   "outputs": [
    {
     "data": {
      "text/plain": [
       "(tensor(-1.6391e-09, grad_fn=<MeanBackward0>),\n",
       " tensor(1.0000, grad_fn=<MeanBackward0>))"
      ]
     },
     "execution_count": 938,
     "metadata": {},
     "output_type": "execute_result"
    }
   ],
   "source": [
    "# basically every input is now as if drawn from a normal distribution per all 200 neurons\n",
    "normalized.mean(), normalized.std(0).mean()"
   ]
  },
  {
   "cell_type": "code",
   "execution_count": 851,
   "id": "fca68158",
   "metadata": {},
   "outputs": [
    {
     "data": {
      "text/plain": [
       "(array([1.94922084, 0.82031338, 0.6562507 , 0.53125057, 0.49609428,\n",
       "        0.44921923, 0.46093799, 0.35937539, 0.39453167, 0.38671916,\n",
       "        0.37109415, 0.32812535, 0.30468783, 0.28906281, 0.30468783,\n",
       "        0.24609401, 0.28515656, 0.39453167, 0.40234418, 0.35546913,\n",
       "        0.46484425, 0.44140672, 0.43359422, 0.5117193 , 0.50390679,\n",
       "        0.44140672, 0.42187545, 0.57812562, 0.50000054, 0.5117193 ,\n",
       "        0.53515682, 0.45312549, 0.39062542, 0.35156288, 0.29687532,\n",
       "        0.29687532, 0.42968796, 0.28906281, 0.2812503 , 0.34375037,\n",
       "        0.33593786, 0.35937539, 0.39062542, 0.35546913, 0.43750047,\n",
       "        0.53906308, 0.6484382 , 0.68359448, 0.93359475, 2.0546897 ]),\n",
       " array([-9.99998093e-01, -9.59998136e-01, -9.19998178e-01, -8.79998221e-01,\n",
       "        -8.39998264e-01, -7.99998307e-01, -7.59998350e-01, -7.19998393e-01,\n",
       "        -6.79998436e-01, -6.39998479e-01, -5.99998522e-01, -5.59998565e-01,\n",
       "        -5.19998608e-01, -4.79998651e-01, -4.39998693e-01, -3.99998736e-01,\n",
       "        -3.59998779e-01, -3.19998822e-01, -2.79998865e-01, -2.39998908e-01,\n",
       "        -1.99998951e-01, -1.59998994e-01, -1.19999037e-01, -7.99990797e-02,\n",
       "        -3.99991226e-02,  8.34465027e-07,  4.00007915e-02,  8.00007486e-02,\n",
       "         1.20000706e-01,  1.60000663e-01,  2.00000620e-01,  2.40000577e-01,\n",
       "         2.80000534e-01,  3.20000491e-01,  3.60000448e-01,  4.00000405e-01,\n",
       "         4.40000362e-01,  4.80000319e-01,  5.20000277e-01,  5.60000234e-01,\n",
       "         6.00000191e-01,  6.40000148e-01,  6.80000105e-01,  7.20000062e-01,\n",
       "         7.60000019e-01,  7.99999976e-01,  8.39999933e-01,  8.79999890e-01,\n",
       "         9.19999847e-01,  9.59999804e-01,  9.99999762e-01]),\n",
       " <BarContainer object of 50 artists>)"
      ]
     },
     "execution_count": 851,
     "metadata": {},
     "output_type": "execute_result"
    },
    {
     "data": {
      "image/png": "[encoded data removed]",
      "text/plain": [
       "<Figure size 640x480 with 1 Axes>"
      ]
     },
     "metadata": {},
     "output_type": "display_data"
    }
   ],
   "source": [
    "plt.hist(h.view(-1).tolist(), bins=50, density=True)"
   ]
  },
  {
   "cell_type": "code",
   "execution_count": 852,
   "id": "6a5a6f87",
   "metadata": {},
   "outputs": [
    {
     "data": {
      "text/plain": [
       "(tensor([0, 0, 0]), tensor(1))"
      ]
     },
     "execution_count": 852,
     "metadata": {},
     "output_type": "execute_result"
    }
   ],
   "source": [
    "# TODO: do i want these 'empty' examples? \n",
    "Xdev[19], Ydev[19]"
   ]
  },
  {
   "cell_type": "code",
   "execution_count": 839,
   "id": "0206edb6",
   "metadata": {},
   "outputs": [
    {
     "data": {
      "text/plain": [
       "(tensor([ 1,  2,  3,  4,  5,  6,  7,  8, 10, 12, 13, 14, 16, 17, 18, 19]),\n",
       " tensor([[ 0, 26, 21],\n",
       "         [26, 21,  8],\n",
       "         [21,  8,  1],\n",
       "         [ 8,  1,  9],\n",
       "         [ 1,  9,  2],\n",
       "         [ 0,  0,  0],\n",
       "         [ 0,  0, 26],\n",
       "         [ 0, 26, 21],\n",
       "         [21, 18,  9],\n",
       "         [ 9,  3,  8],\n",
       "         [ 0,  0,  0],\n",
       "         [ 0,  0, 26],\n",
       "         [26, 25, 12],\n",
       "         [25, 12,  5],\n",
       "         [12,  5, 14],\n",
       "         [ 0,  0,  0]]),\n",
       " tensor([ 8,  1,  9,  2,  0, 26, 21, 18,  3,  0, 26, 25,  5, 14,  0,  1]))"
      ]
     },
     "execution_count": 839,
     "metadata": {},
     "output_type": "execute_result"
    }
   ],
   "source": [
    "# Calculate the percentage of values > 0.99 for each row\n",
    "saturation_percentage = (h[:100].abs() > 0.99).float().mean(dim=1)\n",
    "\n",
    "# Find indices where less than 20% of values are > 0.99 (i.e., 80%+ are <= 0.99)\n",
    "low_saturation_indices = torch.where(saturation_percentage < 0.1)[0]\n",
    "\n",
    "low_saturation_indices, Xdev[low_saturation_indices], Ydev[low_saturation_indices]"
   ]
  },
  {
   "cell_type": "code",
   "execution_count": 840,
   "id": "cf1b83f1",
   "metadata": {},
   "outputs": [
    {
     "data": {
      "text/plain": [
       "<matplotlib.image.AxesImage at 0x34188bc50>"
      ]
     },
     "execution_count": 840,
     "metadata": {},
     "output_type": "execute_result"
    },
    {
     "data": {
      "image/png": "[encoded data removed]",
      "text/plain": [
       "<Figure size 2000x1000 with 1 Axes>"
      ]
     },
     "metadata": {},
     "output_type": "display_data"
    }
   ],
   "source": [
    "plt.figure(figsize=(20, 10))\n",
    "plt.imshow(h[:100].abs() > 0.99, cmap='gray', interpolation='nearest')\n",
    "\n",
    "# why does the above follow some sort of pattern? is it the '...' examples at the beginning of each sample? \n",
    "# it seems to indeed be those examples with identical inputs that produce these patterns."
   ]
  },
  {
   "cell_type": "markdown",
   "id": "88d772c8",
   "metadata": {},
   "source": [
    "## Evaluate performance"
   ]
  },
  {
   "cell_type": "code",
   "execution_count": 238,
   "id": "dfa5d4ef",
   "metadata": {},
   "outputs": [],
   "source": [
    "for layer in model.layers:\n",
    "    if isinstance(layer, BatchNorm1D):\n",
    "        layer.training = False  # set to inference mode"
   ]
  },
  {
   "cell_type": "code",
   "execution_count": 163,
   "id": "a532617b",
   "metadata": {},
   "outputs": [
    {
     "data": {
      "application/vnd.plotly.v1+json": {
       "config": {
        "plotlyServerURL": "https://plot.ly"
       },
       "data": [
        {
         "hovertemplate": "x=%{x}<br>y=%{y}<extra></extra>",
         "legendgroup": "",
         "marker": {
          "color": "#636efa",
          "symbol": "circle"
         },
         "mode": "markers",
         "name": "",
         "orientation": "v",
         "showlegend": false,
         "type": "scatter",
         "x": {
          "bdata": "AA==",
          "dtype": "i1"
         },
         "xaxis": "x",
         "y": {
          "bdata": "AAAAINZ2CkA=",
          "dtype": "f8"
         },
         "yaxis": "y"
        },
        {
         "hovertemplate": "<extra></extra>",
         "legendgroup": "",
         "marker": {
          "color": "#636efa",
          "symbol": "circle"
         },
         "mode": "lines",
         "name": "",
         "showlegend": false,
         "type": "scatter",
         "xaxis": "x",
         "yaxis": "y"
        }
       ],
       "layout": {
        "legend": {
         "tracegroupgap": 0
        },
        "margin": {
         "t": 60
        },
        "template": {
         "data": {
          "bar": [
           {
            "error_x": {
             "color": "#2a3f5f"
            },
            "error_y": {
             "color": "#2a3f5f"
            },
            "marker": {
             "line": {
              "color": "#E5ECF6",
              "width": 0.5
             },
             "pattern": {
              "fillmode": "overlay",
              "size": 10,
              "solidity": 0.2
             }
            },
            "type": "bar"
           }
          ],
          "barpolar": [
           {
            "marker": {
             "line": {
              "color": "#E5ECF6",
              "width": 0.5
             },
             "pattern": {
              "fillmode": "overlay",
              "size": 10,
              "solidity": 0.2
             }
            },
            "type": "barpolar"
           }
          ],
          "carpet": [
           {
            "aaxis": {
             "endlinecolor": "#2a3f5f",
             "gridcolor": "white",
             "linecolor": "white",
             "minorgridcolor": "white",
             "startlinecolor": "#2a3f5f"
            },
            "baxis": {
             "endlinecolor": "#2a3f5f",
             "gridcolor": "white",
             "linecolor": "white",
             "minorgridcolor": "white",
             "startlinecolor": "#2a3f5f"
            },
            "type": "carpet"
           }
          ],
          "choropleth": [
           {
            "colorbar": {
             "outlinewidth": 0,
             "ticks": ""
            },
            "type": "choropleth"
           }
          ],
          "contour": [
           {
            "colorbar": {
             "outlinewidth": 0,
             "ticks": ""
            },
            "colorscale": [
             [
              0,
              "#0d0887"
             ],
             [
              0.1111111111111111,
              "#46039f"
             ],
             [
              0.2222222222222222,
              "#7201a8"
             ],
             [
              0.3333333333333333,
              "#9c179e"
             ],
             [
              0.4444444444444444,
              "#bd3786"
             ],
             [
              0.5555555555555556,
              "#d8576b"
             ],
             [
              0.6666666666666666,
              "#ed7953"
             ],
             [
              0.7777777777777778,
              "#fb9f3a"
             ],
             [
              0.8888888888888888,
              "#fdca26"
             ],
             [
              1,
              "#f0f921"
             ]
            ],
            "type": "contour"
           }
          ],
          "contourcarpet": [
           {
            "colorbar": {
             "outlinewidth": 0,
             "ticks": ""
            },
            "type": "contourcarpet"
           }
          ],
          "heatmap": [
           {
            "colorbar": {
             "outlinewidth": 0,
             "ticks": ""
            },
            "colorscale": [
             [
              0,
              "#0d0887"
             ],
             [
              0.1111111111111111,
              "#46039f"
             ],
             [
              0.2222222222222222,
              "#7201a8"
             ],
             [
              0.3333333333333333,
              "#9c179e"
             ],
             [
              0.4444444444444444,
              "#bd3786"
             ],
             [
              0.5555555555555556,
              "#d8576b"
             ],
             [
              0.6666666666666666,
              "#ed7953"
             ],
             [
              0.7777777777777778,
              "#fb9f3a"
             ],
             [
              0.8888888888888888,
              "#fdca26"
             ],
             [
              1,
              "#f0f921"
             ]
            ],
            "type": "heatmap"
           }
          ],
          "histogram": [
           {
            "marker": {
             "pattern": {
              "fillmode": "overlay",
              "size": 10,
              "solidity": 0.2
             }
            },
            "type": "histogram"
           }
          ],
          "histogram2d": [
           {
            "colorbar": {
             "outlinewidth": 0,
             "ticks": ""
            },
            "colorscale": [
             [
              0,
              "#0d0887"
             ],
             [
              0.1111111111111111,
              "#46039f"
             ],
             [
              0.2222222222222222,
              "#7201a8"
             ],
             [
              0.3333333333333333,
              "#9c179e"
             ],
             [
              0.4444444444444444,
              "#bd3786"
             ],
             [
              0.5555555555555556,
              "#d8576b"
             ],
             [
              0.6666666666666666,
              "#ed7953"
             ],
             [
              0.7777777777777778,
              "#fb9f3a"
             ],
             [
              0.8888888888888888,
              "#fdca26"
             ],
             [
              1,
              "#f0f921"
             ]
            ],
            "type": "histogram2d"
           }
          ],
          "histogram2dcontour": [
           {
            "colorbar": {
             "outlinewidth": 0,
             "ticks": ""
            },
            "colorscale": [
             [
              0,
              "#0d0887"
             ],
             [
              0.1111111111111111,
              "#46039f"
             ],
             [
              0.2222222222222222,
              "#7201a8"
             ],
             [
              0.3333333333333333,
              "#9c179e"
             ],
             [
              0.4444444444444444,
              "#bd3786"
             ],
             [
              0.5555555555555556,
              "#d8576b"
             ],
             [
              0.6666666666666666,
              "#ed7953"
             ],
             [
              0.7777777777777778,
              "#fb9f3a"
             ],
             [
              0.8888888888888888,
              "#fdca26"
             ],
             [
              1,
              "#f0f921"
             ]
            ],
            "type": "histogram2dcontour"
           }
          ],
          "mesh3d": [
           {
            "colorbar": {
             "outlinewidth": 0,
             "ticks": ""
            },
            "type": "mesh3d"
           }
          ],
          "parcoords": [
           {
            "line": {
             "colorbar": {
              "outlinewidth": 0,
              "ticks": ""
             }
            },
            "type": "parcoords"
           }
          ],
          "pie": [
           {
            "automargin": true,
            "type": "pie"
           }
          ],
          "scatter": [
           {
            "fillpattern": {
             "fillmode": "overlay",
             "size": 10,
             "solidity": 0.2
            },
            "type": "scatter"
           }
          ],
          "scatter3d": [
           {
            "line": {
             "colorbar": {
              "outlinewidth": 0,
              "ticks": ""
             }
            },
            "marker": {
             "colorbar": {
              "outlinewidth": 0,
              "ticks": ""
             }
            },
            "type": "scatter3d"
           }
          ],
          "scattercarpet": [
           {
            "marker": {
             "colorbar": {
              "outlinewidth": 0,
              "ticks": ""
             }
            },
            "type": "scattercarpet"
           }
          ],
          "scattergeo": [
           {
            "marker": {
             "colorbar": {
              "outlinewidth": 0,
              "ticks": ""
             }
            },
            "type": "scattergeo"
           }
          ],
          "scattergl": [
           {
            "marker": {
             "colorbar": {
              "outlinewidth": 0,
              "ticks": ""
             }
            },
            "type": "scattergl"
           }
          ],
          "scattermap": [
           {
            "marker": {
             "colorbar": {
              "outlinewidth": 0,
              "ticks": ""
             }
            },
            "type": "scattermap"
           }
          ],
          "scattermapbox": [
           {
            "marker": {
             "colorbar": {
              "outlinewidth": 0,
              "ticks": ""
             }
            },
            "type": "scattermapbox"
           }
          ],
          "scatterpolar": [
           {
            "marker": {
             "colorbar": {
              "outlinewidth": 0,
              "ticks": ""
             }
            },
            "type": "scatterpolar"
           }
          ],
          "scatterpolargl": [
           {
            "marker": {
             "colorbar": {
              "outlinewidth": 0,
              "ticks": ""
             }
            },
            "type": "scatterpolargl"
           }
          ],
          "scatterternary": [
           {
            "marker": {
             "colorbar": {
              "outlinewidth": 0,
              "ticks": ""
             }
            },
            "type": "scatterternary"
           }
          ],
          "surface": [
           {
            "colorbar": {
             "outlinewidth": 0,
             "ticks": ""
            },
            "colorscale": [
             [
              0,
              "#0d0887"
             ],
             [
              0.1111111111111111,
              "#46039f"
             ],
             [
              0.2222222222222222,
              "#7201a8"
             ],
             [
              0.3333333333333333,
              "#9c179e"
             ],
             [
              0.4444444444444444,
              "#bd3786"
             ],
             [
              0.5555555555555556,
              "#d8576b"
             ],
             [
              0.6666666666666666,
              "#ed7953"
             ],
             [
              0.7777777777777778,
              "#fb9f3a"
             ],
             [
              0.8888888888888888,
              "#fdca26"
             ],
             [
              1,
              "#f0f921"
             ]
            ],
            "type": "surface"
           }
          ],
          "table": [
           {
            "cells": {
             "fill": {
              "color": "#EBF0F8"
             },
             "line": {
              "color": "white"
             }
            },
            "header": {
             "fill": {
              "color": "#C8D4E3"
             },
             "line": {
              "color": "white"
             }
            },
            "type": "table"
           }
          ]
         },
         "layout": {
          "annotationdefaults": {
           "arrowcolor": "#2a3f5f",
           "arrowhead": 0,
           "arrowwidth": 1
          },
          "autotypenumbers": "strict",
          "coloraxis": {
           "colorbar": {
            "outlinewidth": 0,
            "ticks": ""
           }
          },
          "colorscale": {
           "diverging": [
            [
             0,
             "#8e0152"
            ],
            [
             0.1,
             "#c51b7d"
            ],
            [
             0.2,
             "#de77ae"
            ],
            [
             0.3,
             "#f1b6da"
            ],
            [
             0.4,
             "#fde0ef"
            ],
            [
             0.5,
             "#f7f7f7"
            ],
            [
             0.6,
             "#e6f5d0"
            ],
            [
             0.7,
             "#b8e186"
            ],
            [
             0.8,
             "#7fbc41"
            ],
            [
             0.9,
             "#4d9221"
            ],
            [
             1,
             "#276419"
            ]
           ],
           "sequential": [
            [
             0,
             "#0d0887"
            ],
            [
             0.1111111111111111,
             "#46039f"
            ],
            [
             0.2222222222222222,
             "#7201a8"
            ],
            [
             0.3333333333333333,
             "#9c179e"
            ],
            [
             0.4444444444444444,
             "#bd3786"
            ],
            [
             0.5555555555555556,
             "#d8576b"
            ],
            [
             0.6666666666666666,
             "#ed7953"
            ],
            [
             0.7777777777777778,
             "#fb9f3a"
            ],
            [
             0.8888888888888888,
             "#fdca26"
            ],
            [
             1,
             "#f0f921"
            ]
           ],
           "sequentialminus": [
            [
             0,
             "#0d0887"
            ],
            [
             0.1111111111111111,
             "#46039f"
            ],
            [
             0.2222222222222222,
             "#7201a8"
            ],
            [
             0.3333333333333333,
             "#9c179e"
            ],
            [
             0.4444444444444444,
             "#bd3786"
            ],
            [
             0.5555555555555556,
             "#d8576b"
            ],
            [
             0.6666666666666666,
             "#ed7953"
            ],
            [
             0.7777777777777778,
             "#fb9f3a"
            ],
            [
             0.8888888888888888,
             "#fdca26"
            ],
            [
             1,
             "#f0f921"
            ]
           ]
          },
          "colorway": [
           "#636efa",
           "#EF553B",
           "#00cc96",
           "#ab63fa",
           "#FFA15A",
           "#19d3f3",
           "#FF6692",
           "#B6E880",
           "#FF97FF",
           "#FECB52"
          ],
          "font": {
           "color": "#2a3f5f"
          },
          "geo": {
           "bgcolor": "white",
           "lakecolor": "white",
           "landcolor": "#E5ECF6",
           "showlakes": true,
           "showland": true,
           "subunitcolor": "white"
          },
          "hoverlabel": {
           "align": "left"
          },
          "hovermode": "closest",
          "mapbox": {
           "style": "light"
          },
          "paper_bgcolor": "white",
          "plot_bgcolor": "#E5ECF6",
          "polar": {
           "angularaxis": {
            "gridcolor": "white",
            "linecolor": "white",
            "ticks": ""
           },
           "bgcolor": "#E5ECF6",
           "radialaxis": {
            "gridcolor": "white",
            "linecolor": "white",
            "ticks": ""
           }
          },
          "scene": {
           "xaxis": {
            "backgroundcolor": "#E5ECF6",
            "gridcolor": "white",
            "gridwidth": 2,
            "linecolor": "white",
            "showbackground": true,
            "ticks": "",
            "zerolinecolor": "white"
           },
           "yaxis": {
            "backgroundcolor": "#E5ECF6",
            "gridcolor": "white",
            "gridwidth": 2,
            "linecolor": "white",
            "showbackground": true,
            "ticks": "",
            "zerolinecolor": "white"
           },
           "zaxis": {
            "backgroundcolor": "#E5ECF6",
            "gridcolor": "white",
            "gridwidth": 2,
            "linecolor": "white",
            "showbackground": true,
            "ticks": "",
            "zerolinecolor": "white"
           }
          },
          "shapedefaults": {
           "line": {
            "color": "#2a3f5f"
           }
          },
          "ternary": {
           "aaxis": {
            "gridcolor": "white",
            "linecolor": "white",
            "ticks": ""
           },
           "baxis": {
            "gridcolor": "white",
            "linecolor": "white",
            "ticks": ""
           },
           "bgcolor": "#E5ECF6",
           "caxis": {
            "gridcolor": "white",
            "linecolor": "white",
            "ticks": ""
           }
          },
          "title": {
           "x": 0.05
          },
          "xaxis": {
           "automargin": true,
           "gridcolor": "white",
           "linecolor": "white",
           "ticks": "",
           "title": {
            "standoff": 15
           },
           "zerolinecolor": "white",
           "zerolinewidth": 2
          },
          "yaxis": {
           "automargin": true,
           "gridcolor": "white",
           "linecolor": "white",
           "ticks": "",
           "title": {
            "standoff": 15
           },
           "zerolinecolor": "white",
           "zerolinewidth": 2
          }
         }
        },
        "xaxis": {
         "anchor": "y",
         "domain": [
          0,
          1
         ],
         "title": {
          "text": "x"
         }
        },
        "yaxis": {
         "anchor": "x",
         "domain": [
          0,
          1
         ],
         "title": {
          "text": "y"
         }
        }
       }
      }
     },
     "metadata": {},
     "output_type": "display_data"
    }
   ],
   "source": [
    "px.scatter(\n",
    "    x=range(len(lossdevi)),\n",
    "    y=lossdevi,\n",
    "    trendline='lowess'\n",
    ")\n"
   ]
  },
  {
   "cell_type": "code",
   "execution_count": 166,
   "id": "c02278c4",
   "metadata": {},
   "outputs": [
    {
     "data": {
      "text/plain": [
       "tensor(3.2443)"
      ]
     },
     "execution_count": 166,
     "metadata": {},
     "output_type": "execute_result"
    }
   ],
   "source": [
    "with torch.no_grad():\n",
    "    logits = forward(Xtr) \n",
    "    loss = F.cross_entropy(logits, Ytr)\n",
    "\n",
    "loss"
   ]
  },
  {
   "cell_type": "code",
   "execution_count": 167,
   "id": "88dc6cab",
   "metadata": {},
   "outputs": [
    {
     "data": {
      "text/plain": [
       "tensor(3.2382)"
      ]
     },
     "execution_count": 167,
     "metadata": {},
     "output_type": "execute_result"
    }
   ],
   "source": [
    "with torch.no_grad():\n",
    "    logits = forward(Xdev)\n",
    "    loss = F.cross_entropy(logits, Ydev)\n",
    "\n",
    "loss"
   ]
  },
  {
   "cell_type": "markdown",
   "id": "9cfa1689",
   "metadata": {},
   "source": [
    "If both losses are roughly equal, the network is likely underfitting. Once the training loss starts to sink below the dev loss, we are probably overfitting."
   ]
  },
  {
   "cell_type": "markdown",
   "id": "eee39a31",
   "metadata": {},
   "source": [
    "## Generate by forward pass"
   ]
  },
  {
   "cell_type": "code",
   "execution_count": 168,
   "id": "62a79a81",
   "metadata": {},
   "outputs": [],
   "source": [
    "g = torch.Generator().manual_seed(2147483647 + 10) # I suppose this is so that the generation is out of sample/different from the training one\n",
    "\n",
    "def gen(seed):\n",
    "    x = [stoi(ch) for ch in seed[-window:]]\n",
    "\n",
    "    x = torch.tensor(x).unsqueeze(0)\n",
    "\n",
    "    logits = forward(x) # don't use batch norm here\n",
    "    probs = F.softmax(logits, dim=1) \n",
    "    next = torch.multinomial(probs, num_samples=1).item()\n",
    "\n",
    "    ch = itos(next)\n",
    "    seed += ch\n",
    "\n",
    "    return seed\n"
   ]
  },
  {
   "cell_type": "code",
   "execution_count": 169,
   "id": "fb92c77c",
   "metadata": {},
   "outputs": [
    {
     "name": "stdout",
     "output_type": "stream",
     "text": [
      "....htuejouxfo.\n",
      "....skdgfmgsnncwchh.\n",
      "....m.\n",
      "....xcwvfnhkbfbpcgkhcmlfy.\n",
      "....kjfrpownjxgoapqecdmtbjdhcrkyj.\n",
      "....oqor.\n",
      "....gfxymckbeqpgscrbdisrrxgkycjwnjqqqnvtftrxdxfetnmgokeqcp.\n",
      "....fyxokaxemvobzz.\n",
      "....bay.\n",
      "....rf.\n"
     ]
    }
   ],
   "source": [
    "seed = special_char * window \n",
    "\n",
    "for i in range(10):\n",
    "    while True:\n",
    "        seed = gen(seed)\n",
    "        if seed[-1] == special_char:\n",
    "            print(seed)\n",
    "            seed = special_char * window\n",
    "            break\n"
   ]
  },
  {
   "cell_type": "markdown",
   "id": "fde34cda",
   "metadata": {},
   "source": [
    "### Question: does increasing the window size prevent super-long names that seemingly occured previously? \n",
    "\n",
    "Hypothesis: yes, because the model takes into account that if the past five letters are all chars, a dot is more likely. With three letters, there are a lot more examples where three chars =/= dot is more likely since the name is not ending yet.\n",
    "\n",
    "Test plan: generate a bunch of random samples of names after the model has been trained and compare the distribution of name lengths. "
   ]
  },
  {
   "cell_type": "markdown",
   "id": "f2623d2f",
   "metadata": {},
   "source": [
    "## Visualize vector embeddings"
   ]
  },
  {
   "cell_type": "code",
   "execution_count": 1856,
   "id": "b13873ce",
   "metadata": {},
   "outputs": [],
   "source": [
    "every = [stoi(ch) for ch in lookup]\n",
    "every = torch.tensor(every)\n",
    "\n",
    "embds = layers[0].parameters()[0][every].data"
   ]
  },
  {
   "cell_type": "markdown",
   "id": "ced272f1",
   "metadata": {},
   "source": [
    "### 2D"
   ]
  },
  {
   "cell_type": "code",
   "execution_count": 1857,
   "id": "e0836599",
   "metadata": {},
   "outputs": [
    {
     "data": {
      "application/vnd.plotly.v1+json": {
       "config": {
        "plotlyServerURL": "https://plot.ly"
       },
       "data": [
        {
         "hovertemplate": "0=%{x}<br>1=%{y}<br>size=%{marker.size}<br>text=%{text}<extra></extra>",
         "legendgroup": "",
         "marker": {
          "color": "#636efa",
          "size": {
           "bdata": "AQEBAQEBAQEBAQEBAQEBAQEBAQEBAQEBAQEB",
           "dtype": "i1"
          },
          "sizemode": "area",
          "sizeref": 0.0044444444444444444,
          "symbol": "circle"
         },
         "mode": "markers+text",
         "name": "",
         "orientation": "v",
         "showlegend": false,
         "text": [
          ".",
          "a",
          "b",
          "c",
          "d",
          "e",
          "f",
          "g",
          "h",
          "i",
          "j",
          "k",
          "l",
          "m",
          "n",
          "o",
          "p",
          "q",
          "r",
          "s",
          "t",
          "u",
          "v",
          "w",
          "x",
          "y",
          "z"
         ],
         "type": "scatter",
         "x": {
          "bdata": "jA69v9AuhD4myfy//Dx7vVSi/79AFBU/DWsJP11fGb+34sI/kE1GP8kznr5Ahcy89ADXvwukyj/wu4M/8A1uP9zjtj+GGvE/UZi6v1rmNj+aIZC/KlR5vyAtq76U16k/dI7Cvj9+KD/+XIQ+",
          "dtype": "f4"
         },
         "xaxis": "x",
         "y": {
          "bdata": "kA2pPg5s4r/dSJ2/E4SSPyI2nL7VCVk+J+cJQHW70D3RzhE/inOfvkFzDz92FpY/TzeLPrYyQz/B1/W+KNISwD2WcT4CB9u8WQvBPZ4T1D8LUri/k5sqwH0lv7+x8gW/1h3GP/w8AT8v0oA/",
          "dtype": "f4"
         },
         "yaxis": "y"
        }
       ],
       "layout": {
        "legend": {
         "itemsizing": "constant",
         "tracegroupgap": 0
        },
        "template": {
         "data": {
          "bar": [
           {
            "error_x": {
             "color": "#2a3f5f"
            },
            "error_y": {
             "color": "#2a3f5f"
            },
            "marker": {
             "line": {
              "color": "#E5ECF6",
              "width": 0.5
             },
             "pattern": {
              "fillmode": "overlay",
              "size": 10,
              "solidity": 0.2
             }
            },
            "type": "bar"
           }
          ],
          "barpolar": [
           {
            "marker": {
             "line": {
              "color": "#E5ECF6",
              "width": 0.5
             },
             "pattern": {
              "fillmode": "overlay",
              "size": 10,
              "solidity": 0.2
             }
            },
            "type": "barpolar"
           }
          ],
          "carpet": [
           {
            "aaxis": {
             "endlinecolor": "#2a3f5f",
             "gridcolor": "white",
             "linecolor": "white",
             "minorgridcolor": "white",
             "startlinecolor": "#2a3f5f"
            },
            "baxis": {
             "endlinecolor": "#2a3f5f",
             "gridcolor": "white",
             "linecolor": "white",
             "minorgridcolor": "white",
             "startlinecolor": "#2a3f5f"
            },
            "type": "carpet"
           }
          ],
          "choropleth": [
           {
            "colorbar": {
             "outlinewidth": 0,
             "ticks": ""
            },
            "type": "choropleth"
           }
          ],
          "contour": [
           {
            "colorbar": {
             "outlinewidth": 0,
             "ticks": ""
            },
            "colorscale": [
             [
              0,
              "#0d0887"
             ],
             [
              0.1111111111111111,
              "#46039f"
             ],
             [
              0.2222222222222222,
              "#7201a8"
             ],
             [
              0.3333333333333333,
              "#9c179e"
             ],
             [
              0.4444444444444444,
              "#bd3786"
             ],
             [
              0.5555555555555556,
              "#d8576b"
             ],
             [
              0.6666666666666666,
              "#ed7953"
             ],
             [
              0.7777777777777778,
              "#fb9f3a"
             ],
             [
              0.8888888888888888,
              "#fdca26"
             ],
             [
              1,
              "#f0f921"
             ]
            ],
            "type": "contour"
           }
          ],
          "contourcarpet": [
           {
            "colorbar": {
             "outlinewidth": 0,
             "ticks": ""
            },
            "type": "contourcarpet"
           }
          ],
          "heatmap": [
           {
            "colorbar": {
             "outlinewidth": 0,
             "ticks": ""
            },
            "colorscale": [
             [
              0,
              "#0d0887"
             ],
             [
              0.1111111111111111,
              "#46039f"
             ],
             [
              0.2222222222222222,
              "#7201a8"
             ],
             [
              0.3333333333333333,
              "#9c179e"
             ],
             [
              0.4444444444444444,
              "#bd3786"
             ],
             [
              0.5555555555555556,
              "#d8576b"
             ],
             [
              0.6666666666666666,
              "#ed7953"
             ],
             [
              0.7777777777777778,
              "#fb9f3a"
             ],
             [
              0.8888888888888888,
              "#fdca26"
             ],
             [
              1,
              "#f0f921"
             ]
            ],
            "type": "heatmap"
           }
          ],
          "histogram": [
           {
            "marker": {
             "pattern": {
              "fillmode": "overlay",
              "size": 10,
              "solidity": 0.2
             }
            },
            "type": "histogram"
           }
          ],
          "histogram2d": [
           {
            "colorbar": {
             "outlinewidth": 0,
             "ticks": ""
            },
            "colorscale": [
             [
              0,
              "#0d0887"
             ],
             [
              0.1111111111111111,
              "#46039f"
             ],
             [
              0.2222222222222222,
              "#7201a8"
             ],
             [
              0.3333333333333333,
              "#9c179e"
             ],
             [
              0.4444444444444444,
              "#bd3786"
             ],
             [
              0.5555555555555556,
              "#d8576b"
             ],
             [
              0.6666666666666666,
              "#ed7953"
             ],
             [
              0.7777777777777778,
              "#fb9f3a"
             ],
             [
              0.8888888888888888,
              "#fdca26"
             ],
             [
              1,
              "#f0f921"
             ]
            ],
            "type": "histogram2d"
           }
          ],
          "histogram2dcontour": [
           {
            "colorbar": {
             "outlinewidth": 0,
             "ticks": ""
            },
            "colorscale": [
             [
              0,
              "#0d0887"
             ],
             [
              0.1111111111111111,
              "#46039f"
             ],
             [
              0.2222222222222222,
              "#7201a8"
             ],
             [
              0.3333333333333333,
              "#9c179e"
             ],
             [
              0.4444444444444444,
              "#bd3786"
             ],
             [
              0.5555555555555556,
              "#d8576b"
             ],
             [
              0.6666666666666666,
              "#ed7953"
             ],
             [
              0.7777777777777778,
              "#fb9f3a"
             ],
             [
              0.8888888888888888,
              "#fdca26"
             ],
             [
              1,
              "#f0f921"
             ]
            ],
            "type": "histogram2dcontour"
           }
          ],
          "mesh3d": [
           {
            "colorbar": {
             "outlinewidth": 0,
             "ticks": ""
            },
            "type": "mesh3d"
           }
          ],
          "parcoords": [
           {
            "line": {
             "colorbar": {
              "outlinewidth": 0,
              "ticks": ""
             }
            },
            "type": "parcoords"
           }
          ],
          "pie": [
           {
            "automargin": true,
            "type": "pie"
           }
          ],
          "scatter": [
           {
            "fillpattern": {
             "fillmode": "overlay",
             "size": 10,
             "solidity": 0.2
            },
            "type": "scatter"
           }
          ],
          "scatter3d": [
           {
            "line": {
             "colorbar": {
              "outlinewidth": 0,
              "ticks": ""
             }
            },
            "marker": {
             "colorbar": {
              "outlinewidth": 0,
              "ticks": ""
             }
            },
            "type": "scatter3d"
           }
          ],
          "scattercarpet": [
           {
            "marker": {
             "colorbar": {
              "outlinewidth": 0,
              "ticks": ""
             }
            },
            "type": "scattercarpet"
           }
          ],
          "scattergeo": [
           {
            "marker": {
             "colorbar": {
              "outlinewidth": 0,
              "ticks": ""
             }
            },
            "type": "scattergeo"
           }
          ],
          "scattergl": [
           {
            "marker": {
             "colorbar": {
              "outlinewidth": 0,
              "ticks": ""
             }
            },
            "type": "scattergl"
           }
          ],
          "scattermap": [
           {
            "marker": {
             "colorbar": {
              "outlinewidth": 0,
              "ticks": ""
             }
            },
            "type": "scattermap"
           }
          ],
          "scattermapbox": [
           {
            "marker": {
             "colorbar": {
              "outlinewidth": 0,
              "ticks": ""
             }
            },
            "type": "scattermapbox"
           }
          ],
          "scatterpolar": [
           {
            "marker": {
             "colorbar": {
              "outlinewidth": 0,
              "ticks": ""
             }
            },
            "type": "scatterpolar"
           }
          ],
          "scatterpolargl": [
           {
            "marker": {
             "colorbar": {
              "outlinewidth": 0,
              "ticks": ""
             }
            },
            "type": "scatterpolargl"
           }
          ],
          "scatterternary": [
           {
            "marker": {
             "colorbar": {
              "outlinewidth": 0,
              "ticks": ""
             }
            },
            "type": "scatterternary"
           }
          ],
          "surface": [
           {
            "colorbar": {
             "outlinewidth": 0,
             "ticks": ""
            },
            "colorscale": [
             [
              0,
              "#0d0887"
             ],
             [
              0.1111111111111111,
              "#46039f"
             ],
             [
              0.2222222222222222,
              "#7201a8"
             ],
             [
              0.3333333333333333,
              "#9c179e"
             ],
             [
              0.4444444444444444,
              "#bd3786"
             ],
             [
              0.5555555555555556,
              "#d8576b"
             ],
             [
              0.6666666666666666,
              "#ed7953"
             ],
             [
              0.7777777777777778,
              "#fb9f3a"
             ],
             [
              0.8888888888888888,
              "#fdca26"
             ],
             [
              1,
              "#f0f921"
             ]
            ],
            "type": "surface"
           }
          ],
          "table": [
           {
            "cells": {
             "fill": {
              "color": "#EBF0F8"
             },
             "line": {
              "color": "white"
             }
            },
            "header": {
             "fill": {
              "color": "#C8D4E3"
             },
             "line": {
              "color": "white"
             }
            },
            "type": "table"
           }
          ]
         },
         "layout": {
          "annotationdefaults": {
           "arrowcolor": "#2a3f5f",
           "arrowhead": 0,
           "arrowwidth": 1
          },
          "autotypenumbers": "strict",
          "coloraxis": {
           "colorbar": {
            "outlinewidth": 0,
            "ticks": ""
           }
          },
          "colorscale": {
           "diverging": [
            [
             0,
             "#8e0152"
            ],
            [
             0.1,
             "#c51b7d"
            ],
            [
             0.2,
             "#de77ae"
            ],
            [
             0.3,
             "#f1b6da"
            ],
            [
             0.4,
             "#fde0ef"
            ],
            [
             0.5,
             "#f7f7f7"
            ],
            [
             0.6,
             "#e6f5d0"
            ],
            [
             0.7,
             "#b8e186"
            ],
            [
             0.8,
             "#7fbc41"
            ],
            [
             0.9,
             "#4d9221"
            ],
            [
             1,
             "#276419"
            ]
           ],
           "sequential": [
            [
             0,
             "#0d0887"
            ],
            [
             0.1111111111111111,
             "#46039f"
            ],
            [
             0.2222222222222222,
             "#7201a8"
            ],
            [
             0.3333333333333333,
             "#9c179e"
            ],
            [
             0.4444444444444444,
             "#bd3786"
            ],
            [
             0.5555555555555556,
             "#d8576b"
            ],
            [
             0.6666666666666666,
             "#ed7953"
            ],
            [
             0.7777777777777778,
             "#fb9f3a"
            ],
            [
             0.8888888888888888,
             "#fdca26"
            ],
            [
             1,
             "#f0f921"
            ]
           ],
           "sequentialminus": [
            [
             0,
             "#0d0887"
            ],
            [
             0.1111111111111111,
             "#46039f"
            ],
            [
             0.2222222222222222,
             "#7201a8"
            ],
            [
             0.3333333333333333,
             "#9c179e"
            ],
            [
             0.4444444444444444,
             "#bd3786"
            ],
            [
             0.5555555555555556,
             "#d8576b"
            ],
            [
             0.6666666666666666,
             "#ed7953"
            ],
            [
             0.7777777777777778,
             "#fb9f3a"
            ],
            [
             0.8888888888888888,
             "#fdca26"
            ],
            [
             1,
             "#f0f921"
            ]
           ]
          },
          "colorway": [
           "#636efa",
           "#EF553B",
           "#00cc96",
           "#ab63fa",
           "#FFA15A",
           "#19d3f3",
           "#FF6692",
           "#B6E880",
           "#FF97FF",
           "#FECB52"
          ],
          "font": {
           "color": "#2a3f5f"
          },
          "geo": {
           "bgcolor": "white",
           "lakecolor": "white",
           "landcolor": "#E5ECF6",
           "showlakes": true,
           "showland": true,
           "subunitcolor": "white"
          },
          "hoverlabel": {
           "align": "left"
          },
          "hovermode": "closest",
          "mapbox": {
           "style": "light"
          },
          "paper_bgcolor": "white",
          "plot_bgcolor": "#E5ECF6",
          "polar": {
           "angularaxis": {
            "gridcolor": "white",
            "linecolor": "white",
            "ticks": ""
           },
           "bgcolor": "#E5ECF6",
           "radialaxis": {
            "gridcolor": "white",
            "linecolor": "white",
            "ticks": ""
           }
          },
          "scene": {
           "xaxis": {
            "backgroundcolor": "#E5ECF6",
            "gridcolor": "white",
            "gridwidth": 2,
            "linecolor": "white",
            "showbackground": true,
            "ticks": "",
            "zerolinecolor": "white"
           },
           "yaxis": {
            "backgroundcolor": "#E5ECF6",
            "gridcolor": "white",
            "gridwidth": 2,
            "linecolor": "white",
            "showbackground": true,
            "ticks": "",
            "zerolinecolor": "white"
           },
           "zaxis": {
            "backgroundcolor": "#E5ECF6",
            "gridcolor": "white",
            "gridwidth": 2,
            "linecolor": "white",
            "showbackground": true,
            "ticks": "",
            "zerolinecolor": "white"
           }
          },
          "shapedefaults": {
           "line": {
            "color": "#2a3f5f"
           }
          },
          "ternary": {
           "aaxis": {
            "gridcolor": "white",
            "linecolor": "white",
            "ticks": ""
           },
           "baxis": {
            "gridcolor": "white",
            "linecolor": "white",
            "ticks": ""
           },
           "bgcolor": "#E5ECF6",
           "caxis": {
            "gridcolor": "white",
            "linecolor": "white",
            "ticks": ""
           }
          },
          "title": {
           "x": 0.05
          },
          "xaxis": {
           "automargin": true,
           "gridcolor": "white",
           "linecolor": "white",
           "ticks": "",
           "title": {
            "standoff": 15
           },
           "zerolinecolor": "white",
           "zerolinewidth": 2
          },
          "yaxis": {
           "automargin": true,
           "gridcolor": "white",
           "linecolor": "white",
           "ticks": "",
           "title": {
            "standoff": 15
           },
           "zerolinecolor": "white",
           "zerolinewidth": 2
          }
         }
        },
        "title": {
         "text": "Character embeddings"
        },
        "xaxis": {
         "anchor": "y",
         "domain": [
          0,
          1
         ],
         "title": {
          "text": "0"
         }
        },
        "yaxis": {
         "anchor": "x",
         "domain": [
          0,
          1
         ],
         "title": {
          "text": "1"
         }
        }
       }
      }
     },
     "metadata": {},
     "output_type": "display_data"
    }
   ],
   "source": [
    "px.scatter(embds, x=0, y=1, text=lookup, title='Character embeddings', size_max=15, size=[1] * len(embds))"
   ]
  },
  {
   "cell_type": "markdown",
   "id": "95866a3c",
   "metadata": {},
   "source": [
    "### PCA (any N dimensions)"
   ]
  },
  {
   "cell_type": "code",
   "execution_count": 1858,
   "id": "31c95ce8",
   "metadata": {},
   "outputs": [
    {
     "data": {
      "text/plain": [
       "(tensor([[-1.4770,  0.3302, -2.0293,  1.0561, -1.3640,  1.1961, -0.2253,  1.2900,\n",
       "          -1.2364,  0.2595]]),\n",
       " array([[-1.34618131,  0.28770979, -1.52010678,  0.72103092, -1.19270612,\n",
       "          1.19626837, -0.26574372,  1.78901721, -0.99270678, -0.07661438]]))"
      ]
     },
     "execution_count": 1858,
     "metadata": {},
     "output_type": "execute_result"
    }
   ],
   "source": [
    "from sklearn.preprocessing import StandardScaler\n",
    "\n",
    "# WOW! This step made a pretty huge difference on the PCA visualization!\n",
    "scaler = StandardScaler()\n",
    "\n",
    "embds_scaled = scaler.fit_transform(embds)\n",
    "embds[:1], embds_scaled[:1] # maintain proportion to each other within, but are now globally scaled across"
   ]
  },
  {
   "cell_type": "code",
   "execution_count": 1859,
   "id": "cbdeed3a",
   "metadata": {},
   "outputs": [
    {
     "data": {
      "text/plain": [
       "(torch.Size([27, 10]), (27, 10))"
      ]
     },
     "execution_count": 1859,
     "metadata": {},
     "output_type": "execute_result"
    }
   ],
   "source": [
    "embds.shape, embds_scaled.shape"
   ]
  },
  {
   "cell_type": "code",
   "execution_count": 1860,
   "id": "b4df4e39",
   "metadata": {},
   "outputs": [
    {
     "data": {
      "text/plain": [
       "(tensor([ 0.0404, -0.0078, -0.2792,  0.1616, -0.0980, -0.0124,  0.0992, -0.5778,\n",
       "         -0.0153,  0.3352]),\n",
       " tensor([1.1487, 1.1972, 1.1733, 1.2642, 1.0817, 1.0294, 1.2446, 1.0639, 1.2536,\n",
       "         1.0070]))"
      ]
     },
     "execution_count": 1860,
     "metadata": {},
     "output_type": "execute_result"
    }
   ],
   "source": [
    "embds.mean(0), embds.std(0)"
   ]
  },
  {
   "cell_type": "code",
   "execution_count": 1861,
   "id": "bbbc6f64",
   "metadata": {},
   "outputs": [
    {
     "data": {
      "text/plain": [
       "(array([-3.80354184e-17, -5.34551827e-17, -6.37350255e-17,  8.22387426e-18,\n",
       "         1.56767603e-17,  4.11193713e-18, -2.05596856e-18, -6.57909941e-17,\n",
       "         8.22387426e-18,  1.64477485e-17]),\n",
       " array([1., 1., 1., 1., 1., 1., 1., 1., 1., 1.]))"
      ]
     },
     "execution_count": 1861,
     "metadata": {},
     "output_type": "execute_result"
    }
   ],
   "source": [
    "embds_scaled.mean(0), embds_scaled.std(0)"
   ]
  },
  {
   "cell_type": "code",
   "execution_count": 1862,
   "id": "e3603888",
   "metadata": {},
   "outputs": [
    {
     "data": {
      "application/vnd.plotly.v1+json": {
       "config": {
        "plotlyServerURL": "https://plot.ly"
       },
       "data": [
        {
         "hovertemplate": "0=%{x}<br>1=%{y}<br>size=%{marker.size}<br>text=%{text}<extra></extra>",
         "legendgroup": "",
         "marker": {
          "color": "#636efa",
          "size": {
           "bdata": "AQEBAQEBAQEBAQEBAQEBAQEBAQEBAQEBAQEB",
           "dtype": "i1"
          },
          "sizemode": "area",
          "sizeref": 0.0044444444444444444,
          "symbol": "circle"
         },
         "mode": "markers+text",
         "name": "",
         "orientation": "v",
         "showlegend": false,
         "text": [
          ".",
          "a",
          "b",
          "c",
          "d",
          "e",
          "f",
          "g",
          "h",
          "i",
          "j",
          "k",
          "l",
          "m",
          "n",
          "o",
          "p",
          "q",
          "r",
          "s",
          "t",
          "u",
          "v",
          "w",
          "x",
          "y",
          "z"
         ],
         "type": "scatter",
         "x": {
          "bdata": "4LuxR9xD8z/Sz2jvcyu3v3b9rZJThwNAQ/YqqrzQ/L/RFAtqEhDkPydfxb583fY/NaM1zsoNo7+UZBiJOFrmv7QtODvat/S/M3LDImBH4j+c3gtegR35v7uMk9HSYfS/+rBxNdD53z+4R+LnqLrcP4E/BDokhOe/tFhWJBck9z/23GI1wqn/v1CGDM+C2OA/6wF1io7l1b//5s5JAEYHwM5j5nowr8I/ff3yYyHjCEBJ7Nfw2WjfPxjV8LSRHwBAsY93pdVG3L8gn+fTAgXlP3yi4sUMhwPA",
          "dtype": "f8"
         },
         "xaxis": "x",
         "y": {
          "bdata": "xxtWi8e44T+EmSLiUbrAv2JV+7PNX+g/gUEQULBCxr9dVxp038HoP4C+AWMkwu8/t0QNRhKJwj/rnqfF8P3rvzsOtHYD6uA/5agPGE8seL9+Ceji/3j0P9SKbNuzudG/lSVR9v4x8j9nQq9dxSAKwOdRV2eP47K/zvM6xd67oz9sLC7wA2MEwKCy6lwe6t2/X1q9hfRa9D+H/yLqlCrKP+scnnMg2/O/K7syQX1b5j/29CiNSzwCwGahiFY/3ALA1o+s9sSE/D+7MHlBRc0CQC0jircX1/I/",
          "dtype": "f8"
         },
         "yaxis": "y"
        }
       ],
       "layout": {
        "legend": {
         "itemsizing": "constant",
         "tracegroupgap": 0
        },
        "template": {
         "data": {
          "bar": [
           {
            "error_x": {
             "color": "#2a3f5f"
            },
            "error_y": {
             "color": "#2a3f5f"
            },
            "marker": {
             "line": {
              "color": "#E5ECF6",
              "width": 0.5
             },
             "pattern": {
              "fillmode": "overlay",
              "size": 10,
              "solidity": 0.2
             }
            },
            "type": "bar"
           }
          ],
          "barpolar": [
           {
            "marker": {
             "line": {
              "color": "#E5ECF6",
              "width": 0.5
             },
             "pattern": {
              "fillmode": "overlay",
              "size": 10,
              "solidity": 0.2
             }
            },
            "type": "barpolar"
           }
          ],
          "carpet": [
           {
            "aaxis": {
             "endlinecolor": "#2a3f5f",
             "gridcolor": "white",
             "linecolor": "white",
             "minorgridcolor": "white",
             "startlinecolor": "#2a3f5f"
            },
            "baxis": {
             "endlinecolor": "#2a3f5f",
             "gridcolor": "white",
             "linecolor": "white",
             "minorgridcolor": "white",
             "startlinecolor": "#2a3f5f"
            },
            "type": "carpet"
           }
          ],
          "choropleth": [
           {
            "colorbar": {
             "outlinewidth": 0,
             "ticks": ""
            },
            "type": "choropleth"
           }
          ],
          "contour": [
           {
            "colorbar": {
             "outlinewidth": 0,
             "ticks": ""
            },
            "colorscale": [
             [
              0,
              "#0d0887"
             ],
             [
              0.1111111111111111,
              "#46039f"
             ],
             [
              0.2222222222222222,
              "#7201a8"
             ],
             [
              0.3333333333333333,
              "#9c179e"
             ],
             [
              0.4444444444444444,
              "#bd3786"
             ],
             [
              0.5555555555555556,
              "#d8576b"
             ],
             [
              0.6666666666666666,
              "#ed7953"
             ],
             [
              0.7777777777777778,
              "#fb9f3a"
             ],
             [
              0.8888888888888888,
              "#fdca26"
             ],
             [
              1,
              "#f0f921"
             ]
            ],
            "type": "contour"
           }
          ],
          "contourcarpet": [
           {
            "colorbar": {
             "outlinewidth": 0,
             "ticks": ""
            },
            "type": "contourcarpet"
           }
          ],
          "heatmap": [
           {
            "colorbar": {
             "outlinewidth": 0,
             "ticks": ""
            },
            "colorscale": [
             [
              0,
              "#0d0887"
             ],
             [
              0.1111111111111111,
              "#46039f"
             ],
             [
              0.2222222222222222,
              "#7201a8"
             ],
             [
              0.3333333333333333,
              "#9c179e"
             ],
             [
              0.4444444444444444,
              "#bd3786"
             ],
             [
              0.5555555555555556,
              "#d8576b"
             ],
             [
              0.6666666666666666,
              "#ed7953"
             ],
             [
              0.7777777777777778,
              "#fb9f3a"
             ],
             [
              0.8888888888888888,
              "#fdca26"
             ],
             [
              1,
              "#f0f921"
             ]
            ],
            "type": "heatmap"
           }
          ],
          "histogram": [
           {
            "marker": {
             "pattern": {
              "fillmode": "overlay",
              "size": 10,
              "solidity": 0.2
             }
            },
            "type": "histogram"
           }
          ],
          "histogram2d": [
           {
            "colorbar": {
             "outlinewidth": 0,
             "ticks": ""
            },
            "colorscale": [
             [
              0,
              "#0d0887"
             ],
             [
              0.1111111111111111,
              "#46039f"
             ],
             [
              0.2222222222222222,
              "#7201a8"
             ],
             [
              0.3333333333333333,
              "#9c179e"
             ],
             [
              0.4444444444444444,
              "#bd3786"
             ],
             [
              0.5555555555555556,
              "#d8576b"
             ],
             [
              0.6666666666666666,
              "#ed7953"
             ],
             [
              0.7777777777777778,
              "#fb9f3a"
             ],
             [
              0.8888888888888888,
              "#fdca26"
             ],
             [
              1,
              "#f0f921"
             ]
            ],
            "type": "histogram2d"
           }
          ],
          "histogram2dcontour": [
           {
            "colorbar": {
             "outlinewidth": 0,
             "ticks": ""
            },
            "colorscale": [
             [
              0,
              "#0d0887"
             ],
             [
              0.1111111111111111,
              "#46039f"
             ],
             [
              0.2222222222222222,
              "#7201a8"
             ],
             [
              0.3333333333333333,
              "#9c179e"
             ],
             [
              0.4444444444444444,
              "#bd3786"
             ],
             [
              0.5555555555555556,
              "#d8576b"
             ],
             [
              0.6666666666666666,
              "#ed7953"
             ],
             [
              0.7777777777777778,
              "#fb9f3a"
             ],
             [
              0.8888888888888888,
              "#fdca26"
             ],
             [
              1,
              "#f0f921"
             ]
            ],
            "type": "histogram2dcontour"
           }
          ],
          "mesh3d": [
           {
            "colorbar": {
             "outlinewidth": 0,
             "ticks": ""
            },
            "type": "mesh3d"
           }
          ],
          "parcoords": [
           {
            "line": {
             "colorbar": {
              "outlinewidth": 0,
              "ticks": ""
             }
            },
            "type": "parcoords"
           }
          ],
          "pie": [
           {
            "automargin": true,
            "type": "pie"
           }
          ],
          "scatter": [
           {
            "fillpattern": {
             "fillmode": "overlay",
             "size": 10,
             "solidity": 0.2
            },
            "type": "scatter"
           }
          ],
          "scatter3d": [
           {
            "line": {
             "colorbar": {
              "outlinewidth": 0,
              "ticks": ""
             }
            },
            "marker": {
             "colorbar": {
              "outlinewidth": 0,
              "ticks": ""
             }
            },
            "type": "scatter3d"
           }
          ],
          "scattercarpet": [
           {
            "marker": {
             "colorbar": {
              "outlinewidth": 0,
              "ticks": ""
             }
            },
            "type": "scattercarpet"
           }
          ],
          "scattergeo": [
           {
            "marker": {
             "colorbar": {
              "outlinewidth": 0,
              "ticks": ""
             }
            },
            "type": "scattergeo"
           }
          ],
          "scattergl": [
           {
            "marker": {
             "colorbar": {
              "outlinewidth": 0,
              "ticks": ""
             }
            },
            "type": "scattergl"
           }
          ],
          "scattermap": [
           {
            "marker": {
             "colorbar": {
              "outlinewidth": 0,
              "ticks": ""
             }
            },
            "type": "scattermap"
           }
          ],
          "scattermapbox": [
           {
            "marker": {
             "colorbar": {
              "outlinewidth": 0,
              "ticks": ""
             }
            },
            "type": "scattermapbox"
           }
          ],
          "scatterpolar": [
           {
            "marker": {
             "colorbar": {
              "outlinewidth": 0,
              "ticks": ""
             }
            },
            "type": "scatterpolar"
           }
          ],
          "scatterpolargl": [
           {
            "marker": {
             "colorbar": {
              "outlinewidth": 0,
              "ticks": ""
             }
            },
            "type": "scatterpolargl"
           }
          ],
          "scatterternary": [
           {
            "marker": {
             "colorbar": {
              "outlinewidth": 0,
              "ticks": ""
             }
            },
            "type": "scatterternary"
           }
          ],
          "surface": [
           {
            "colorbar": {
             "outlinewidth": 0,
             "ticks": ""
            },
            "colorscale": [
             [
              0,
              "#0d0887"
             ],
             [
              0.1111111111111111,
              "#46039f"
             ],
             [
              0.2222222222222222,
              "#7201a8"
             ],
             [
              0.3333333333333333,
              "#9c179e"
             ],
             [
              0.4444444444444444,
              "#bd3786"
             ],
             [
              0.5555555555555556,
              "#d8576b"
             ],
             [
              0.6666666666666666,
              "#ed7953"
             ],
             [
              0.7777777777777778,
              "#fb9f3a"
             ],
             [
              0.8888888888888888,
              "#fdca26"
             ],
             [
              1,
              "#f0f921"
             ]
            ],
            "type": "surface"
           }
          ],
          "table": [
           {
            "cells": {
             "fill": {
              "color": "#EBF0F8"
             },
             "line": {
              "color": "white"
             }
            },
            "header": {
             "fill": {
              "color": "#C8D4E3"
             },
             "line": {
              "color": "white"
             }
            },
            "type": "table"
           }
          ]
         },
         "layout": {
          "annotationdefaults": {
           "arrowcolor": "#2a3f5f",
           "arrowhead": 0,
           "arrowwidth": 1
          },
          "autotypenumbers": "strict",
          "coloraxis": {
           "colorbar": {
            "outlinewidth": 0,
            "ticks": ""
           }
          },
          "colorscale": {
           "diverging": [
            [
             0,
             "#8e0152"
            ],
            [
             0.1,
             "#c51b7d"
            ],
            [
             0.2,
             "#de77ae"
            ],
            [
             0.3,
             "#f1b6da"
            ],
            [
             0.4,
             "#fde0ef"
            ],
            [
             0.5,
             "#f7f7f7"
            ],
            [
             0.6,
             "#e6f5d0"
            ],
            [
             0.7,
             "#b8e186"
            ],
            [
             0.8,
             "#7fbc41"
            ],
            [
             0.9,
             "#4d9221"
            ],
            [
             1,
             "#276419"
            ]
           ],
           "sequential": [
            [
             0,
             "#0d0887"
            ],
            [
             0.1111111111111111,
             "#46039f"
            ],
            [
             0.2222222222222222,
             "#7201a8"
            ],
            [
             0.3333333333333333,
             "#9c179e"
            ],
            [
             0.4444444444444444,
             "#bd3786"
            ],
            [
             0.5555555555555556,
             "#d8576b"
            ],
            [
             0.6666666666666666,
             "#ed7953"
            ],
            [
             0.7777777777777778,
             "#fb9f3a"
            ],
            [
             0.8888888888888888,
             "#fdca26"
            ],
            [
             1,
             "#f0f921"
            ]
           ],
           "sequentialminus": [
            [
             0,
             "#0d0887"
            ],
            [
             0.1111111111111111,
             "#46039f"
            ],
            [
             0.2222222222222222,
             "#7201a8"
            ],
            [
             0.3333333333333333,
             "#9c179e"
            ],
            [
             0.4444444444444444,
             "#bd3786"
            ],
            [
             0.5555555555555556,
             "#d8576b"
            ],
            [
             0.6666666666666666,
             "#ed7953"
            ],
            [
             0.7777777777777778,
             "#fb9f3a"
            ],
            [
             0.8888888888888888,
             "#fdca26"
            ],
            [
             1,
             "#f0f921"
            ]
           ]
          },
          "colorway": [
           "#636efa",
           "#EF553B",
           "#00cc96",
           "#ab63fa",
           "#FFA15A",
           "#19d3f3",
           "#FF6692",
           "#B6E880",
           "#FF97FF",
           "#FECB52"
          ],
          "font": {
           "color": "#2a3f5f"
          },
          "geo": {
           "bgcolor": "white",
           "lakecolor": "white",
           "landcolor": "#E5ECF6",
           "showlakes": true,
           "showland": true,
           "subunitcolor": "white"
          },
          "hoverlabel": {
           "align": "left"
          },
          "hovermode": "closest",
          "mapbox": {
           "style": "light"
          },
          "paper_bgcolor": "white",
          "plot_bgcolor": "#E5ECF6",
          "polar": {
           "angularaxis": {
            "gridcolor": "white",
            "linecolor": "white",
            "ticks": ""
           },
           "bgcolor": "#E5ECF6",
           "radialaxis": {
            "gridcolor": "white",
            "linecolor": "white",
            "ticks": ""
           }
          },
          "scene": {
           "xaxis": {
            "backgroundcolor": "#E5ECF6",
            "gridcolor": "white",
            "gridwidth": 2,
            "linecolor": "white",
            "showbackground": true,
            "ticks": "",
            "zerolinecolor": "white"
           },
           "yaxis": {
            "backgroundcolor": "#E5ECF6",
            "gridcolor": "white",
            "gridwidth": 2,
            "linecolor": "white",
            "showbackground": true,
            "ticks": "",
            "zerolinecolor": "white"
           },
           "zaxis": {
            "backgroundcolor": "#E5ECF6",
            "gridcolor": "white",
            "gridwidth": 2,
            "linecolor": "white",
            "showbackground": true,
            "ticks": "",
            "zerolinecolor": "white"
           }
          },
          "shapedefaults": {
           "line": {
            "color": "#2a3f5f"
           }
          },
          "ternary": {
           "aaxis": {
            "gridcolor": "white",
            "linecolor": "white",
            "ticks": ""
           },
           "baxis": {
            "gridcolor": "white",
            "linecolor": "white",
            "ticks": ""
           },
           "bgcolor": "#E5ECF6",
           "caxis": {
            "gridcolor": "white",
            "linecolor": "white",
            "ticks": ""
           }
          },
          "title": {
           "x": 0.05
          },
          "xaxis": {
           "automargin": true,
           "gridcolor": "white",
           "linecolor": "white",
           "ticks": "",
           "title": {
            "standoff": 15
           },
           "zerolinecolor": "white",
           "zerolinewidth": 2
          },
          "yaxis": {
           "automargin": true,
           "gridcolor": "white",
           "linecolor": "white",
           "ticks": "",
           "title": {
            "standoff": 15
           },
           "zerolinecolor": "white",
           "zerolinewidth": 2
          }
         }
        },
        "title": {
         "text": "Character embeddings"
        },
        "xaxis": {
         "anchor": "y",
         "domain": [
          0,
          1
         ],
         "title": {
          "text": "0"
         }
        },
        "yaxis": {
         "anchor": "x",
         "domain": [
          0,
          1
         ],
         "title": {
          "text": "1"
         }
        }
       }
      }
     },
     "metadata": {},
     "output_type": "display_data"
    }
   ],
   "source": [
    "from sklearn.decomposition import PCA\n",
    "\n",
    "pca = PCA(n_components=2)\n",
    "pca_embds = pca.fit_transform(embds)\n",
    "px.scatter(pca_embds, x=0, y=1, text=lookup, title='Character embeddings', size_max=15, size=[1] * len(embds))"
   ]
  },
  {
   "cell_type": "code",
   "execution_count": 1640,
   "id": "acfa8d12",
   "metadata": {},
   "outputs": [
    {
     "data": {
      "text/plain": [
       "array([0.12304783, 0.1160892 ])"
      ]
     },
     "execution_count": 1640,
     "metadata": {},
     "output_type": "execute_result"
    }
   ],
   "source": [
    "pca.explained_variance_ratio_"
   ]
  },
  {
   "cell_type": "markdown",
   "id": "676f624c",
   "metadata": {},
   "source": [
    "## Ideas to optimize loss\n",
    "0. Default                                          | loss = 2.4434\n",
    "1. Mini-batching while iterating over everything    | loss = 2.4384 (after running the loop twice, i.e. didn't seem to have much effect probably cuz of law of large numbers)\n",
    "2. Larger hidden layer                              | loss_200 = 2.4335, loss_300 = 2.4540 \n",
    "2.5 Keeping track of the min_loss on the dev set every epoch | didn't help much either, basically the same as in the final step of training (~2.45)\n",
    "* fixed setting lr to smaller based on epoch_i, that (seemed to have) helped get ~2.36\n",
    "\n",
    "NB! Ignore all of the above. Few bugs were fixes:\n",
    "- initializing W2 layer with rand instead of randn\n",
    "- not resetting the C embedding matrix after training loops for different models\n",
    "\n",
    "seem to be getting roughly 2.5 now no matter what -> why not equal to / lower than Antony's? \n",
    "\n",
    "3. More vector embedding dimensions\n",
    "    -> meh, still 2.4469\n",
    "\n",
    "2.4243 is lowest so far\n",
    "\n",
    "2.3806 with slightly nudging up the batch size, and training for longer, as well as a 4-char context window!!\n",
    "\n",
    "4. Use a larger context window\n",
    "5. Regularization!!"
   ]
  },
  {
   "cell_type": "markdown",
   "id": "b74fd065",
   "metadata": {},
   "source": [
    "## V2\n",
    "| Variant | Loss |\n",
    "| --- | --- |\n",
    "| Default (window=3, n_dims=3, batch_size=32, n_epochs=50, lr drops halfway) | 2.4152 |  (note: did not use torch.generator for this properly)\n",
    "| Fix init. random weights (hockey stick) | 2.3708 |\n",
    "| Kaiming init + (C emb * 0.1) + n_dims=10 | 2.3207 |\n",
    "| batch norm | 2.3092 |\n",
    "| overfitting attempt (n_hidden=500, n_dims=100, window=5) | 2.2392 |\n",
    "| overfitting attempt v2 (n_hidden=500, n_dims=100, window=10) | 2.2392 |\n",
    "| optimized + batchnorm (n_hidden=256, n_dims=8, window=6) | 2.2258 |"
   ]
  },
  {
   "cell_type": "code",
   "execution_count": null,
   "id": "590ca814",
   "metadata": {},
   "outputs": [],
   "source": []
  },
  {
   "cell_type": "code",
   "execution_count": null,
   "id": "cf07e71c",
   "metadata": {},
   "outputs": [],
   "source": []
  }
 ],
 "metadata": {
  "kernelspec": {
   "display_name": ".venv",
   "language": "python",
   "name": "python3"
  },
  "language_info": {
   "codemirror_mode": {
    "name": "ipython",
    "version": 3
   },
   "file_extension": ".py",
   "mimetype": "text/x-python",
   "name": "python",
   "nbconvert_exporter": "python",
   "pygments_lexer": "ipython3",
   "version": "3.13.3"
  }
 },
 "nbformat": 4,
 "nbformat_minor": 5
}
