{
 "cells": [
  {
   "cell_type": "markdown",
   "id": "5137a7b8",
   "metadata": {},
   "source": [
    "### Plan of attack\n",
    "1. Parse in the data\n",
    "2. Split into training, dev/val, and test\n",
    "3. Sketch out model architecture\n",
    "4. Make a forward pass\n",
    "5. Make a backward pass\n",
    "6. Profit"
   ]
  },
  {
   "cell_type": "code",
   "execution_count": 1,
   "id": "f99675e4",
   "metadata": {},
   "outputs": [],
   "source": [
    "import torch\n",
    "import torch.nn.functional as F\n",
    "import matplotlib.pyplot as plt\n",
    "import plotly.express as px\n",
    "import pandas as pd"
   ]
  },
  {
   "cell_type": "markdown",
   "id": "e3b3e54a",
   "metadata": {},
   "source": [
    "## Parse the data"
   ]
  },
  {
   "cell_type": "code",
   "execution_count": 547,
   "id": "8fc8a5c1",
   "metadata": {},
   "outputs": [],
   "source": [
    "with open('names.txt') as file: \n",
    "    names = file.read().splitlines()"
   ]
  },
  {
   "cell_type": "code",
   "execution_count": 548,
   "id": "3c91f0e5",
   "metadata": {},
   "outputs": [],
   "source": [
    "special_char = '.'\n",
    "\n",
    "lookup = sorted(set(\"\".join(names) + special_char))\n",
    "\n",
    "def stoi(c):\n",
    "    return lookup.index(c)\n",
    "\n",
    "def itos(i): \n",
    "    return lookup[i]"
   ]
  },
  {
   "cell_type": "code",
   "execution_count": 549,
   "id": "09654fe8",
   "metadata": {},
   "outputs": [],
   "source": [
    "X = []\n",
    "Y = []\n",
    "\n",
    "window = 5\n",
    "\n",
    "for name in names:\n",
    "    # note: don't want multiple special characters at the end -- just one!\n",
    "    context = special_char * window + name + special_char\n",
    "\n",
    "    for i in range(len(context) - window):\n",
    "        x = [stoi(c) for c in context[i:i + window]]\n",
    "        X.append(x)\n",
    "        Y.append(stoi(context[i + window]))\n",
    "        # print(f\"{context[i:i + window]} -> {context[i + window]}\")"
   ]
  },
  {
   "cell_type": "code",
   "execution_count": 550,
   "id": "05acc3f3",
   "metadata": {},
   "outputs": [
    {
     "data": {
      "text/plain": [
       "(torch.Size([228146, 5]), torch.Size([228146]), torch.int64, torch.int64)"
      ]
     },
     "execution_count": 550,
     "metadata": {},
     "output_type": "execute_result"
    }
   ],
   "source": [
    "X = torch.tensor(X)\n",
    "Y = torch.tensor(Y)\n",
    "\n",
    "X.shape, Y.shape, X.dtype, Y.dtype"
   ]
  },
  {
   "cell_type": "code",
   "execution_count": 551,
   "id": "951820fb",
   "metadata": {},
   "outputs": [],
   "source": [
    "### Split datasets"
   ]
  },
  {
   "cell_type": "code",
   "execution_count": 552,
   "id": "866096ed",
   "metadata": {},
   "outputs": [
    {
     "data": {
      "text/plain": [
       "(torch.Size([182516, 5]),\n",
       " torch.Size([22815, 5]),\n",
       " torch.Size([22815, 5]),\n",
       " torch.Size([182516]),\n",
       " torch.Size([22815]),\n",
       " torch.Size([22815]))"
      ]
     },
     "execution_count": 552,
     "metadata": {},
     "output_type": "execute_result"
    }
   ],
   "source": [
    "n1 = int(0.8 * X.shape[0])\n",
    "n2 = int(0.9 * X.shape[0])\n",
    "Xtr, Xdev, Xts = X.tensor_split((n1, n2), dim=0)\n",
    "Ytr, Ydev, Yts = Y.tensor_split((n1, n2), dim=0)\n",
    "\n",
    "Xtr.shape, Xdev.shape, Xts.shape, Ytr.shape, Ydev.shape, Yts.shape"
   ]
  },
  {
   "cell_type": "markdown",
   "id": "6d253f77",
   "metadata": {},
   "source": [
    "## Create embeddings"
   ]
  },
  {
   "cell_type": "code",
   "execution_count": 553,
   "id": "7d19e664",
   "metadata": {},
   "outputs": [],
   "source": [
    "n_chars = len(lookup)\n",
    "n_dims = 10 \n",
    "\n",
    "C = torch.randn((n_chars, n_dims))"
   ]
  },
  {
   "cell_type": "markdown",
   "id": "64899ac8",
   "metadata": {},
   "source": [
    "### sanity check"
   ]
  },
  {
   "cell_type": "code",
   "execution_count": 554,
   "id": "ff644c15",
   "metadata": {},
   "outputs": [
    {
     "data": {
      "text/plain": [
       "(tensor(0),\n",
       " tensor([-0.1576,  0.2843,  0.0119, -0.5549, -1.1535,  0.5487, -0.9585, -0.6887,\n",
       "         -0.5648, -0.9221]))"
      ]
     },
     "execution_count": 554,
     "metadata": {},
     "output_type": "execute_result"
    }
   ],
   "source": [
    "ch = X[3, 0]\n",
    "ch, C[ch] #this is the embedding for the fifth character"
   ]
  },
  {
   "cell_type": "code",
   "execution_count": 555,
   "id": "67ea2b6a",
   "metadata": {},
   "outputs": [
    {
     "data": {
      "text/plain": [
       "tensor([-0.1576,  0.2843,  0.0119, -0.5549, -1.1535,  0.5487, -0.9585, -0.6887,\n",
       "        -0.5648, -0.9221])"
      ]
     },
     "execution_count": 555,
     "metadata": {},
     "output_type": "execute_result"
    }
   ],
   "source": [
    "# sanity check\n",
    "F.one_hot(X[3, 0], num_classes=27).float() @ C"
   ]
  },
  {
   "cell_type": "markdown",
   "id": "5739bf3c",
   "metadata": {},
   "source": [
    "## Defining model architecture"
   ]
  },
  {
   "cell_type": "code",
   "execution_count": 556,
   "id": "17a121fa",
   "metadata": {},
   "outputs": [
    {
     "data": {
      "text/plain": [
       "(torch.Size([50, 200]),\n",
       " torch.Size([200]),\n",
       " torch.Size([200, 27]),\n",
       " torch.Size([27]))"
      ]
     },
     "execution_count": 556,
     "metadata": {},
     "output_type": "execute_result"
    }
   ],
   "source": [
    "n_input = window * n_dims # the number of chars used * dimensions per each\n",
    "n_hidden = 200\n",
    "\n",
    "W1 = torch.randn((n_input, n_hidden))\n",
    "b1 = torch.randn(n_hidden)\n",
    "W2 = torch.randn((n_hidden, n_chars))\n",
    "b2 = torch.randn(n_chars)\n",
    "\n",
    "W1.shape, b1.shape, W2.shape, b2.shape"
   ]
  },
  {
   "cell_type": "code",
   "execution_count": 557,
   "id": "2e3b8054",
   "metadata": {},
   "outputs": [
    {
     "data": {
      "text/plain": [
       "15897"
      ]
     },
     "execution_count": 557,
     "metadata": {},
     "output_type": "execute_result"
    }
   ],
   "source": [
    "parameters = [C, W1, b1, W2, b2]\n",
    "\n",
    "for p in parameters:\n",
    "    p.requires_grad = True\n",
    "\n",
    "sum(p.nelement() for p in parameters)"
   ]
  },
  {
   "cell_type": "code",
   "execution_count": 558,
   "id": "1f40ea91",
   "metadata": {},
   "outputs": [],
   "source": [
    "# manually implement the loss\n",
    "\n",
    "# counts = logits.exp()\n",
    "# probs = counts / counts.sum(1, keepdim=True) # have to sum across the specific axis\n",
    "\n",
    "# probs[0, Y[0]] -> correct for first row \n",
    "# probs[Y] -> incorrect because takes the entire probability row out for each letter index, not what i want\n",
    "\n",
    "# likelihoods = probs[torch.arange(probs.shape[0]), Y]\n",
    "# assert probs[0, Y[0]] == likelihoods[0]\n",
    "\n",
    "# loss = -likelihoods.log().mean()\n",
    "# loss"
   ]
  },
  {
   "cell_type": "markdown",
   "id": "b231f117",
   "metadata": {},
   "source": [
    "## Training"
   ]
  },
  {
   "cell_type": "code",
   "execution_count": 559,
   "id": "d9bac0ac",
   "metadata": {},
   "outputs": [],
   "source": [
    "def forward(X): \n",
    "    # forward pass\n",
    "    emb = C[X]\n",
    "    input = emb.view(-1, n_dims * window)\n",
    "\n",
    "    L1 = input @ W1 + b1\n",
    "    h = torch.tanh(L1) # NB! missed the activation function!\n",
    "    logits = h @ W2 + b2 # \n",
    "\n",
    "    return logits"
   ]
  },
  {
   "cell_type": "markdown",
   "id": "ec165be5",
   "metadata": {},
   "source": [
    "### Find the optimal lr"
   ]
  },
  {
   "cell_type": "code",
   "execution_count": 560,
   "id": "34561e34",
   "metadata": {},
   "outputs": [],
   "source": [
    "# n_iterations = 1000\n",
    "\n",
    "# lre = torch.linspace(-3, 0, n_iterations)\n",
    "# lrs = 10 ** lre\n",
    "# lri = []\n",
    "# lossi = []\n",
    "\n",
    "# for i in range(n_iterations): \n",
    "#     # batching \n",
    "#     ix = torch.randint(0, Xtr.shape[0], (32,)) # 32 is the batch size\n",
    "\n",
    "#     logits = step(Xtr[ix])\n",
    "#     loss = F.cross_entropy(logits, Ytr[ix]) #NB! this has to be the raw logits! \n",
    "\n",
    "#     for p in parameters: \n",
    "#         p.grad = None\n",
    "\n",
    "#     loss.backward()\n",
    "\n",
    "#     lr = lrs[i] \n",
    "#     for p in parameters: \n",
    "#         p.data -= lr * p.grad\n",
    "\n",
    "#     lri.append(lr)\n",
    "#     lossi.append(loss.item())\n",
    "\n",
    "# # why is this actually reliable? \n",
    "# # wouldn't the loss naturally decrease with time? \n",
    "# px.scatter(\n",
    "#     x=lri,\n",
    "#     y=lossi,\n",
    "#     labels={'x': 'LR', 'y': 'Loss'},\n",
    "#     trendline='lowess'\n",
    "# )"
   ]
  },
  {
   "cell_type": "markdown",
   "id": "285bf2b3",
   "metadata": {},
   "source": [
    "### loop"
   ]
  },
  {
   "cell_type": "code",
   "execution_count": 561,
   "id": "ecba3515",
   "metadata": {},
   "outputs": [],
   "source": [
    "lossi = []\n",
    "lossdevi = []\n",
    "stepi = []\n",
    "\n",
    "total = 0"
   ]
  },
  {
   "cell_type": "code",
   "execution_count": 571,
   "id": "3ad3550b",
   "metadata": {},
   "outputs": [
    {
     "data": {
      "application/vnd.plotly.v1+json": {
       "config": {
        "plotlyServerURL": "https://plot.ly"
       },
       "data": [
        {
         "hovertemplate": "Step=%{x}<br>Loss=%{y}<extra></extra>",
         "legendgroup": "",
         "marker": {
          "color": "#636efa",
          "symbol": "circle"
         },
         "mode": "markers",
         "name": "",
         "showlegend": false,
         "type": "scattergl",
         "x": {
          "bdata": "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",
          "dtype": "i2"
         },
         "xaxis": "x",
         "y": {
          "bdata": "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",
          "dtype": "f8"
         },
         "yaxis": "y"
        }
       ],
       "layout": {
        "legend": {
         "tracegroupgap": 0
        },
        "template": {
         "data": {
          "bar": [
           {
            "error_x": {
             "color": "#2a3f5f"
            },
            "error_y": {
             "color": "#2a3f5f"
            },
            "marker": {
             "line": {
              "color": "#E5ECF6",
              "width": 0.5
             },
             "pattern": {
              "fillmode": "overlay",
              "size": 10,
              "solidity": 0.2
             }
            },
            "type": "bar"
           }
          ],
          "barpolar": [
           {
            "marker": {
             "line": {
              "color": "#E5ECF6",
              "width": 0.5
             },
             "pattern": {
              "fillmode": "overlay",
              "size": 10,
              "solidity": 0.2
             }
            },
            "type": "barpolar"
           }
          ],
          "carpet": [
           {
            "aaxis": {
             "endlinecolor": "#2a3f5f",
             "gridcolor": "white",
             "linecolor": "white",
             "minorgridcolor": "white",
             "startlinecolor": "#2a3f5f"
            },
            "baxis": {
             "endlinecolor": "#2a3f5f",
             "gridcolor": "white",
             "linecolor": "white",
             "minorgridcolor": "white",
             "startlinecolor": "#2a3f5f"
            },
            "type": "carpet"
           }
          ],
          "choropleth": [
           {
            "colorbar": {
             "outlinewidth": 0,
             "ticks": ""
            },
            "type": "choropleth"
           }
          ],
          "contour": [
           {
            "colorbar": {
             "outlinewidth": 0,
             "ticks": ""
            },
            "colorscale": [
             [
              0,
              "#0d0887"
             ],
             [
              0.1111111111111111,
              "#46039f"
             ],
             [
              0.2222222222222222,
              "#7201a8"
             ],
             [
              0.3333333333333333,
              "#9c179e"
             ],
             [
              0.4444444444444444,
              "#bd3786"
             ],
             [
              0.5555555555555556,
              "#d8576b"
             ],
             [
              0.6666666666666666,
              "#ed7953"
             ],
             [
              0.7777777777777778,
              "#fb9f3a"
             ],
             [
              0.8888888888888888,
              "#fdca26"
             ],
             [
              1,
              "#f0f921"
             ]
            ],
            "type": "contour"
           }
          ],
          "contourcarpet": [
           {
            "colorbar": {
             "outlinewidth": 0,
             "ticks": ""
            },
            "type": "contourcarpet"
           }
          ],
          "heatmap": [
           {
            "colorbar": {
             "outlinewidth": 0,
             "ticks": ""
            },
            "colorscale": [
             [
              0,
              "#0d0887"
             ],
             [
              0.1111111111111111,
              "#46039f"
             ],
             [
              0.2222222222222222,
              "#7201a8"
             ],
             [
              0.3333333333333333,
              "#9c179e"
             ],
             [
              0.4444444444444444,
              "#bd3786"
             ],
             [
              0.5555555555555556,
              "#d8576b"
             ],
             [
              0.6666666666666666,
              "#ed7953"
             ],
             [
              0.7777777777777778,
              "#fb9f3a"
             ],
             [
              0.8888888888888888,
              "#fdca26"
             ],
             [
              1,
              "#f0f921"
             ]
            ],
            "type": "heatmap"
           }
          ],
          "histogram": [
           {
            "marker": {
             "pattern": {
              "fillmode": "overlay",
              "size": 10,
              "solidity": 0.2
             }
            },
            "type": "histogram"
           }
          ],
          "histogram2d": [
           {
            "colorbar": {
             "outlinewidth": 0,
             "ticks": ""
            },
            "colorscale": [
             [
              0,
              "#0d0887"
             ],
             [
              0.1111111111111111,
              "#46039f"
             ],
             [
              0.2222222222222222,
              "#7201a8"
             ],
             [
              0.3333333333333333,
              "#9c179e"
             ],
             [
              0.4444444444444444,
              "#bd3786"
             ],
             [
              0.5555555555555556,
              "#d8576b"
             ],
             [
              0.6666666666666666,
              "#ed7953"
             ],
             [
              0.7777777777777778,
              "#fb9f3a"
             ],
             [
              0.8888888888888888,
              "#fdca26"
             ],
             [
              1,
              "#f0f921"
             ]
            ],
            "type": "histogram2d"
           }
          ],
          "histogram2dcontour": [
           {
            "colorbar": {
             "outlinewidth": 0,
             "ticks": ""
            },
            "colorscale": [
             [
              0,
              "#0d0887"
             ],
             [
              0.1111111111111111,
              "#46039f"
             ],
             [
              0.2222222222222222,
              "#7201a8"
             ],
             [
              0.3333333333333333,
              "#9c179e"
             ],
             [
              0.4444444444444444,
              "#bd3786"
             ],
             [
              0.5555555555555556,
              "#d8576b"
             ],
             [
              0.6666666666666666,
              "#ed7953"
             ],
             [
              0.7777777777777778,
              "#fb9f3a"
             ],
             [
              0.8888888888888888,
              "#fdca26"
             ],
             [
              1,
              "#f0f921"
             ]
            ],
            "type": "histogram2dcontour"
           }
          ],
          "mesh3d": [
           {
            "colorbar": {
             "outlinewidth": 0,
             "ticks": ""
            },
            "type": "mesh3d"
           }
          ],
          "parcoords": [
           {
            "line": {
             "colorbar": {
              "outlinewidth": 0,
              "ticks": ""
             }
            },
            "type": "parcoords"
           }
          ],
          "pie": [
           {
            "automargin": true,
            "type": "pie"
           }
          ],
          "scatter": [
           {
            "fillpattern": {
             "fillmode": "overlay",
             "size": 10,
             "solidity": 0.2
            },
            "type": "scatter"
           }
          ],
          "scatter3d": [
           {
            "line": {
             "colorbar": {
              "outlinewidth": 0,
              "ticks": ""
             }
            },
            "marker": {
             "colorbar": {
              "outlinewidth": 0,
              "ticks": ""
             }
            },
            "type": "scatter3d"
           }
          ],
          "scattercarpet": [
           {
            "marker": {
             "colorbar": {
              "outlinewidth": 0,
              "ticks": ""
             }
            },
            "type": "scattercarpet"
           }
          ],
          "scattergeo": [
           {
            "marker": {
             "colorbar": {
              "outlinewidth": 0,
              "ticks": ""
             }
            },
            "type": "scattergeo"
           }
          ],
          "scattergl": [
           {
            "marker": {
             "colorbar": {
              "outlinewidth": 0,
              "ticks": ""
             }
            },
            "type": "scattergl"
           }
          ],
          "scattermap": [
           {
            "marker": {
             "colorbar": {
              "outlinewidth": 0,
              "ticks": ""
             }
            },
            "type": "scattermap"
           }
          ],
          "scattermapbox": [
           {
            "marker": {
             "colorbar": {
              "outlinewidth": 0,
              "ticks": ""
             }
            },
            "type": "scattermapbox"
           }
          ],
          "scatterpolar": [
           {
            "marker": {
             "colorbar": {
              "outlinewidth": 0,
              "ticks": ""
             }
            },
            "type": "scatterpolar"
           }
          ],
          "scatterpolargl": [
           {
            "marker": {
             "colorbar": {
              "outlinewidth": 0,
              "ticks": ""
             }
            },
            "type": "scatterpolargl"
           }
          ],
          "scatterternary": [
           {
            "marker": {
             "colorbar": {
              "outlinewidth": 0,
              "ticks": ""
             }
            },
            "type": "scatterternary"
           }
          ],
          "surface": [
           {
            "colorbar": {
             "outlinewidth": 0,
             "ticks": ""
            },
            "colorscale": [
             [
              0,
              "#0d0887"
             ],
             [
              0.1111111111111111,
              "#46039f"
             ],
             [
              0.2222222222222222,
              "#7201a8"
             ],
             [
              0.3333333333333333,
              "#9c179e"
             ],
             [
              0.4444444444444444,
              "#bd3786"
             ],
             [
              0.5555555555555556,
              "#d8576b"
             ],
             [
              0.6666666666666666,
              "#ed7953"
             ],
             [
              0.7777777777777778,
              "#fb9f3a"
             ],
             [
              0.8888888888888888,
              "#fdca26"
             ],
             [
              1,
              "#f0f921"
             ]
            ],
            "type": "surface"
           }
          ],
          "table": [
           {
            "cells": {
             "fill": {
              "color": "#EBF0F8"
             },
             "line": {
              "color": "white"
             }
            },
            "header": {
             "fill": {
              "color": "#C8D4E3"
             },
             "line": {
              "color": "white"
             }
            },
            "type": "table"
           }
          ]
         },
         "layout": {
          "annotationdefaults": {
           "arrowcolor": "#2a3f5f",
           "arrowhead": 0,
           "arrowwidth": 1
          },
          "autotypenumbers": "strict",
          "coloraxis": {
           "colorbar": {
            "outlinewidth": 0,
            "ticks": ""
           }
          },
          "colorscale": {
           "diverging": [
            [
             0,
             "#8e0152"
            ],
            [
             0.1,
             "#c51b7d"
            ],
            [
             0.2,
             "#de77ae"
            ],
            [
             0.3,
             "#f1b6da"
            ],
            [
             0.4,
             "#fde0ef"
            ],
            [
             0.5,
             "#f7f7f7"
            ],
            [
             0.6,
             "#e6f5d0"
            ],
            [
             0.7,
             "#b8e186"
            ],
            [
             0.8,
             "#7fbc41"
            ],
            [
             0.9,
             "#4d9221"
            ],
            [
             1,
             "#276419"
            ]
           ],
           "sequential": [
            [
             0,
             "#0d0887"
            ],
            [
             0.1111111111111111,
             "#46039f"
            ],
            [
             0.2222222222222222,
             "#7201a8"
            ],
            [
             0.3333333333333333,
             "#9c179e"
            ],
            [
             0.4444444444444444,
             "#bd3786"
            ],
            [
             0.5555555555555556,
             "#d8576b"
            ],
            [
             0.6666666666666666,
             "#ed7953"
            ],
            [
             0.7777777777777778,
             "#fb9f3a"
            ],
            [
             0.8888888888888888,
             "#fdca26"
            ],
            [
             1,
             "#f0f921"
            ]
           ],
           "sequentialminus": [
            [
             0,
             "#0d0887"
            ],
            [
             0.1111111111111111,
             "#46039f"
            ],
            [
             0.2222222222222222,
             "#7201a8"
            ],
            [
             0.3333333333333333,
             "#9c179e"
            ],
            [
             0.4444444444444444,
             "#bd3786"
            ],
            [
             0.5555555555555556,
             "#d8576b"
            ],
            [
             0.6666666666666666,
             "#ed7953"
            ],
            [
             0.7777777777777778,
             "#fb9f3a"
            ],
            [
             0.8888888888888888,
             "#fdca26"
            ],
            [
             1,
             "#f0f921"
            ]
           ]
          },
          "colorway": [
           "#636efa",
           "#EF553B",
           "#00cc96",
           "#ab63fa",
           "#FFA15A",
           "#19d3f3",
           "#FF6692",
           "#B6E880",
           "#FF97FF",
           "#FECB52"
          ],
          "font": {
           "color": "#2a3f5f"
          },
          "geo": {
           "bgcolor": "white",
           "lakecolor": "white",
           "landcolor": "#E5ECF6",
           "showlakes": true,
           "showland": true,
           "subunitcolor": "white"
          },
          "hoverlabel": {
           "align": "left"
          },
          "hovermode": "closest",
          "mapbox": {
           "style": "light"
          },
          "paper_bgcolor": "white",
          "plot_bgcolor": "#E5ECF6",
          "polar": {
           "angularaxis": {
            "gridcolor": "white",
            "linecolor": "white",
            "ticks": ""
           },
           "bgcolor": "#E5ECF6",
           "radialaxis": {
            "gridcolor": "white",
            "linecolor": "white",
            "ticks": ""
           }
          },
          "scene": {
           "xaxis": {
            "backgroundcolor": "#E5ECF6",
            "gridcolor": "white",
            "gridwidth": 2,
            "linecolor": "white",
            "showbackground": true,
            "ticks": "",
            "zerolinecolor": "white"
           },
           "yaxis": {
            "backgroundcolor": "#E5ECF6",
            "gridcolor": "white",
            "gridwidth": 2,
            "linecolor": "white",
            "showbackground": true,
            "ticks": "",
            "zerolinecolor": "white"
           },
           "zaxis": {
            "backgroundcolor": "#E5ECF6",
            "gridcolor": "white",
            "gridwidth": 2,
            "linecolor": "white",
            "showbackground": true,
            "ticks": "",
            "zerolinecolor": "white"
           }
          },
          "shapedefaults": {
           "line": {
            "color": "#2a3f5f"
           }
          },
          "ternary": {
           "aaxis": {
            "gridcolor": "white",
            "linecolor": "white",
            "ticks": ""
           },
           "baxis": {
            "gridcolor": "white",
            "linecolor": "white",
            "ticks": ""
           },
           "bgcolor": "#E5ECF6",
           "caxis": {
            "gridcolor": "white",
            "linecolor": "white",
            "ticks": ""
           }
          },
          "title": {
           "x": 0.05
          },
          "xaxis": {
           "automargin": true,
           "gridcolor": "white",
           "linecolor": "white",
           "ticks": "",
           "title": {
            "standoff": 15
           },
           "zerolinecolor": "white",
           "zerolinewidth": 2
          },
          "yaxis": {
           "automargin": true,
           "gridcolor": "white",
           "linecolor": "white",
           "ticks": "",
           "title": {
            "standoff": 15
           },
           "zerolinecolor": "white",
           "zerolinewidth": 2
          }
         }
        },
        "title": {
         "text": "Loss over time"
        },
        "xaxis": {
         "anchor": "y",
         "domain": [
          0,
          1
         ],
         "title": {
          "text": "Step"
         }
        },
        "yaxis": {
         "anchor": "x",
         "domain": [
          0,
          1
         ],
         "title": {
          "text": "Loss"
         }
        }
       }
      }
     },
     "metadata": {},
     "output_type": "display_data"
    }
   ],
   "source": [
    "n_epochs = 50\n",
    "batch_size = 2048\n",
    "\n",
    "for i in range(n_epochs): \n",
    "    permutation = torch.randperm(Xtr.shape[0])\n",
    "    # batching \n",
    "    for j in range(0, Xtr.shape[0], batch_size):\n",
    "        ix = permutation[j:j + batch_size]  \n",
    "\n",
    "        logits = forward(Xtr[ix])\n",
    "        loss = F.cross_entropy(logits, Ytr[ix]) #NB! this has to be the raw logits! \n",
    "\n",
    "        for p in parameters: \n",
    "            p.grad = None\n",
    "\n",
    "        loss.backward()\n",
    "\n",
    "        lr = 0.1 if i < n_epochs / 2 else 0.01\n",
    "        # lr = 10 ** (-(total * 2 / 100000 + 1))\n",
    "\n",
    "        for p in parameters: \n",
    "            p.data -= lr * p.grad\n",
    "\n",
    "        lossi.append(loss.log10().item())\n",
    "        stepi.append(total)\n",
    "        total += 1\n",
    "\n",
    "    logits = forward(Xdev)\n",
    "    loss = F.cross_entropy(logits, Ydev)\n",
    "    lossdevi.append(loss.item())\n",
    "\n",
    "# messy because of mini-batching ! \n",
    "px.scatter(\n",
    "    x=stepi,\n",
    "    y=lossi,\n",
    "    labels={'x': 'Step', 'y': 'Loss'},\n",
    "    title='Loss over time',\n",
    ")\n"
   ]
  },
  {
   "cell_type": "code",
   "execution_count": 572,
   "id": "a532617b",
   "metadata": {},
   "outputs": [
    {
     "data": {
      "application/vnd.plotly.v1+json": {
       "config": {
        "plotlyServerURL": "https://plot.ly"
       },
       "data": [
        {
         "hovertemplate": "x=%{x}<br>y=%{y}<extra></extra>",
         "legendgroup": "",
         "marker": {
          "color": "#636efa",
          "symbol": "circle"
         },
         "mode": "markers",
         "name": "",
         "orientation": "v",
         "showlegend": false,
         "type": "scatter",
         "x": {
          "bdata": "AAABAAIAAwAEAAUABgAHAAgACQAKAAsADAANAA4ADwAQABEAEgATABQAFQAWABcAGAAZABoAGwAcAB0AHgAfACAAIQAiACMAJAAlACYAJwAoACkAKgArACwALQAuAC8AMAAxADIAMwA0ADUANgA3ADgAOQA6ADsAPAA9AD4APwBAAEEAQgBDAEQARQBGAEcASABJAEoASwBMAE0ATgBPAFAAUQBSAFMAVABVAFYAVwBYAFkAWgBbAFwAXQBeAF8AYABhAGIAYwBkAGUAZgBnAGgAaQBqAGsAbABtAG4AbwBwAHEAcgBzAHQAdQB2AHcAeAB5AHoAewB8AH0AfgB/AIAAgQCCAIMAhACFAIYAhwCIAIkAigCLAIwAjQCOAI8AkACRAJIAkwCUAJUA",
          "dtype": "i2"
         },
         "xaxis": "x",
         "y": {
          "bdata": "AAAAgI6yIkAAAACAgyccQAAAACAX7xdAAAAAAKuTFEAAAABgwDISQAAAAECycxBAAAAAAAzZDUAAAAAAq5MLQAAAAIB0EwpAAAAAIDO5CUAAAAAgVQ0KQAAAAGBsJwlAAAAAgIL7CEAAAAAg5NkIQAAAAGC8WQhAAAAAwE3yCEAAAADgICEIQAAAAMD8egdAAAAAwHM4B0AAAABA8IUHQAAAAOCLjwdAAAAAYF4mB0AAAADghbAGQAAAAIDQpAZAAAAAYBKVB0AAAACgxvoFQAAAAIDS/AVAAAAAwDL4BUAAAAAAX/YFQAAAAEBV8gVAAAAAQGz4BUAAAABAMvMFQAAAAEDX8QVAAAAAILLsBUAAAADALOkFQAAAACA95wVAAAAAQKvgBUAAAABg49oFQAAAAGCJ5QVAAAAA4G3VBUAAAACgOOEFQAAAAMCO5QVAAAAAoPTcBUAAAADAlNwFQAAAAIC50AVAAAAAQIfRBUAAAABAsdMFQAAAAMBr0gVAAAAA4NfIBUAAAABAEMIFQAAAAOCLhAZAAAAAIA+4B0AAAADg39wHQAAAAACT0AdAAAAAQOC6BkAAAABAsE8GQAAAACB/MQZAAAAAAMFmBUAAAAAAeAYGQAAAAKDvMAZAAAAAIK/pBUAAAAAgpIUFQAAAAGC30gVAAAAAABCbBUAAAACgG2oFQAAAAIBAZwVAAAAAAP/ABUAAAADgdJYFQAAAAEAabAVAAAAAYNm4BkAAAAAg5xgGQAAAAADWswVAAAAAQF9kBUAAAAAg7LoFQAAAAEAolAVAAAAAQKDKBEAAAAAAq9AEQAAAAGAxzgRAAAAAYIDKBEAAAADA7NQEQAAAAGCSxgRAAAAAIIfVBEAAAADgQsQEQAAAAACyxQRAAAAAoObKBEAAAACAU80EQAAAAGBuwgRAAAAAgJjGBEAAAAAghsUEQAAAAODywARAAAAAIB/BBEAAAACgZcQEQAAAAAAlyARAAAAAoAK/BEAAAAAgYr8EQAAAACD9xARAAAAAQOC5BEAAAACgjcAEQAAAAECyvQRAAAAAoHTGBEAAAAAAKUQGQAAAAADXMgZAAAAAoEh1BUAAAADAtaoFQAAAAACBRQVAAAAAYKOsBUAAAADAniAFQAAAAEDnUgVAAAAAAEDWBEAAAACg4LEGQAAAAAAGUQVAAAAAwAlaBUAAAABgLgYFQAAAAAASrwVAAAAAgHtjBUAAAAAgiyMFQAAAAOA1hgVAAAAAwPZcBUAAAABA8m8FQAAAAGBDugVAAAAA4EtfBUAAAAAgPWgFQAAAAEC8HwVAAAAAwDHRBEAAAADAcRwHQAAAACCkcARAAAAAgEB2BEAAAAAg13AEQAAAAECsbgRAAAAAYGJqBEAAAAAAb3IEQAAAAECDcgRAAAAAYIpsBEAAAAAgnWQEQAAAAEC2cQRAAAAAIOlkBEAAAAAArXEEQAAAAEDebARAAAAAAOpqBEAAAADAlmYEQAAAACDRaARAAAAAILllBEAAAACgjWkEQAAAAKDjYQRAAAAAoGByBEAAAADgamAEQAAAAEAuZARAAAAAAPhmBEAAAADglmoEQAAAAMD5ZARA",
          "dtype": "f8"
         },
         "yaxis": "y"
        },
        {
         "hovertemplate": "<b>LOWESS trendline</b><br><br>x=%{x}<br>y=%{y} <b>(trend)</b><extra></extra>",
         "legendgroup": "",
         "marker": {
          "color": "#636efa",
          "symbol": "circle"
         },
         "mode": "lines",
         "name": "",
         "showlegend": false,
         "type": "scatter",
         "x": {
          "bdata": "AAABAAIAAwAEAAUABgAHAAgACQAKAAsADAANAA4ADwAQABEAEgATABQAFQAWABcAGAAZABoAGwAcAB0AHgAfACAAIQAiACMAJAAlACYAJwAoACkAKgArACwALQAuAC8AMAAxADIAMwA0ADUANgA3ADgAOQA6ADsAPAA9AD4APwBAAEEAQgBDAEQARQBGAEcASABJAEoASwBMAE0ATgBPAFAAUQBSAFMAVABVAFYAVwBYAFkAWgBbAFwAXQBeAF8AYABhAGIAYwBkAGUAZgBnAGgAaQBqAGsAbABtAG4AbwBwAHEAcgBzAHQAdQB2AHcAeAB5AHoAewB8AH0AfgB/AIAAgQCCAIMAhACFAIYAhwCIAIkAigCLAIwAjQCOAI8AkACRAJIAkwCUAJUA",
          "dtype": "i2"
         },
         "xaxis": "x",
         "y": {
          "bdata": "2DYwMYLvCEAb4A++Nd8IQDKwYIb/zghAemXnLeC+CEDxAcFd2K4IQKFEesTonghAJOQhFhKPCED9J1QMVX8IQAovUGKybwhA96sjuipgCEAc4zFtvlAIQPwp94JtQQhAKuBRsDcyCEDDIZVnHCMIQEBt+d8aFAhAx93kGzIFCECtkWXzYPYHQFN6YwSm5wdA817Wy//YB0DgicS+bMoHQAn8AlDruwdAUjoA6XmtB0Abvr3mFp8HQOeayKHAkAdAebjjc3WCB0AEFSy0M3QHQGOqGqb5ZQdA3Z71gsVXB0CCpYt+lUkHQMf378dnOwdALDIFijotB0B1us/rCx8HQNlNwhDaEAdAs195GKMCB0A48jEeZfQGQE4/FDge5gZA6+STdszXBkBU+VPkbckGQOawc4cAuwZAbPGWZYKsBkDiIP6M8Z0GQHwSaChMjwZAUaLZo5CABkC2FGrxvXEGQAUmCwfUYgZAxITEu9RTBkCHL0pFxUQGQGy25rKwNQZA7PWZ4asmBkBsAiJR2xcGQDAuc4UVDAZAavxdsK8ABkD3pNTNtvUFQJOy34Q36wVANOJI6TzhBUCjimK0ztcFQLuqWo7vzgVAVerCoJvGBUAP+8t8yb4FQA3nGdxttwVAG777EX2wBUDhAAJV66kFQPDKfYitowVApk5x3LmdBUAYax/xB5gFQM5B8J+QkgVApEwPXk+NBUDAg108QYgFQMZasVZjgwVAR1+foLJ+BUB2ZGltLHoFQAAyB5POdQVArSaADpdxBUBGqkyCg20FQAf2e3uRaQVAXJuESr9lBUALh4TdCmIFQM0T/I9xXgVAwWoHRfBaBUC5YGqTg1cFQP8Km+wnVAVABYRqv9lQBUAUOj2YlU0FQLloUEJYSgVAkvgc3h5HBUBwly7o5kMFQOxQJD6uQAVAYmdpK3M9BUAy/ellNDoFQL71qR7xNgVA6W+q9agzBUDsXNn8WzAFQAdYO7kKLQVAB3HVGbYpBUB4nOxqXyYFQAmmFUIIIwVANXqDabIfBUD5BA/XXxwFQA4H0X4SGQVAskoMIMwVBUBoeAVBjhIFQHiulA0dDwVAL6uZZ5ULBUAlBu40BwgFQMKJd0B+BAVAtLN9kAEBBUBc9hN/lP0EQC4h5Pk3+gRA5/Tojuv2BECRoF4UrvMEQIdG8BN+8ARAeYYy71ntBEC3IrMDQOoEQEZELb4u5wRA1RHopCTkBEDHHg1OIOEEQIAQxWMg3gRAh96PpyPbBECWFZPqKNgEQFWlzQwv1QRA1ykU+jTSBEB0szWmOc8EQHm8sg88zARAsJUwQDvJBEB7Ae1QNsYEQIthiW4swwRACwoc1xzABECe6GLhBr0EQH53NPzpuQRAa+U/rMW2BECDWSuKmbMEQFlv3UBlsARAj7VXiyitBEBgej8z46kEQPDwKBCVpgRALnPXBj6jBED9PZAH3p8EQBdGkg11nARAvrl8HQOZBEDEBpREiJUEQJwDN5gEkgRAP69ZNXiOBEA0dqQ/44oEQNBswOBFhwRABgpsR6CDBEDpUeGm8n8EQMTyITU9fARAyeZVK4B4BEDxq/rEu3QEQI0ZpT7wcARA",
          "dtype": "f8"
         },
         "yaxis": "y"
        }
       ],
       "layout": {
        "legend": {
         "tracegroupgap": 0
        },
        "margin": {
         "t": 60
        },
        "template": {
         "data": {
          "bar": [
           {
            "error_x": {
             "color": "#2a3f5f"
            },
            "error_y": {
             "color": "#2a3f5f"
            },
            "marker": {
             "line": {
              "color": "#E5ECF6",
              "width": 0.5
             },
             "pattern": {
              "fillmode": "overlay",
              "size": 10,
              "solidity": 0.2
             }
            },
            "type": "bar"
           }
          ],
          "barpolar": [
           {
            "marker": {
             "line": {
              "color": "#E5ECF6",
              "width": 0.5
             },
             "pattern": {
              "fillmode": "overlay",
              "size": 10,
              "solidity": 0.2
             }
            },
            "type": "barpolar"
           }
          ],
          "carpet": [
           {
            "aaxis": {
             "endlinecolor": "#2a3f5f",
             "gridcolor": "white",
             "linecolor": "white",
             "minorgridcolor": "white",
             "startlinecolor": "#2a3f5f"
            },
            "baxis": {
             "endlinecolor": "#2a3f5f",
             "gridcolor": "white",
             "linecolor": "white",
             "minorgridcolor": "white",
             "startlinecolor": "#2a3f5f"
            },
            "type": "carpet"
           }
          ],
          "choropleth": [
           {
            "colorbar": {
             "outlinewidth": 0,
             "ticks": ""
            },
            "type": "choropleth"
           }
          ],
          "contour": [
           {
            "colorbar": {
             "outlinewidth": 0,
             "ticks": ""
            },
            "colorscale": [
             [
              0,
              "#0d0887"
             ],
             [
              0.1111111111111111,
              "#46039f"
             ],
             [
              0.2222222222222222,
              "#7201a8"
             ],
             [
              0.3333333333333333,
              "#9c179e"
             ],
             [
              0.4444444444444444,
              "#bd3786"
             ],
             [
              0.5555555555555556,
              "#d8576b"
             ],
             [
              0.6666666666666666,
              "#ed7953"
             ],
             [
              0.7777777777777778,
              "#fb9f3a"
             ],
             [
              0.8888888888888888,
              "#fdca26"
             ],
             [
              1,
              "#f0f921"
             ]
            ],
            "type": "contour"
           }
          ],
          "contourcarpet": [
           {
            "colorbar": {
             "outlinewidth": 0,
             "ticks": ""
            },
            "type": "contourcarpet"
           }
          ],
          "heatmap": [
           {
            "colorbar": {
             "outlinewidth": 0,
             "ticks": ""
            },
            "colorscale": [
             [
              0,
              "#0d0887"
             ],
             [
              0.1111111111111111,
              "#46039f"
             ],
             [
              0.2222222222222222,
              "#7201a8"
             ],
             [
              0.3333333333333333,
              "#9c179e"
             ],
             [
              0.4444444444444444,
              "#bd3786"
             ],
             [
              0.5555555555555556,
              "#d8576b"
             ],
             [
              0.6666666666666666,
              "#ed7953"
             ],
             [
              0.7777777777777778,
              "#fb9f3a"
             ],
             [
              0.8888888888888888,
              "#fdca26"
             ],
             [
              1,
              "#f0f921"
             ]
            ],
            "type": "heatmap"
           }
          ],
          "histogram": [
           {
            "marker": {
             "pattern": {
              "fillmode": "overlay",
              "size": 10,
              "solidity": 0.2
             }
            },
            "type": "histogram"
           }
          ],
          "histogram2d": [
           {
            "colorbar": {
             "outlinewidth": 0,
             "ticks": ""
            },
            "colorscale": [
             [
              0,
              "#0d0887"
             ],
             [
              0.1111111111111111,
              "#46039f"
             ],
             [
              0.2222222222222222,
              "#7201a8"
             ],
             [
              0.3333333333333333,
              "#9c179e"
             ],
             [
              0.4444444444444444,
              "#bd3786"
             ],
             [
              0.5555555555555556,
              "#d8576b"
             ],
             [
              0.6666666666666666,
              "#ed7953"
             ],
             [
              0.7777777777777778,
              "#fb9f3a"
             ],
             [
              0.8888888888888888,
              "#fdca26"
             ],
             [
              1,
              "#f0f921"
             ]
            ],
            "type": "histogram2d"
           }
          ],
          "histogram2dcontour": [
           {
            "colorbar": {
             "outlinewidth": 0,
             "ticks": ""
            },
            "colorscale": [
             [
              0,
              "#0d0887"
             ],
             [
              0.1111111111111111,
              "#46039f"
             ],
             [
              0.2222222222222222,
              "#7201a8"
             ],
             [
              0.3333333333333333,
              "#9c179e"
             ],
             [
              0.4444444444444444,
              "#bd3786"
             ],
             [
              0.5555555555555556,
              "#d8576b"
             ],
             [
              0.6666666666666666,
              "#ed7953"
             ],
             [
              0.7777777777777778,
              "#fb9f3a"
             ],
             [
              0.8888888888888888,
              "#fdca26"
             ],
             [
              1,
              "#f0f921"
             ]
            ],
            "type": "histogram2dcontour"
           }
          ],
          "mesh3d": [
           {
            "colorbar": {
             "outlinewidth": 0,
             "ticks": ""
            },
            "type": "mesh3d"
           }
          ],
          "parcoords": [
           {
            "line": {
             "colorbar": {
              "outlinewidth": 0,
              "ticks": ""
             }
            },
            "type": "parcoords"
           }
          ],
          "pie": [
           {
            "automargin": true,
            "type": "pie"
           }
          ],
          "scatter": [
           {
            "fillpattern": {
             "fillmode": "overlay",
             "size": 10,
             "solidity": 0.2
            },
            "type": "scatter"
           }
          ],
          "scatter3d": [
           {
            "line": {
             "colorbar": {
              "outlinewidth": 0,
              "ticks": ""
             }
            },
            "marker": {
             "colorbar": {
              "outlinewidth": 0,
              "ticks": ""
             }
            },
            "type": "scatter3d"
           }
          ],
          "scattercarpet": [
           {
            "marker": {
             "colorbar": {
              "outlinewidth": 0,
              "ticks": ""
             }
            },
            "type": "scattercarpet"
           }
          ],
          "scattergeo": [
           {
            "marker": {
             "colorbar": {
              "outlinewidth": 0,
              "ticks": ""
             }
            },
            "type": "scattergeo"
           }
          ],
          "scattergl": [
           {
            "marker": {
             "colorbar": {
              "outlinewidth": 0,
              "ticks": ""
             }
            },
            "type": "scattergl"
           }
          ],
          "scattermap": [
           {
            "marker": {
             "colorbar": {
              "outlinewidth": 0,
              "ticks": ""
             }
            },
            "type": "scattermap"
           }
          ],
          "scattermapbox": [
           {
            "marker": {
             "colorbar": {
              "outlinewidth": 0,
              "ticks": ""
             }
            },
            "type": "scattermapbox"
           }
          ],
          "scatterpolar": [
           {
            "marker": {
             "colorbar": {
              "outlinewidth": 0,
              "ticks": ""
             }
            },
            "type": "scatterpolar"
           }
          ],
          "scatterpolargl": [
           {
            "marker": {
             "colorbar": {
              "outlinewidth": 0,
              "ticks": ""
             }
            },
            "type": "scatterpolargl"
           }
          ],
          "scatterternary": [
           {
            "marker": {
             "colorbar": {
              "outlinewidth": 0,
              "ticks": ""
             }
            },
            "type": "scatterternary"
           }
          ],
          "surface": [
           {
            "colorbar": {
             "outlinewidth": 0,
             "ticks": ""
            },
            "colorscale": [
             [
              0,
              "#0d0887"
             ],
             [
              0.1111111111111111,
              "#46039f"
             ],
             [
              0.2222222222222222,
              "#7201a8"
             ],
             [
              0.3333333333333333,
              "#9c179e"
             ],
             [
              0.4444444444444444,
              "#bd3786"
             ],
             [
              0.5555555555555556,
              "#d8576b"
             ],
             [
              0.6666666666666666,
              "#ed7953"
             ],
             [
              0.7777777777777778,
              "#fb9f3a"
             ],
             [
              0.8888888888888888,
              "#fdca26"
             ],
             [
              1,
              "#f0f921"
             ]
            ],
            "type": "surface"
           }
          ],
          "table": [
           {
            "cells": {
             "fill": {
              "color": "#EBF0F8"
             },
             "line": {
              "color": "white"
             }
            },
            "header": {
             "fill": {
              "color": "#C8D4E3"
             },
             "line": {
              "color": "white"
             }
            },
            "type": "table"
           }
          ]
         },
         "layout": {
          "annotationdefaults": {
           "arrowcolor": "#2a3f5f",
           "arrowhead": 0,
           "arrowwidth": 1
          },
          "autotypenumbers": "strict",
          "coloraxis": {
           "colorbar": {
            "outlinewidth": 0,
            "ticks": ""
           }
          },
          "colorscale": {
           "diverging": [
            [
             0,
             "#8e0152"
            ],
            [
             0.1,
             "#c51b7d"
            ],
            [
             0.2,
             "#de77ae"
            ],
            [
             0.3,
             "#f1b6da"
            ],
            [
             0.4,
             "#fde0ef"
            ],
            [
             0.5,
             "#f7f7f7"
            ],
            [
             0.6,
             "#e6f5d0"
            ],
            [
             0.7,
             "#b8e186"
            ],
            [
             0.8,
             "#7fbc41"
            ],
            [
             0.9,
             "#4d9221"
            ],
            [
             1,
             "#276419"
            ]
           ],
           "sequential": [
            [
             0,
             "#0d0887"
            ],
            [
             0.1111111111111111,
             "#46039f"
            ],
            [
             0.2222222222222222,
             "#7201a8"
            ],
            [
             0.3333333333333333,
             "#9c179e"
            ],
            [
             0.4444444444444444,
             "#bd3786"
            ],
            [
             0.5555555555555556,
             "#d8576b"
            ],
            [
             0.6666666666666666,
             "#ed7953"
            ],
            [
             0.7777777777777778,
             "#fb9f3a"
            ],
            [
             0.8888888888888888,
             "#fdca26"
            ],
            [
             1,
             "#f0f921"
            ]
           ],
           "sequentialminus": [
            [
             0,
             "#0d0887"
            ],
            [
             0.1111111111111111,
             "#46039f"
            ],
            [
             0.2222222222222222,
             "#7201a8"
            ],
            [
             0.3333333333333333,
             "#9c179e"
            ],
            [
             0.4444444444444444,
             "#bd3786"
            ],
            [
             0.5555555555555556,
             "#d8576b"
            ],
            [
             0.6666666666666666,
             "#ed7953"
            ],
            [
             0.7777777777777778,
             "#fb9f3a"
            ],
            [
             0.8888888888888888,
             "#fdca26"
            ],
            [
             1,
             "#f0f921"
            ]
           ]
          },
          "colorway": [
           "#636efa",
           "#EF553B",
           "#00cc96",
           "#ab63fa",
           "#FFA15A",
           "#19d3f3",
           "#FF6692",
           "#B6E880",
           "#FF97FF",
           "#FECB52"
          ],
          "font": {
           "color": "#2a3f5f"
          },
          "geo": {
           "bgcolor": "white",
           "lakecolor": "white",
           "landcolor": "#E5ECF6",
           "showlakes": true,
           "showland": true,
           "subunitcolor": "white"
          },
          "hoverlabel": {
           "align": "left"
          },
          "hovermode": "closest",
          "mapbox": {
           "style": "light"
          },
          "paper_bgcolor": "white",
          "plot_bgcolor": "#E5ECF6",
          "polar": {
           "angularaxis": {
            "gridcolor": "white",
            "linecolor": "white",
            "ticks": ""
           },
           "bgcolor": "#E5ECF6",
           "radialaxis": {
            "gridcolor": "white",
            "linecolor": "white",
            "ticks": ""
           }
          },
          "scene": {
           "xaxis": {
            "backgroundcolor": "#E5ECF6",
            "gridcolor": "white",
            "gridwidth": 2,
            "linecolor": "white",
            "showbackground": true,
            "ticks": "",
            "zerolinecolor": "white"
           },
           "yaxis": {
            "backgroundcolor": "#E5ECF6",
            "gridcolor": "white",
            "gridwidth": 2,
            "linecolor": "white",
            "showbackground": true,
            "ticks": "",
            "zerolinecolor": "white"
           },
           "zaxis": {
            "backgroundcolor": "#E5ECF6",
            "gridcolor": "white",
            "gridwidth": 2,
            "linecolor": "white",
            "showbackground": true,
            "ticks": "",
            "zerolinecolor": "white"
           }
          },
          "shapedefaults": {
           "line": {
            "color": "#2a3f5f"
           }
          },
          "ternary": {
           "aaxis": {
            "gridcolor": "white",
            "linecolor": "white",
            "ticks": ""
           },
           "baxis": {
            "gridcolor": "white",
            "linecolor": "white",
            "ticks": ""
           },
           "bgcolor": "#E5ECF6",
           "caxis": {
            "gridcolor": "white",
            "linecolor": "white",
            "ticks": ""
           }
          },
          "title": {
           "x": 0.05
          },
          "xaxis": {
           "automargin": true,
           "gridcolor": "white",
           "linecolor": "white",
           "ticks": "",
           "title": {
            "standoff": 15
           },
           "zerolinecolor": "white",
           "zerolinewidth": 2
          },
          "yaxis": {
           "automargin": true,
           "gridcolor": "white",
           "linecolor": "white",
           "ticks": "",
           "title": {
            "standoff": 15
           },
           "zerolinecolor": "white",
           "zerolinewidth": 2
          }
         }
        },
        "xaxis": {
         "anchor": "y",
         "domain": [
          0,
          1
         ],
         "title": {
          "text": "x"
         }
        },
        "yaxis": {
         "anchor": "x",
         "domain": [
          0,
          1
         ],
         "title": {
          "text": "y"
         }
        }
       }
      }
     },
     "metadata": {},
     "output_type": "display_data"
    }
   ],
   "source": [
    "px.scatter(\n",
    "    x=range(len(lossdevi)),\n",
    "    y=lossdevi,\n",
    "    trendline='lowess'\n",
    ")\n"
   ]
  },
  {
   "cell_type": "markdown",
   "id": "88d772c8",
   "metadata": {},
   "source": [
    "## Evaluate performance"
   ]
  },
  {
   "cell_type": "code",
   "execution_count": 573,
   "id": "88dc6cab",
   "metadata": {},
   "outputs": [
    {
     "data": {
      "text/plain": [
       "tensor(2.5493, grad_fn=<NllLossBackward0>)"
      ]
     },
     "execution_count": 573,
     "metadata": {},
     "output_type": "execute_result"
    }
   ],
   "source": [
    "logits = forward(Xdev)\n",
    "loss = F.cross_entropy(logits, Ydev)\n",
    "\n",
    "loss"
   ]
  },
  {
   "cell_type": "code",
   "execution_count": 574,
   "id": "c02278c4",
   "metadata": {},
   "outputs": [
    {
     "data": {
      "text/plain": [
       "tensor(2.2921, grad_fn=<NllLossBackward0>)"
      ]
     },
     "execution_count": 574,
     "metadata": {},
     "output_type": "execute_result"
    }
   ],
   "source": [
    "logits = forward(Xtr)\n",
    "loss = F.cross_entropy(logits, Ytr)\n",
    "\n",
    "loss"
   ]
  },
  {
   "cell_type": "markdown",
   "id": "9cfa1689",
   "metadata": {},
   "source": [
    "If both losses are roughly equal, the network is likely underfitting. Once the training loss starts to sink below the dev loss, we are probably overfitting."
   ]
  },
  {
   "cell_type": "markdown",
   "id": "eee39a31",
   "metadata": {},
   "source": [
    "## Generate by forward pass"
   ]
  },
  {
   "cell_type": "code",
   "execution_count": 575,
   "id": "62a79a81",
   "metadata": {},
   "outputs": [],
   "source": [
    "def gen(seed):\n",
    "    x = [stoi(ch) for ch in seed[-window:]]\n",
    "\n",
    "    x = torch.tensor(x)\n",
    "\n",
    "    logits = forward(x)\n",
    "    probs = F.softmax(logits, dim=1) \n",
    "    next = torch.multinomial(probs, num_samples=1).item()\n",
    "\n",
    "    ch = itos(next)\n",
    "    seed += ch\n",
    "\n",
    "    return seed\n"
   ]
  },
  {
   "cell_type": "code",
   "execution_count": 626,
   "id": "fb92c77c",
   "metadata": {},
   "outputs": [
    {
     "name": "stdout",
     "output_type": "stream",
     "text": [
      ".....zylen.\n"
     ]
    }
   ],
   "source": [
    "seed = special_char * window \n",
    "\n",
    "while True:\n",
    "    seed = gen(seed)\n",
    "    if seed[-1] == special_char:\n",
    "        break\n",
    "\n",
    "print(seed)"
   ]
  },
  {
   "cell_type": "markdown",
   "id": "fde34cda",
   "metadata": {},
   "source": [
    "### Question: does increasing the window size prevent super-long names that seemingly occured previously? \n",
    "\n",
    "Hypothesis: yes, because the model takes into account that if the past five letters are all chars, a dot is more likely. With three letters, there are a lot more examples where three chars =/= dot is more likely since the name is not ending yet.\n",
    "\n",
    "Test plan: generate a bunch of random samples of names after the model has been trained and compare the distribution of name lengths. "
   ]
  },
  {
   "cell_type": "markdown",
   "id": "f2623d2f",
   "metadata": {},
   "source": [
    "## Visualize vector embeddings"
   ]
  },
  {
   "cell_type": "markdown",
   "id": "ced272f1",
   "metadata": {},
   "source": [
    "### 2D"
   ]
  },
  {
   "cell_type": "code",
   "execution_count": 627,
   "id": "e0836599",
   "metadata": {},
   "outputs": [
    {
     "data": {
      "application/vnd.plotly.v1+json": {
       "config": {
        "plotlyServerURL": "https://plot.ly"
       },
       "data": [
        {
         "hovertemplate": "0=%{x}<br>1=%{y}<br>size=%{marker.size}<br>text=%{text}<extra></extra>",
         "legendgroup": "",
         "marker": {
          "color": "#636efa",
          "size": {
           "bdata": "AQEBAQEBAQEBAQEBAQEBAQEBAQEBAQEBAQEB",
           "dtype": "i1"
          },
          "sizemode": "area",
          "sizeref": 0.0044444444444444444,
          "symbol": "circle"
         },
         "mode": "markers+text",
         "name": "",
         "orientation": "v",
         "showlegend": false,
         "text": [
          ".",
          "a",
          "b",
          "c",
          "d",
          "e",
          "f",
          "g",
          "h",
          "i",
          "j",
          "k",
          "l",
          "m",
          "n",
          "o",
          "p",
          "q",
          "r",
          "s",
          "t",
          "u",
          "v",
          "w",
          "x",
          "y",
          "z"
         ],
         "type": "scatter",
         "x": {
          "bdata": "9WgPv0XZ3D47kUA+XX57Pg0Fgj7yWsY+ohtuPdB3yD4AS6s+IcCpPnIwTT44Ip8+HRByPolgcT4osUQ+bxLPPul7oz4g5ok+9ttlPkYbnT7caZw+06iFPyFwRj4JbZg+syfHPlJYxD4yKHc+",
          "dtype": "f4"
         },
         "xaxis": "x",
         "y": {
          "bdata": "rLygP6pZID+MdSI/ND8iPyYBKD8o7RU/zEIjvuelOj+VvCI/skopP+ziBz9wuyo/PaY8PzAWJT9MQCM/MN0WPz4oKD+WvzQ/iTEpP+PkLj+JzCk/Mratv4tHMj8pph4/AK8oP+z3Jj9zPyY/",
          "dtype": "f4"
         },
         "yaxis": "y"
        }
       ],
       "layout": {
        "legend": {
         "itemsizing": "constant",
         "tracegroupgap": 0
        },
        "template": {
         "data": {
          "bar": [
           {
            "error_x": {
             "color": "#2a3f5f"
            },
            "error_y": {
             "color": "#2a3f5f"
            },
            "marker": {
             "line": {
              "color": "#E5ECF6",
              "width": 0.5
             },
             "pattern": {
              "fillmode": "overlay",
              "size": 10,
              "solidity": 0.2
             }
            },
            "type": "bar"
           }
          ],
          "barpolar": [
           {
            "marker": {
             "line": {
              "color": "#E5ECF6",
              "width": 0.5
             },
             "pattern": {
              "fillmode": "overlay",
              "size": 10,
              "solidity": 0.2
             }
            },
            "type": "barpolar"
           }
          ],
          "carpet": [
           {
            "aaxis": {
             "endlinecolor": "#2a3f5f",
             "gridcolor": "white",
             "linecolor": "white",
             "minorgridcolor": "white",
             "startlinecolor": "#2a3f5f"
            },
            "baxis": {
             "endlinecolor": "#2a3f5f",
             "gridcolor": "white",
             "linecolor": "white",
             "minorgridcolor": "white",
             "startlinecolor": "#2a3f5f"
            },
            "type": "carpet"
           }
          ],
          "choropleth": [
           {
            "colorbar": {
             "outlinewidth": 0,
             "ticks": ""
            },
            "type": "choropleth"
           }
          ],
          "contour": [
           {
            "colorbar": {
             "outlinewidth": 0,
             "ticks": ""
            },
            "colorscale": [
             [
              0,
              "#0d0887"
             ],
             [
              0.1111111111111111,
              "#46039f"
             ],
             [
              0.2222222222222222,
              "#7201a8"
             ],
             [
              0.3333333333333333,
              "#9c179e"
             ],
             [
              0.4444444444444444,
              "#bd3786"
             ],
             [
              0.5555555555555556,
              "#d8576b"
             ],
             [
              0.6666666666666666,
              "#ed7953"
             ],
             [
              0.7777777777777778,
              "#fb9f3a"
             ],
             [
              0.8888888888888888,
              "#fdca26"
             ],
             [
              1,
              "#f0f921"
             ]
            ],
            "type": "contour"
           }
          ],
          "contourcarpet": [
           {
            "colorbar": {
             "outlinewidth": 0,
             "ticks": ""
            },
            "type": "contourcarpet"
           }
          ],
          "heatmap": [
           {
            "colorbar": {
             "outlinewidth": 0,
             "ticks": ""
            },
            "colorscale": [
             [
              0,
              "#0d0887"
             ],
             [
              0.1111111111111111,
              "#46039f"
             ],
             [
              0.2222222222222222,
              "#7201a8"
             ],
             [
              0.3333333333333333,
              "#9c179e"
             ],
             [
              0.4444444444444444,
              "#bd3786"
             ],
             [
              0.5555555555555556,
              "#d8576b"
             ],
             [
              0.6666666666666666,
              "#ed7953"
             ],
             [
              0.7777777777777778,
              "#fb9f3a"
             ],
             [
              0.8888888888888888,
              "#fdca26"
             ],
             [
              1,
              "#f0f921"
             ]
            ],
            "type": "heatmap"
           }
          ],
          "histogram": [
           {
            "marker": {
             "pattern": {
              "fillmode": "overlay",
              "size": 10,
              "solidity": 0.2
             }
            },
            "type": "histogram"
           }
          ],
          "histogram2d": [
           {
            "colorbar": {
             "outlinewidth": 0,
             "ticks": ""
            },
            "colorscale": [
             [
              0,
              "#0d0887"
             ],
             [
              0.1111111111111111,
              "#46039f"
             ],
             [
              0.2222222222222222,
              "#7201a8"
             ],
             [
              0.3333333333333333,
              "#9c179e"
             ],
             [
              0.4444444444444444,
              "#bd3786"
             ],
             [
              0.5555555555555556,
              "#d8576b"
             ],
             [
              0.6666666666666666,
              "#ed7953"
             ],
             [
              0.7777777777777778,
              "#fb9f3a"
             ],
             [
              0.8888888888888888,
              "#fdca26"
             ],
             [
              1,
              "#f0f921"
             ]
            ],
            "type": "histogram2d"
           }
          ],
          "histogram2dcontour": [
           {
            "colorbar": {
             "outlinewidth": 0,
             "ticks": ""
            },
            "colorscale": [
             [
              0,
              "#0d0887"
             ],
             [
              0.1111111111111111,
              "#46039f"
             ],
             [
              0.2222222222222222,
              "#7201a8"
             ],
             [
              0.3333333333333333,
              "#9c179e"
             ],
             [
              0.4444444444444444,
              "#bd3786"
             ],
             [
              0.5555555555555556,
              "#d8576b"
             ],
             [
              0.6666666666666666,
              "#ed7953"
             ],
             [
              0.7777777777777778,
              "#fb9f3a"
             ],
             [
              0.8888888888888888,
              "#fdca26"
             ],
             [
              1,
              "#f0f921"
             ]
            ],
            "type": "histogram2dcontour"
           }
          ],
          "mesh3d": [
           {
            "colorbar": {
             "outlinewidth": 0,
             "ticks": ""
            },
            "type": "mesh3d"
           }
          ],
          "parcoords": [
           {
            "line": {
             "colorbar": {
              "outlinewidth": 0,
              "ticks": ""
             }
            },
            "type": "parcoords"
           }
          ],
          "pie": [
           {
            "automargin": true,
            "type": "pie"
           }
          ],
          "scatter": [
           {
            "fillpattern": {
             "fillmode": "overlay",
             "size": 10,
             "solidity": 0.2
            },
            "type": "scatter"
           }
          ],
          "scatter3d": [
           {
            "line": {
             "colorbar": {
              "outlinewidth": 0,
              "ticks": ""
             }
            },
            "marker": {
             "colorbar": {
              "outlinewidth": 0,
              "ticks": ""
             }
            },
            "type": "scatter3d"
           }
          ],
          "scattercarpet": [
           {
            "marker": {
             "colorbar": {
              "outlinewidth": 0,
              "ticks": ""
             }
            },
            "type": "scattercarpet"
           }
          ],
          "scattergeo": [
           {
            "marker": {
             "colorbar": {
              "outlinewidth": 0,
              "ticks": ""
             }
            },
            "type": "scattergeo"
           }
          ],
          "scattergl": [
           {
            "marker": {
             "colorbar": {
              "outlinewidth": 0,
              "ticks": ""
             }
            },
            "type": "scattergl"
           }
          ],
          "scattermap": [
           {
            "marker": {
             "colorbar": {
              "outlinewidth": 0,
              "ticks": ""
             }
            },
            "type": "scattermap"
           }
          ],
          "scattermapbox": [
           {
            "marker": {
             "colorbar": {
              "outlinewidth": 0,
              "ticks": ""
             }
            },
            "type": "scattermapbox"
           }
          ],
          "scatterpolar": [
           {
            "marker": {
             "colorbar": {
              "outlinewidth": 0,
              "ticks": ""
             }
            },
            "type": "scatterpolar"
           }
          ],
          "scatterpolargl": [
           {
            "marker": {
             "colorbar": {
              "outlinewidth": 0,
              "ticks": ""
             }
            },
            "type": "scatterpolargl"
           }
          ],
          "scatterternary": [
           {
            "marker": {
             "colorbar": {
              "outlinewidth": 0,
              "ticks": ""
             }
            },
            "type": "scatterternary"
           }
          ],
          "surface": [
           {
            "colorbar": {
             "outlinewidth": 0,
             "ticks": ""
            },
            "colorscale": [
             [
              0,
              "#0d0887"
             ],
             [
              0.1111111111111111,
              "#46039f"
             ],
             [
              0.2222222222222222,
              "#7201a8"
             ],
             [
              0.3333333333333333,
              "#9c179e"
             ],
             [
              0.4444444444444444,
              "#bd3786"
             ],
             [
              0.5555555555555556,
              "#d8576b"
             ],
             [
              0.6666666666666666,
              "#ed7953"
             ],
             [
              0.7777777777777778,
              "#fb9f3a"
             ],
             [
              0.8888888888888888,
              "#fdca26"
             ],
             [
              1,
              "#f0f921"
             ]
            ],
            "type": "surface"
           }
          ],
          "table": [
           {
            "cells": {
             "fill": {
              "color": "#EBF0F8"
             },
             "line": {
              "color": "white"
             }
            },
            "header": {
             "fill": {
              "color": "#C8D4E3"
             },
             "line": {
              "color": "white"
             }
            },
            "type": "table"
           }
          ]
         },
         "layout": {
          "annotationdefaults": {
           "arrowcolor": "#2a3f5f",
           "arrowhead": 0,
           "arrowwidth": 1
          },
          "autotypenumbers": "strict",
          "coloraxis": {
           "colorbar": {
            "outlinewidth": 0,
            "ticks": ""
           }
          },
          "colorscale": {
           "diverging": [
            [
             0,
             "#8e0152"
            ],
            [
             0.1,
             "#c51b7d"
            ],
            [
             0.2,
             "#de77ae"
            ],
            [
             0.3,
             "#f1b6da"
            ],
            [
             0.4,
             "#fde0ef"
            ],
            [
             0.5,
             "#f7f7f7"
            ],
            [
             0.6,
             "#e6f5d0"
            ],
            [
             0.7,
             "#b8e186"
            ],
            [
             0.8,
             "#7fbc41"
            ],
            [
             0.9,
             "#4d9221"
            ],
            [
             1,
             "#276419"
            ]
           ],
           "sequential": [
            [
             0,
             "#0d0887"
            ],
            [
             0.1111111111111111,
             "#46039f"
            ],
            [
             0.2222222222222222,
             "#7201a8"
            ],
            [
             0.3333333333333333,
             "#9c179e"
            ],
            [
             0.4444444444444444,
             "#bd3786"
            ],
            [
             0.5555555555555556,
             "#d8576b"
            ],
            [
             0.6666666666666666,
             "#ed7953"
            ],
            [
             0.7777777777777778,
             "#fb9f3a"
            ],
            [
             0.8888888888888888,
             "#fdca26"
            ],
            [
             1,
             "#f0f921"
            ]
           ],
           "sequentialminus": [
            [
             0,
             "#0d0887"
            ],
            [
             0.1111111111111111,
             "#46039f"
            ],
            [
             0.2222222222222222,
             "#7201a8"
            ],
            [
             0.3333333333333333,
             "#9c179e"
            ],
            [
             0.4444444444444444,
             "#bd3786"
            ],
            [
             0.5555555555555556,
             "#d8576b"
            ],
            [
             0.6666666666666666,
             "#ed7953"
            ],
            [
             0.7777777777777778,
             "#fb9f3a"
            ],
            [
             0.8888888888888888,
             "#fdca26"
            ],
            [
             1,
             "#f0f921"
            ]
           ]
          },
          "colorway": [
           "#636efa",
           "#EF553B",
           "#00cc96",
           "#ab63fa",
           "#FFA15A",
           "#19d3f3",
           "#FF6692",
           "#B6E880",
           "#FF97FF",
           "#FECB52"
          ],
          "font": {
           "color": "#2a3f5f"
          },
          "geo": {
           "bgcolor": "white",
           "lakecolor": "white",
           "landcolor": "#E5ECF6",
           "showlakes": true,
           "showland": true,
           "subunitcolor": "white"
          },
          "hoverlabel": {
           "align": "left"
          },
          "hovermode": "closest",
          "mapbox": {
           "style": "light"
          },
          "paper_bgcolor": "white",
          "plot_bgcolor": "#E5ECF6",
          "polar": {
           "angularaxis": {
            "gridcolor": "white",
            "linecolor": "white",
            "ticks": ""
           },
           "bgcolor": "#E5ECF6",
           "radialaxis": {
            "gridcolor": "white",
            "linecolor": "white",
            "ticks": ""
           }
          },
          "scene": {
           "xaxis": {
            "backgroundcolor": "#E5ECF6",
            "gridcolor": "white",
            "gridwidth": 2,
            "linecolor": "white",
            "showbackground": true,
            "ticks": "",
            "zerolinecolor": "white"
           },
           "yaxis": {
            "backgroundcolor": "#E5ECF6",
            "gridcolor": "white",
            "gridwidth": 2,
            "linecolor": "white",
            "showbackground": true,
            "ticks": "",
            "zerolinecolor": "white"
           },
           "zaxis": {
            "backgroundcolor": "#E5ECF6",
            "gridcolor": "white",
            "gridwidth": 2,
            "linecolor": "white",
            "showbackground": true,
            "ticks": "",
            "zerolinecolor": "white"
           }
          },
          "shapedefaults": {
           "line": {
            "color": "#2a3f5f"
           }
          },
          "ternary": {
           "aaxis": {
            "gridcolor": "white",
            "linecolor": "white",
            "ticks": ""
           },
           "baxis": {
            "gridcolor": "white",
            "linecolor": "white",
            "ticks": ""
           },
           "bgcolor": "#E5ECF6",
           "caxis": {
            "gridcolor": "white",
            "linecolor": "white",
            "ticks": ""
           }
          },
          "title": {
           "x": 0.05
          },
          "xaxis": {
           "automargin": true,
           "gridcolor": "white",
           "linecolor": "white",
           "ticks": "",
           "title": {
            "standoff": 15
           },
           "zerolinecolor": "white",
           "zerolinewidth": 2
          },
          "yaxis": {
           "automargin": true,
           "gridcolor": "white",
           "linecolor": "white",
           "ticks": "",
           "title": {
            "standoff": 15
           },
           "zerolinecolor": "white",
           "zerolinewidth": 2
          }
         }
        },
        "title": {
         "text": "Character embeddings"
        },
        "xaxis": {
         "anchor": "y",
         "domain": [
          0,
          1
         ],
         "title": {
          "text": "0"
         }
        },
        "yaxis": {
         "anchor": "x",
         "domain": [
          0,
          1
         ],
         "title": {
          "text": "1"
         }
        }
       }
      }
     },
     "metadata": {},
     "output_type": "display_data"
    }
   ],
   "source": [
    "every = [stoi(ch) for ch in lookup]\n",
    "every = torch.tensor(every)\n",
    "\n",
    "df = C[every].data\n",
    "px.scatter(df, x=0, y=1, text=lookup, title='Character embeddings', size_max=15, size=[1] * len(df))\n"
   ]
  },
  {
   "cell_type": "markdown",
   "id": "676f624c",
   "metadata": {},
   "source": [
    "## Ideas to optimize loss\n",
    "0. Default                                          | loss = 2.4434\n",
    "1. Mini-batching while iterating over everything    | loss = 2.4384 (after running the loop twice, i.e. didn't seem to have much effect probably cuz of law of large numbers)\n",
    "2. Larger hidden layer                              | loss_200 = 2.4335, loss_300 = 2.4540 \n",
    "2.5 Keeping track of the min_loss on the dev set every epoch | didn't help much either, basically the same as in the final step of training (~2.45)\n",
    "* fixed setting lr to smaller based on epoch_i, that (seemed to have) helped get ~2.36\n",
    "\n",
    "NB! Ignore all of the above. Few bugs were fixes:\n",
    "- initializing W2 layer with rand instead of randn\n",
    "- not resetting the C embedding matrix after training loops for different models\n",
    "\n",
    "seem to be getting roughly 2.5 now no matter what -> why not equal to / lower than Antony's? \n",
    "\n",
    "3. More vector embedding dimensions\n",
    "    -> meh, still 2.4469\n",
    "\n",
    "2.4243 is lowest so far\n",
    "\n",
    "2.3806 with slightly nudging up the batch size, and training for longer, as well as a 4-char context window!!\n",
    "\n",
    "4. Use a larger context window\n",
    "5. Regularization!!"
   ]
  },
  {
   "cell_type": "code",
   "execution_count": null,
   "id": "590ca814",
   "metadata": {},
   "outputs": [],
   "source": []
  },
  {
   "cell_type": "code",
   "execution_count": null,
   "id": "cf07e71c",
   "metadata": {},
   "outputs": [],
   "source": []
  }
 ],
 "metadata": {
  "kernelspec": {
   "display_name": ".venv",
   "language": "python",
   "name": "python3"
  },
  "language_info": {
   "codemirror_mode": {
    "name": "ipython",
    "version": 3
   },
   "file_extension": ".py",
   "mimetype": "text/x-python",
   "name": "python",
   "nbconvert_exporter": "python",
   "pygments_lexer": "ipython3",
   "version": "3.13.3"
  }
 },
 "nbformat": 4,
 "nbformat_minor": 5
}
