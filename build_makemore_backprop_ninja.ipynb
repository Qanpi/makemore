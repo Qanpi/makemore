{
  "cells": [
    {
      "cell_type": "markdown",
      "metadata": {
        "id": "rToK0Tku8PPn"
      },
      "source": [
        "## makemore: becoming a backprop ninja"
      ]
    },
    {
      "cell_type": "code",
      "execution_count": 1,
      "metadata": {
        "id": "8sFElPqq8PPp"
      },
      "outputs": [],
      "source": [
        "# there no change change in the first several cells from last lecture"
      ]
    },
    {
      "cell_type": "code",
      "execution_count": 2,
      "metadata": {
        "id": "ChBbac4y8PPq"
      },
      "outputs": [],
      "source": [
        "import torch\n",
        "import torch.nn.functional as F\n",
        "import matplotlib.pyplot as plt # for making figures\n",
        "%matplotlib inline"
      ]
    },
    {
      "cell_type": "code",
      "execution_count": 3,
      "metadata": {
        "id": "x6GhEWW18aCS"
      },
      "outputs": [],
      "source": [
        "# download the names.txt file from github\n",
        "# !curl https://raw.githubusercontent.com/karpathy/makemore/master/names.txt"
      ]
    },
    {
      "cell_type": "code",
      "execution_count": 4,
      "metadata": {
        "id": "klmu3ZG08PPr"
      },
      "outputs": [
        {
          "name": "stdout",
          "output_type": "stream",
          "text": [
            "32033\n",
            "15\n",
            "['emma', 'olivia', 'ava', 'isabella', 'sophia', 'charlotte', 'mia', 'amelia']\n"
          ]
        }
      ],
      "source": [
        "# read in all the words\n",
        "words = open('names.txt', 'r').read().splitlines()\n",
        "print(len(words))\n",
        "print(max(len(w) for w in words))\n",
        "print(words[:8])"
      ]
    },
    {
      "cell_type": "code",
      "execution_count": 5,
      "metadata": {
        "id": "BCQomLE_8PPs"
      },
      "outputs": [
        {
          "name": "stdout",
          "output_type": "stream",
          "text": [
            "{1: 'a', 2: 'b', 3: 'c', 4: 'd', 5: 'e', 6: 'f', 7: 'g', 8: 'h', 9: 'i', 10: 'j', 11: 'k', 12: 'l', 13: 'm', 14: 'n', 15: 'o', 16: 'p', 17: 'q', 18: 'r', 19: 's', 20: 't', 21: 'u', 22: 'v', 23: 'w', 24: 'x', 25: 'y', 26: 'z', 0: '.'}\n",
            "27\n"
          ]
        }
      ],
      "source": [
        "# build the vocabulary of characters and mappings to/from integers\n",
        "chars = sorted(list(set(''.join(words))))\n",
        "stoi = {s:i+1 for i,s in enumerate(chars)}\n",
        "stoi['.'] = 0\n",
        "itos = {i:s for s,i in stoi.items()}\n",
        "vocab_size = len(itos)\n",
        "print(itos)\n",
        "print(vocab_size)"
      ]
    },
    {
      "cell_type": "code",
      "execution_count": 6,
      "metadata": {
        "id": "V_zt2QHr8PPs"
      },
      "outputs": [
        {
          "name": "stdout",
          "output_type": "stream",
          "text": [
            "torch.Size([182625, 3]) torch.Size([182625])\n",
            "torch.Size([22655, 3]) torch.Size([22655])\n",
            "torch.Size([22866, 3]) torch.Size([22866])\n"
          ]
        }
      ],
      "source": [
        "# build the dataset\n",
        "block_size = 3 # context length: how many characters do we take to predict the next one?\n",
        "\n",
        "def build_dataset(words):\n",
        "  X, Y = [], []\n",
        "\n",
        "  for w in words:\n",
        "    context = [0] * block_size\n",
        "    for ch in w + '.':\n",
        "      ix = stoi[ch]\n",
        "      X.append(context)\n",
        "      Y.append(ix)\n",
        "      context = context[1:] + [ix] # crop and append\n",
        "\n",
        "  X = torch.tensor(X)\n",
        "  Y = torch.tensor(Y)\n",
        "  print(X.shape, Y.shape)\n",
        "  return X, Y\n",
        "\n",
        "import random\n",
        "random.seed(42)\n",
        "random.shuffle(words)\n",
        "n1 = int(0.8*len(words))\n",
        "n2 = int(0.9*len(words))\n",
        "\n",
        "Xtr,  Ytr  = build_dataset(words[:n1])     # 80%\n",
        "Xdev, Ydev = build_dataset(words[n1:n2])   # 10%\n",
        "Xte,  Yte  = build_dataset(words[n2:])     # 10%"
      ]
    },
    {
      "cell_type": "code",
      "execution_count": 7,
      "metadata": {
        "id": "eg20-vsg8PPt"
      },
      "outputs": [],
      "source": [
        "# ok biolerplate done, now we get to the action:"
      ]
    },
    {
      "cell_type": "code",
      "execution_count": 8,
      "metadata": {
        "id": "MJPU8HT08PPu"
      },
      "outputs": [],
      "source": [
        "# utility function we will use later when comparing manual gradients to PyTorch gradients\n",
        "def cmp(s, dt, t):\n",
        "  ex = torch.all(dt == t.grad).item()\n",
        "  app = torch.allclose(dt, t.grad)\n",
        "  maxdiff = (dt - t.grad).abs().max().item()\n",
        "  print(f'{s:15s} | exact: {str(ex):5s} | approximate: {str(app):5s} | maxdiff: {maxdiff}')"
      ]
    },
    {
      "cell_type": "code",
      "execution_count": 9,
      "metadata": {
        "id": "ZlFLjQyT8PPu"
      },
      "outputs": [
        {
          "name": "stdout",
          "output_type": "stream",
          "text": [
            "4137\n"
          ]
        }
      ],
      "source": [
        "n_embd = 10 # the dimensionality of the character embedding vectors\n",
        "n_hidden = 64 # the number of neurons in the hidden layer of the MLP\n",
        "\n",
        "g = torch.Generator().manual_seed(2147483647) # for reproducibility\n",
        "C  = torch.randn((vocab_size, n_embd),            generator=g)\n",
        "# Layer 1\n",
        "W1 = torch.randn((n_embd * block_size, n_hidden), generator=g) * (5/3)/((n_embd * block_size)**0.5)\n",
        "b1 = torch.randn(n_hidden,                        generator=g) * 0.1 # using b1 just for fun, it's useless because of BN\n",
        "# Layer 2\n",
        "W2 = torch.randn((n_hidden, vocab_size),          generator=g) * 0.1\n",
        "b2 = torch.randn(vocab_size,                      generator=g) * 0.1\n",
        "# BatchNorm parameters\n",
        "bngain = torch.randn((1, n_hidden))*0.1 + 1.0\n",
        "bnbias = torch.randn((1, n_hidden))*0.1\n",
        "\n",
        "# Note: I am initializating many of these parameters in non-standard ways\n",
        "# because sometimes initializating with e.g. all zeros could mask an incorrect\n",
        "# implementation of the backward pass.\n",
        "\n",
        "parameters = [C, W1, b1, W2, b2, bngain, bnbias]\n",
        "print(sum(p.nelement() for p in parameters)) # number of parameters in total\n",
        "for p in parameters:\n",
        "  p.requires_grad = True"
      ]
    },
    {
      "cell_type": "code",
      "execution_count": 10,
      "metadata": {
        "id": "QY-y96Y48PPv"
      },
      "outputs": [],
      "source": [
        "batch_size = 32\n",
        "n = batch_size # a shorter variable also, for convenience\n",
        "# construct a minibatch\n",
        "ix = torch.randint(0, Xtr.shape[0], (batch_size,), generator=g)\n",
        "Xb, Yb = Xtr[ix], Ytr[ix] # batch X,Y"
      ]
    },
    {
      "cell_type": "code",
      "execution_count": 11,
      "metadata": {
        "id": "8ofj1s6d8PPv"
      },
      "outputs": [
        {
          "data": {
            "text/plain": [
              "tensor(3.3492, grad_fn=<NegBackward0>)"
            ]
          },
          "execution_count": 11,
          "metadata": {},
          "output_type": "execute_result"
        }
      ],
      "source": [
        "# forward pass, \"chunkated\" into smaller steps that are possible to backward one at a time\n",
        "\n",
        "emb = C[Xb] # embed the characters into vectors\n",
        "embcat = emb.view(emb.shape[0], -1) # concatenate the vectors\n",
        "# Linear layer 1\n",
        "hprebn = embcat @ W1 + b1 # hidden layer pre-activation\n",
        "# BatchNorm layer\n",
        "bnmeani = 1/n*hprebn.sum(0, keepdim=True)\n",
        "bndiff = hprebn - bnmeani\n",
        "bndiff2 = bndiff**2\n",
        "bnvar = 1/(n-1)*(bndiff2).sum(0, keepdim=True) # note: Bessel's correction (dividing by n-1, not n)\n",
        "bnvar_inv = (bnvar + 1e-5)**-0.5 \n",
        "bnraw = bndiff * bnvar_inv\n",
        "hpreact = bngain * bnraw + bnbias\n",
        "# Non-linearity\n",
        "h = torch.tanh(hpreact) # hidden layer\n",
        "# Linear layer 2\n",
        "logits = h @ W2 + b2 # output layer\n",
        "# cross entropy loss (same as F.cross_entropy(logits, Yb))\n",
        "logit_maxes = logits.max(1, keepdim=True).values\n",
        "norm_logits = logits - logit_maxes # subtract max for numerical stability\n",
        "counts = norm_logits.exp()\n",
        "counts_sum = counts.sum(1, keepdims=True)\n",
        "counts_sum_inv = counts_sum**-1 # if I use (1.0 / counts_sum) instead then I can't get backprop to be bit exact...\n",
        "probs = counts * counts_sum_inv\n",
        "logprobs = probs.log()\n",
        "loss = -logprobs[range(n), Yb].mean()\n",
        "\n",
        "# PyTorch backward pass\n",
        "for p in parameters:\n",
        "  p.grad = None\n",
        "for t in [logprobs, probs, counts, counts_sum, counts_sum_inv, # afaik there is no cleaner way\n",
        "          norm_logits, logit_maxes, logits, h, hpreact, bnraw,\n",
        "         bnvar_inv, bnvar, bndiff2, bndiff, hprebn, bnmeani,\n",
        "         embcat, emb]:\n",
        "  t.retain_grad()\n",
        "loss.backward()\n",
        "loss"
      ]
    },
    {
      "cell_type": "markdown",
      "metadata": {},
      "source": [
        "### figuring out backprop/chain rule for matrix mult"
      ]
    },
    {
      "cell_type": "code",
      "execution_count": 12,
      "metadata": {},
      "outputs": [],
      "source": [
        "# a b       e f         ae+bg   af+bh\n",
        "# c d   x   g h     =   ce+dg   cf+dh\n",
        "\n",
        "# so d/da           =   e       f\n",
        "#                       0       0\n",
        "\n",
        "# d/da\n",
        "# e f\n",
        "# 0 0\n",
        "\n",
        "# d/db\n",
        "# g h\n",
        "# 0 0\n",
        "\n",
        "# d/dc\n",
        "# 0 0\n",
        "# e f\n",
        "\n",
        "# d/dd\n",
        "# 0 0\n",
        "# g h \n",
        "\n",
        "\n",
        "# how does this transfer to the basic multiplication done in micrograd? "
      ]
    },
    {
      "cell_type": "code",
      "execution_count": 13,
      "metadata": {},
      "outputs": [
        {
          "data": {
            "text/plain": [
              "tensor(3665.1279, grad_fn=<SumBackward0>)"
            ]
          },
          "execution_count": 13,
          "metadata": {},
          "output_type": "execute_result"
        }
      ],
      "source": [
        "a = torch.tensor([\n",
        "    [3., 2., ],\n",
        "    [1., 2., ],\n",
        "    [1., 3., ]\n",
        "])\n",
        "\n",
        "batch = torch.tensor([\n",
        "    [1., 1., 3],\n",
        "    [1., 2., -1],\n",
        "])\n",
        "\n",
        "a.requires_grad = True\n",
        "batch.requires_grad = True\n",
        "\n",
        "c = a @ batch\n",
        "c.retain_grad()\n",
        "\n",
        "loss = c.exp().sum()\n",
        "loss.retain_grad()\n",
        "\n",
        "loss.backward()\n",
        "loss"
      ]
    },
    {
      "cell_type": "code",
      "execution_count": 14,
      "metadata": {},
      "outputs": [],
      "source": [
        "dc = c.exp()"
      ]
    },
    {
      "cell_type": "code",
      "execution_count": 15,
      "metadata": {},
      "outputs": [
        {
          "data": {
            "text/plain": [
              "tensor([[4534.9458, 1245.0463],\n",
              "        [ 176.6535,  314.1936],\n",
              "        [1154.2313, 2246.8645]], grad_fn=<MmBackward0>)"
            ]
          },
          "execution_count": 15,
          "metadata": {},
          "output_type": "execute_result"
        }
      ],
      "source": [
        "da = dc @ batch.T\n",
        "da"
      ]
    },
    {
      "cell_type": "code",
      "execution_count": 16,
      "metadata": {},
      "outputs": [
        {
          "data": {
            "text/plain": [
              "tensor([[ 519.9232, 4534.9458, 3293.6177],\n",
              "        [ 500.7919, 5779.9922, 2201.7029]], grad_fn=<MmBackward0>)"
            ]
          },
          "execution_count": 16,
          "metadata": {},
          "output_type": "execute_result"
        }
      ],
      "source": [
        "db = a.T @ dc\n",
        "db"
      ]
    },
    {
      "cell_type": "code",
      "execution_count": 17,
      "metadata": {},
      "outputs": [
        {
          "data": {
            "text/plain": [
              "(torch.Size([32, 64]),\n",
              " tensor([-1.2897e-03, -4.8919e-03,  2.2109e-03,  1.2488e-03,  3.9155e-03,\n",
              "         -1.3501e-03,  2.7849e-03,  5.3353e-05,  1.7108e-04,  4.8461e-03,\n",
              "         -2.5354e-03,  8.6588e-05,  4.0724e-03,  2.4050e-03,  7.2361e-04,\n",
              "         -3.4238e-03,  9.2246e-04,  3.4579e-03,  3.8256e-04,  3.7514e-03,\n",
              "          4.5813e-03,  3.1364e-03,  5.1987e-03,  3.7057e-03,  2.1755e-03,\n",
              "          5.2814e-03, -1.1706e-03, -6.4942e-03,  3.6987e-03,  5.6909e-03,\n",
              "          1.0613e-03, -8.5855e-03,  3.2009e-04,  2.8792e-03,  2.9219e-03,\n",
              "         -2.5826e-03,  2.0571e-03,  7.1230e-03, -3.5925e-03,  2.0751e-03,\n",
              "         -4.4746e-04,  1.9928e-03, -4.7494e-03, -7.3342e-03, -3.3889e-03,\n",
              "          3.3220e-04, -6.1904e-03, -2.1342e-03,  3.0683e-03,  2.8265e-03,\n",
              "         -3.3122e-03, -3.6050e-03, -1.3301e-04,  2.8299e-03,  1.7095e-03,\n",
              "         -1.4525e-03, -3.9045e-03,  4.8770e-03,  2.7876e-03,  4.4508e-03,\n",
              "         -3.8753e-04, -2.0180e-03, -2.0656e-03, -1.9275e-03]),\n",
              " tensor([ 3.5875e-04,  5.2337e-03,  3.3010e-03,  2.3584e-03, -7.2247e-04,\n",
              "          2.5159e-03, -3.7857e-03,  1.2109e-03,  3.6772e-03,  8.2007e-05,\n",
              "         -1.5194e-03,  2.8708e-03,  3.2153e-03, -3.7115e-03,  2.4320e-04,\n",
              "         -1.3402e-03,  5.0379e-03, -4.9872e-03,  4.5667e-03, -6.3336e-03,\n",
              "         -4.3677e-03, -1.5273e-03, -1.0517e-03,  6.6770e-04,  1.5614e-03,\n",
              "          4.8713e-04, -2.1694e-03, -4.0882e-03, -6.1821e-03,  3.0552e-03,\n",
              "          5.4416e-03, -1.6576e-03, -5.5821e-03, -2.7692e-03,  2.7976e-03,\n",
              "         -1.9958e-03, -2.1864e-03, -1.3917e-03, -7.0167e-04,  4.4617e-04,\n",
              "         -3.9060e-03,  2.2035e-04,  2.9753e-03,  3.2136e-04, -5.2820e-05,\n",
              "          3.1416e-03,  4.3267e-04,  5.7359e-03, -2.7322e-03, -3.5713e-03,\n",
              "         -1.7615e-03,  7.7269e-04, -1.2144e-03, -6.3870e-05, -1.8293e-03,\n",
              "         -2.9513e-03,  1.2048e-03,  2.6981e-03,  3.7265e-03,  1.4576e-03,\n",
              "         -2.6704e-03, -2.0853e-03,  3.2556e-03,  8.7253e-04]))"
            ]
          },
          "execution_count": 17,
          "metadata": {},
          "output_type": "execute_result"
        }
      ],
      "source": [
        "h.grad.shape, h.grad[0], h.grad[-1]"
      ]
    },
    {
      "cell_type": "code",
      "execution_count": 18,
      "metadata": {},
      "outputs": [
        {
          "data": {
            "text/plain": [
              "(torch.Size([32, 27]),\n",
              " torch.Size([32, 64]),\n",
              " torch.Size([64, 27]),\n",
              " torch.Size([27]))"
            ]
          },
          "execution_count": 18,
          "metadata": {},
          "output_type": "execute_result"
        }
      ],
      "source": [
        "logits.shape, h.shape, W2.shape, b2.shape"
      ]
    },
    {
      "cell_type": "markdown",
      "metadata": {},
      "source": [
        "## exercise"
      ]
    },
    {
      "cell_type": "code",
      "execution_count": 19,
      "metadata": {},
      "outputs": [
        {
          "data": {
            "text/plain": [
              "torch.Size([27])"
            ]
          },
          "execution_count": 19,
          "metadata": {},
          "output_type": "execute_result"
        }
      ],
      "source": [
        "b2.shape\n",
        "# gonna be broadcast 32 times down\n",
        "# so one change gonna have a 32 times effect (?)? "
      ]
    },
    {
      "cell_type": "code",
      "execution_count": 20,
      "metadata": {},
      "outputs": [
        {
          "data": {
            "text/plain": [
              "(torch.Size([27, 10]),\n",
              " torch.Size([32, 3]),\n",
              " torch.Size([32, 3, 10]),\n",
              " torch.Size([32, 3, 10]))"
            ]
          },
          "execution_count": 20,
          "metadata": {},
          "output_type": "execute_result"
        }
      ],
      "source": [
        "C.shape, Xb.shape, C[Xb].shape, emb.shape"
      ]
    },
    {
      "cell_type": "code",
      "execution_count": 21,
      "metadata": {},
      "outputs": [
        {
          "data": {
            "text/plain": [
              "(torch.Size([32, 64]),\n",
              " torch.Size([32, 64]),\n",
              " torch.Size([1, 64]),\n",
              " torch.Size([32, 3, 10]))"
            ]
          },
          "execution_count": 21,
          "metadata": {},
          "output_type": "execute_result"
        }
      ],
      "source": [
        "bndiff.shape, bndiff2.shape, bnvar_inv.shape, emb.shape"
      ]
    },
    {
      "cell_type": "code",
      "execution_count": 22,
      "metadata": {
        "id": "mO-8aqxK8PPw"
      },
      "outputs": [
        {
          "name": "stdout",
          "output_type": "stream",
          "text": [
            "logprobs        | exact: True  | approximate: True  | maxdiff: 0.0\n",
            "probs           | exact: True  | approximate: True  | maxdiff: 0.0\n",
            "counts_sum_inv  | exact: True  | approximate: True  | maxdiff: 0.0\n",
            "counts_sum      | exact: True  | approximate: True  | maxdiff: 0.0\n",
            "counts          | exact: True  | approximate: True  | maxdiff: 0.0\n",
            "norm_logits     | exact: True  | approximate: True  | maxdiff: 0.0\n",
            "logit_maxes     | exact: True  | approximate: True  | maxdiff: 0.0\n",
            "logits          | exact: True  | approximate: True  | maxdiff: 0.0\n",
            "h               | exact: True  | approximate: True  | maxdiff: 0.0\n",
            "W2              | exact: True  | approximate: True  | maxdiff: 0.0\n",
            "b2              | exact: True  | approximate: True  | maxdiff: 0.0\n",
            "hpreact         | exact: True  | approximate: True  | maxdiff: 0.0\n",
            "bngain          | exact: True  | approximate: True  | maxdiff: 0.0\n",
            "bnbias          | exact: True  | approximate: True  | maxdiff: 0.0\n",
            "bnraw           | exact: True  | approximate: True  | maxdiff: 0.0\n",
            "bnvar_inv       | exact: True  | approximate: True  | maxdiff: 0.0\n",
            "bnvar           | exact: True  | approximate: True  | maxdiff: 0.0\n",
            "bndiff2         | exact: True  | approximate: True  | maxdiff: 0.0\n",
            "bndiff          | exact: True  | approximate: True  | maxdiff: 0.0\n",
            "bnmeani         | exact: True  | approximate: True  | maxdiff: 0.0\n",
            "hprebn          | exact: True  | approximate: True  | maxdiff: 0.0\n",
            "embcat          | exact: True  | approximate: True  | maxdiff: 0.0\n",
            "W1              | exact: True  | approximate: True  | maxdiff: 0.0\n",
            "b1              | exact: True  | approximate: True  | maxdiff: 0.0\n",
            "emb             | exact: True  | approximate: True  | maxdiff: 0.0\n",
            "C               | exact: True  | approximate: True  | maxdiff: 0.0\n"
          ]
        }
      ],
      "source": [
        "# Exercise 1: backprop through the whole thing manually,\n",
        "# backpropagating through exactly all of the variables\n",
        "# as they are defined in the forward pass above, one by one\n",
        "\n",
        "# -----------------\n",
        "# YOUR CODE HERE :)\n",
        "# -----------------\n",
        "\n",
        "dlogprobs = torch.zeros_like(logprobs)\n",
        "dlogprobs[range(n), Yb] = -1.0/n\n",
        "\n",
        "dprobs = 1.0/probs * dlogprobs\n",
        "\n",
        "dcounts_sum_inv = (counts * dprobs).sum(1, keepdim=True) #hm... this will require some thinking\n",
        "dcounts = counts_sum_inv * dprobs #internal broadcasting done by pytorch\n",
        "\n",
        "dcounts_sum = -(counts_sum**-2) * dcounts_sum_inv\n",
        "\n",
        "dcounts += torch.ones_like(counts) * dcounts_sum #broadcast sum to all elements\n",
        "\n",
        "dnorm_logits = counts * dcounts #just reuse counts for e^x local derivative\n",
        "\n",
        "dlogits = 1 * dnorm_logits.clone()\n",
        "dlogit_maxes = (-1 * dnorm_logits).sum(1, keepdim=True) #the sum makes sense, because the max is replicated and subtracted from all individual logits\n",
        "\n",
        "# could also be done via one-hot\n",
        "temp = torch.zeros_like(logits) \n",
        "temp[range(len(logits)), logits.max(1).indices] = 1\n",
        "\n",
        "dlogits += temp * dlogit_maxes\n",
        "\n",
        "# little bit freaky, but ok...\n",
        "dh = dlogits @ W2.T\n",
        "dW2 = h.T @ dlogits\n",
        "\n",
        "db2 = dlogits.sum(0, keepdim=True) # first broadcast to [32, 27], local derivates is just ones, then with global derivative it's like taking a sum\n",
        "\n",
        "dhpreact = (1 - h**2) * dh\n",
        "\n",
        "dbngain = (bnraw * dhpreact).sum(0, keepdim=True)\n",
        "dbnbias = dhpreact.sum(0, keepdim=True)\n",
        "dbnraw = (bngain * dhpreact) #no need to sum here because bnraw is [32, 64]\n",
        "\n",
        "dbnvar_inv = (bndiff * dbnraw).sum(0, keepdim=True)\n",
        "\n",
        "# 1/sqrt(x+1e-5) = (x+1e-5)**-1/2\n",
        "# d/dx = -1/2(x+1e-5)**-3/2\n",
        "dbnvar = -1/2*(bnvar+1e-5)**(-3/2) * dbnvar_inv\n",
        "\n",
        "dbndiff2 = torch.ones_like(bndiff2) * 1/(n-1) * dbnvar\n",
        "\n",
        "dbndiff = 2 * bndiff * dbndiff2 \n",
        "dbndiff += bnvar_inv * dbnraw #this is the 2nd branch\n",
        "\n",
        "dbnmeani = -dbndiff.sum(0, keepdim=True)\n",
        "\n",
        "# two branches\n",
        "dhprebn = 1.0 * dbndiff \n",
        "dhprebn += torch.ones_like(hprebn) * (1/n) * dbnmeani \n",
        "\n",
        "dembcat = dhprebn @ W1.T\n",
        "\n",
        "dW1 = embcat.T @ dhprebn\n",
        "\n",
        "db1 = 1.0 * dhprebn.sum(0, keepdim=True)\n",
        "\n",
        "demb = 1.0 * dembcat.view(emb.shape) #unview back\n",
        "\n",
        "# C:             [27, 10]\n",
        "# Xb:            [32, 3]\n",
        "# emb = C[Xb]:   [32, 3, 10]\n",
        "dC = torch.zeros_like(C)\n",
        "\n",
        "for i, batch in enumerate(Xb):\n",
        "    for j, chari in enumerate(batch): \n",
        "        dC[chari] += 1.0 * demb[i, j] #probs not the best way...\n",
        "\n",
        "cmp('logprobs', dlogprobs, logprobs)\n",
        "cmp('probs', dprobs, probs)\n",
        "cmp('counts_sum_inv', dcounts_sum_inv, counts_sum_inv)\n",
        "cmp('counts_sum', dcounts_sum, counts_sum)\n",
        "cmp('counts', dcounts, counts)\n",
        "cmp('norm_logits', dnorm_logits, norm_logits)\n",
        "cmp('logit_maxes', dlogit_maxes, logit_maxes)\n",
        "cmp('logits', dlogits, logits)\n",
        "cmp('h', dh, h)\n",
        "cmp('W2', dW2, W2)\n",
        "cmp('b2', db2, b2)\n",
        "cmp('hpreact', dhpreact, hpreact)\n",
        "cmp('bngain', dbngain, bngain)\n",
        "cmp('bnbias', dbnbias, bnbias)\n",
        "cmp('bnraw', dbnraw, bnraw)\n",
        "cmp('bnvar_inv', dbnvar_inv, bnvar_inv)\n",
        "cmp('bnvar', dbnvar, bnvar)\n",
        "cmp('bndiff2', dbndiff2, bndiff2)\n",
        "cmp('bndiff', dbndiff, bndiff)\n",
        "cmp('bnmeani', dbnmeani, bnmeani)\n",
        "cmp('hprebn', dhprebn, hprebn)\n",
        "cmp('embcat', dembcat, embcat)\n",
        "cmp('W1', dW1, W1)\n",
        "cmp('b1', db1, b1)\n",
        "cmp('emb', demb, emb)\n",
        "cmp('C', dC, C)"
      ]
    },
    {
      "cell_type": "markdown",
      "metadata": {},
      "source": [
        "### f*cking around"
      ]
    },
    {
      "cell_type": "code",
      "execution_count": null,
      "metadata": {},
      "outputs": [
        {
          "name": "stdout",
          "output_type": "stream",
          "text": [
            "3.34920334815979 diff: -3661.77880859375\n"
          ]
        }
      ],
      "source": [
        "# Exercise 2: backprop through cross_entropy but all in one go\n",
        "# to complete this challenge look at the mathematical expression of the loss,\n",
        "# take the derivative, simplify the expression, and just write it out\n",
        "\n",
        "# forward pass\n",
        "\n",
        "# before:\n",
        "# logit_maxes = logits.max(1, keepdim=True).values\n",
        "# norm_logits = logits - logit_maxes # subtract max for numerical stability\n",
        "# counts = norm_logits.exp()\n",
        "# counts_sum = counts.sum(1, keepdims=True)\n",
        "# counts_sum_inv = counts_sum**-1 # if I use (1.0 / counts_sum) instead then I can't get backprop to be bit exact...\n",
        "# probs = counts * counts_sum_inv\n",
        "# logprobs = probs.log()\n",
        "# loss = -logprobs[range(n), Yb].mean()\n",
        "\n",
        "# now:\n",
        "loss_fast = F.cross_entropy(logits, Yb)\n",
        "print(loss_fast.item(), 'diff:', (loss_fast - loss).item())"
      ]
    },
    {
      "cell_type": "code",
      "execution_count": null,
      "metadata": {},
      "outputs": [
        {
          "data": {
            "text/plain": [
              "tensor([ 0.0024,  0.0025,  0.0006,  0.0014,  0.0007,  0.0026,  0.0008,  0.0012,\n",
              "        -0.0307,  0.0011,  0.0011,  0.0012,  0.0011,  0.0009,  0.0012,  0.0004,\n",
              "         0.0003,  0.0006,  0.0005,  0.0016,  0.0016,  0.0006,  0.0008,  0.0023,\n",
              "         0.0019,  0.0008,  0.0007])"
            ]
          },
          "metadata": {},
          "output_type": "display_data"
        }
      ],
      "source": [
        "# the ground truth\n",
        "logits.grad[0]"
      ]
    },
    {
      "cell_type": "code",
      "execution_count": null,
      "metadata": {},
      "outputs": [
        {
          "data": {
            "text/plain": [
              "tensor([ 0.8583,  0.9010, -0.5737,  0.3544, -0.3536,  0.9615, -0.2579,  0.1739,\n",
              "        -0.5386,  0.0930,  0.0885,  0.1411,  0.0565, -0.1194,  0.1551, -0.8243,\n",
              "        -1.2296, -0.5238, -0.7397,  0.4995,  0.4836, -0.4846, -0.2660,  0.8370,\n",
              "         0.6354, -0.2356, -0.3809], grad_fn=<SelectBackward0>)"
            ]
          },
          "metadata": {},
          "output_type": "display_data"
        }
      ],
      "source": [
        "clogits[0]"
      ]
    },
    {
      "cell_type": "code",
      "execution_count": null,
      "metadata": {},
      "outputs": [],
      "source": [
        "def softmax(x):\n",
        "    return x.exp() / x.exp().sum(1, keepdim=True)"
      ]
    },
    {
      "cell_type": "code",
      "execution_count": null,
      "metadata": {},
      "outputs": [],
      "source": [
        "clogits = logits.detach().clone() \n",
        "clogits.requires_grad=True\n",
        "clogits.retain_grad()\n",
        "\n",
        "softmaxxed = softmax(clogits)\n",
        "softmaxxed.retain_grad()\n",
        "\n",
        "test = -softmaxxed.log()[range(n), Yb].mean() #key insight: this creates a split between grads of selected and unselected values\n",
        "test.backward()"
      ]
    },
    {
      "cell_type": "code",
      "execution_count": 123,
      "metadata": {},
      "outputs": [
        {
          "data": {
            "text/plain": [
              "tensor([ 0.0000e+00,  0.0000e+00, -1.8626e-06, -3.7253e-06, -3.7253e-06,\n",
              "        -7.4506e-06, -1.8626e-06,  0.0000e+00,  0.0000e+00, -3.7253e-06,\n",
              "         0.0000e+00,  0.0000e+00,  0.0000e+00, -1.8626e-06,  0.0000e+00,\n",
              "        -9.3132e-07,  0.0000e+00, -1.8626e-06, -9.3132e-07, -7.4506e-06,\n",
              "        -7.4506e-06, -1.8626e-06, -3.7253e-06, -7.4506e-06, -7.4506e-06,\n",
              "        -3.7253e-06,  0.0000e+00], grad_fn=<SelectBackward0>)"
            ]
          },
          "execution_count": 123,
          "metadata": {},
          "output_type": "execute_result"
        }
      ],
      "source": [
        "h_ = 0.001\n",
        "softmaxxed_grad = (softmax(clogits + h_) - softmax(clogits)) / h_\n",
        "softmaxxed_grad[0]"
      ]
    },
    {
      "cell_type": "code",
      "execution_count": null,
      "metadata": {},
      "outputs": [],
      "source": [
        "# dsoftmaxxed / dlogits\n",
        "# s = e^x / sum{e^a + e^b + ... + e^x}\n",
        "# ds/dx = e^x * (sum{e^a + e^b + ... + e^x} ** -1)\n",
        "# = e^x * (-S**-2 * e^x) + e^x * sum(e^X) ** -1"
      ]
    },
    {
      "cell_type": "code",
      "execution_count": 59,
      "metadata": {},
      "outputs": [],
      "source": [
        "maxs = logits.max(1, keepdim=True)\n",
        "l = logits - maxs.values"
      ]
    },
    {
      "cell_type": "code",
      "execution_count": 60,
      "metadata": {},
      "outputs": [
        {
          "data": {
            "text/plain": [
              "(tensor(3.4770, grad_fn=<NegBackward0>),\n",
              " tensor(3.4770, grad_fn=<NllLossBackward0>),\n",
              " tensor(3.4770, grad_fn=<NegBackward0>))"
            ]
          },
          "execution_count": 60,
          "metadata": {},
          "output_type": "execute_result"
        }
      ],
      "source": [
        "# one liner\n",
        "test_loss = -(l - l.exp().sum(1, keepdim=True).log())[range(n), Yb].mean()\n",
        "# need to d/dl\n",
        "\n",
        "test_loss, loss_fast, loss"
      ]
    },
    {
      "cell_type": "code",
      "execution_count": 61,
      "metadata": {},
      "outputs": [
        {
          "data": {
            "text/plain": [
              "tensor(3.4770, grad_fn=<NegBackward0>)"
            ]
          },
          "execution_count": 61,
          "metadata": {},
          "output_type": "execute_result"
        }
      ],
      "source": [
        "test_loss = -(l - l.exp().sum(1, keepdim=True).log())[range(n), Yb].mean()\n",
        "test_loss.shape\n",
        "test_loss"
      ]
    },
    {
      "cell_type": "code",
      "execution_count": 63,
      "metadata": {},
      "outputs": [
        {
          "data": {
            "text/plain": [
              "(tensor(3.4770, grad_fn=<NegBackward0>),\n",
              " tensor(-0.0310, grad_fn=<DivBackward0>))"
            ]
          },
          "execution_count": 63,
          "metadata": {},
          "output_type": "execute_result"
        }
      ],
      "source": [
        "h = 0.001\n",
        "\n",
        "lh = l.clone()\n",
        "lh[0][0] += h\n",
        "\n",
        "test_lossh = -(lh - lh.exp().sum(1, keepdim=True).log())[range(n), Yb].mean() \n",
        "test_lossh, ((test_lossh - test_loss)  / h)"
      ]
    },
    {
      "cell_type": "code",
      "execution_count": 70,
      "metadata": {},
      "outputs": [],
      "source": [
        "e = l.exp()\n",
        "sum = e.sum(1, keepdim=True)"
      ]
    },
    {
      "cell_type": "code",
      "execution_count": 65,
      "metadata": {},
      "outputs": [
        {
          "data": {
            "text/plain": [
              "tensor([-0.9816, -0.9757, -0.9891, -0.9449, -0.9733, -0.9755, -0.9661, -0.9706,\n",
              "        -0.9891, -0.9723, -0.9859, -0.9520, -0.9693, -0.9680, -0.9380, -0.9708,\n",
              "        -0.9533, -0.9643, -0.9671, -0.9774, -0.9191, -0.9681, -0.9368, -0.9765,\n",
              "        -0.9632, -0.9129, -0.9445, -0.9815, -0.9553, -0.9693, -0.9808, -0.9818],\n",
              "       grad_fn=<IndexBackward0>)"
            ]
          },
          "execution_count": 65,
          "metadata": {},
          "output_type": "execute_result"
        }
      ],
      "source": [
        "dlogits = -(1 - e / sum)\n",
        "dlogits[range(n), Yb] #this is how we will impact the individual loss / logit value"
      ]
    },
    {
      "cell_type": "code",
      "execution_count": 69,
      "metadata": {},
      "outputs": [
        {
          "data": {
            "text/plain": [
              "(tensor([3.9930, 3.7168, 4.5197, 2.8979, 3.6246, 3.7073, 3.3838, 3.5261, 4.5197,\n",
              "         3.5846, 4.2604, 3.0375, 3.4829, 3.4430, 2.7804, 3.5341, 3.0643, 3.3314,\n",
              "         3.4149, 3.7898, 2.5149, 3.4461, 2.7618, 3.7526, 3.3013, 2.4412, 2.8908,\n",
              "         3.9913, 3.1088, 3.4825, 3.9520, 4.0068], grad_fn=<NegBackward0>),\n",
              " tensor([  516.0029,   239.8224,  1042.7302,  -579.1063,   147.5861,   230.3357,\n",
              "           -93.2126,    49.1271,  1042.7302,   107.6567,   783.4377,  -439.4431,\n",
              "             5.9409,   -33.9704,  -696.5518,    57.1101,  -412.6780,  -145.5982,\n",
              "           -62.0596,   312.7665,  -962.0673,   -30.8466,  -715.1412,   275.5680,\n",
              "          -175.7269, -1035.7534,  -586.1561,   514.3160,  -368.1536,     5.5575,\n",
              "           475.0209,   529.7679], grad_fn=<DivBackward0>))"
            ]
          },
          "execution_count": 69,
          "metadata": {},
          "output_type": "execute_result"
        }
      ],
      "source": [
        "h = 0.001\n",
        "\n",
        "lh = l.clone()\n",
        "lh[0][0] += h\n",
        "\n",
        "test_lossh = -(lh - lh.exp().sum(1, keepdim=True).log())[range(n), Yb]\n",
        "test_lossh, ((test_lossh - test_loss)  / h)"
      ]
    },
    {
      "cell_type": "code",
      "execution_count": 67,
      "metadata": {},
      "outputs": [
        {
          "data": {
            "text/plain": [
              "tensor([-0.9816, -0.9757, -0.9891, -0.9449, -0.9733, -0.9755, -0.9661, -0.9706,\n",
              "        -0.9891, -0.9723, -0.9859, -0.9520, -0.9693, -0.9680, -0.9380, -0.9708,\n",
              "        -0.9533, -0.9643, -0.9671, -0.9774, -0.9191, -0.9681, -0.9368, -0.9765,\n",
              "        -0.9632, -0.9129, -0.9445, -0.9815, -0.9553, -0.9693, -0.9808, -0.9818],\n",
              "       grad_fn=<IndexBackward0>)"
            ]
          },
          "execution_count": 67,
          "metadata": {},
          "output_type": "execute_result"
        }
      ],
      "source": [
        "sum = e[range(n), Yb].sum()\n",
        "dlogits[range(n), Yb]"
      ]
    },
    {
      "cell_type": "markdown",
      "metadata": {},
      "source": [
        "### answer"
      ]
    },
    {
      "cell_type": "code",
      "execution_count": null,
      "metadata": {},
      "outputs": [],
      "source": [
        "# YO!!\n",
        "\n",
        "# (individual) loss = -ln(p_i)\n",
        "\n",
        "# p_i = e^x / S(e^X)\n",
        "# -ln(e^x / S(e^x)) = -[ln(e^x) - ln(S(e^x))]\n",
        "# = ln(S(e^x)) - ln(e^x)\n",
        "\n",
        "# d/dx = 1/(S(e^x)) * e^x - 1 = p_i - 1\n",
        "# d/dx (unselected) = p_i"
      ]
    },
    {
      "cell_type": "code",
      "execution_count": 155,
      "metadata": {
        "id": "-gCXbB4C8PPx"
      },
      "outputs": [
        {
          "name": "stdout",
          "output_type": "stream",
          "text": [
            "logits          | exact: False | approximate: True  | maxdiff: 6.28642737865448e-09\n"
          ]
        }
      ],
      "source": [
        "# backward pass\n",
        "\n",
        "# -----------------\n",
        "# YOUR CODE HERE :)\n",
        "dlogits = F.softmax(logits, 1)\n",
        "dlogits[range(n), Yb] -= 1\n",
        "dlogits /= n #shit this was the problem\n",
        "dlogits[0]\n",
        "# -----------------\n",
        "\n",
        "cmp('logits', dlogits, logits) # I can only get approximate to be true, my maxdiff is 6e-9"
      ]
    },
    {
      "cell_type": "code",
      "execution_count": 1047,
      "metadata": {
        "id": "hd-MkhB68PPy"
      },
      "outputs": [
        {
          "name": "stdout",
          "output_type": "stream",
          "text": [
            "max diff: tensor(4.7684e-07, grad_fn=<MaxBackward1>)\n"
          ]
        }
      ],
      "source": [
        "# Exercise 3: backprop through batchnorm but all in one go\n",
        "# to complete this challenge look at the mathematical expression of the output of batchnorm,\n",
        "# take the derivative w.r.t. its input, simplify the expression, and just write it out\n",
        "# BatchNorm paper: https://arxiv.org/abs/1502.03167\n",
        "\n",
        "# forward pass\n",
        "\n",
        "# before:\n",
        "# bnmeani = 1/n*hprebn.sum(0, keepdim=True)\n",
        "# bndiff = hprebn - bnmeani\n",
        "# bndiff2 = bndiff**2\n",
        "# bnvar = 1/(n-1)*(bndiff2).sum(0, keepdim=True) # note: Bessel's correction (dividing by n-1, not n)\n",
        "# bnvar_inv = (bnvar + 1e-5)**-0.5\n",
        "# bnraw = bndiff * bnvar_inv\n",
        "# hpreact = bngain * bnraw + bnbias\n",
        "\n",
        "# now:\n",
        "hpreact_fast = bngain * (hprebn - hprebn.mean(0, keepdim=True)) / torch.sqrt(hprebn.var(0, keepdim=True, unbiased=True) + 1e-5) + bnbias\n",
        "print('max diff:', (hpreact_fast - hpreact).abs().max())"
      ]
    },
    {
      "cell_type": "code",
      "execution_count": null,
      "metadata": {
        "id": "POdeZSKT8PPy"
      },
      "outputs": [
        {
          "name": "stdout",
          "output_type": "stream",
          "text": [
            "hprebn          | exact: False | approximate: True  | maxdiff: 9.313225746154785e-10\n"
          ]
        }
      ],
      "source": [
        "# backward pass\n",
        "\n",
        "# before we had:\n",
        "# dbnraw = bngain * dhpreact\n",
        "# dbndiff = bnvar_inv * dbnraw\n",
        "# dbnvar_inv = (bndiff * dbnraw).sum(0, keepdim=True)\n",
        "# dbnvar = (-0.5*(bnvar + 1e-5)**-1.5) * dbnvar_inv\n",
        "# dbndiff2 = (1.0/(n-1))*torch.ones_like(bndiff2) * dbnvar\n",
        "# dbndiff += (2*bndiff) * dbndiff2\n",
        "# dhprebn = dbndiff.clone()\n",
        "# dbnmeani = (-dbndiff).sum(0)\n",
        "# dhprebn += 1.0/n * (torch.ones_like(hprebn) * dbnmeani)\n",
        "\n",
        "# calculate dhprebn given dhpreact (i.e. backprop through the batchnorm)\n",
        "# (you'll also need to use some of the variables from the forward pass up above)\n",
        "\n",
        "# -----------------\n",
        "# YOUR CODE HERE :)\n",
        "dx_i = dhpreact * bngain\n",
        "\n",
        "# y * xi + B\n",
        "# xi = (x - u) / sqrt(v + e)\n",
        "# dxi/dv =  d/dv (v+e)**-0.5 = -0.5 * (v + e)**-1.5\n",
        "# all of the individual xi's depend on v -> sum the impact\n",
        "# dL/dv = dL/dxi * dxi/dv = y_i * y * -0.5 * (v + e)**-1.5\n",
        "\n",
        "# wtf...\n",
        "dhprebn = bngain * bnvar_inv/n * (n*dhpreact - dhpreact.sum(0) - n/(n-1) * bnraw*(dhpreact * bnraw).sum(0))\n",
        "# -----------------\n",
        "\n",
        "cmp('hprebn', dhprebn, hprebn) # I can only get approximate to be true, my maxdiff is 9e-10"
      ]
    },
    {
      "cell_type": "code",
      "execution_count": 194,
      "metadata": {
        "id": "wPy8DhqB8PPz"
      },
      "outputs": [
        {
          "name": "stdout",
          "output_type": "stream",
          "text": [
            "12297\n"
          ]
        },
        {
          "name": "stderr",
          "output_type": "stream",
          "text": [
            "100%|██████████| 200000/200000 [03:00<00:00, 1107.57it/s]\n"
          ]
        }
      ],
      "source": [
        "from tqdm import tqdm\n",
        "\n",
        "# Exercise 4: putting it all together!\n",
        "# Train the MLP neural net with your own backward pass\n",
        "\n",
        "# init\n",
        "n_embd = 10 # the dimensionality of the character embedding vectors\n",
        "n_hidden = 200 # the number of neurons in the hidden layer of the MLP\n",
        "\n",
        "g = torch.Generator().manual_seed(2147483647) # for reproducibility\n",
        "C  = torch.randn((vocab_size, n_embd),            generator=g)\n",
        "# Layer 1\n",
        "W1 = torch.randn((n_embd * block_size, n_hidden), generator=g) * (5/3)/((n_embd * block_size)**0.5)\n",
        "b1 = torch.randn(n_hidden,                        generator=g) * 0.1\n",
        "# Layer 2\n",
        "W2 = torch.randn((n_hidden, vocab_size),          generator=g) * 0.1\n",
        "b2 = torch.randn(vocab_size,                      generator=g) * 0.1\n",
        "# BatchNorm parameters\n",
        "bngain = torch.randn((1, n_hidden))*0.1 + 1.0\n",
        "bnbias = torch.randn((1, n_hidden))*0.1\n",
        "\n",
        "parameters = [C, W1, b1, W2, b2, bngain, bnbias]\n",
        "print(sum(p.nelement() for p in parameters)) # number of parameters in total\n",
        "for p in parameters:\n",
        "  p.requires_grad = True\n",
        "\n",
        "# same optimization as last time\n",
        "max_steps = 200000\n",
        "batch_size = 32\n",
        "n = batch_size # convenience\n",
        "lossi = []\n",
        "\n",
        "# use this context manager for efficiency once your backward pass is written (TODO)\n",
        "with torch.no_grad():\n",
        "  # kick off optimization\n",
        "  for i in tqdm(range(max_steps)):\n",
        "    # minibatch construct\n",
        "    ix = torch.randint(0, Xtr.shape[0], (batch_size,), generator=g)\n",
        "    Xb, Yb = Xtr[ix], Ytr[ix] # batch X,Y\n",
        "\n",
        "    # forward pass\n",
        "    emb = C[Xb] # embed the characters into vectors\n",
        "    embcat = emb.view(emb.shape[0], -1) # concatenate the vectors\n",
        "    # Linear layer\n",
        "    hprebn = embcat @ W1 + b1 # hidden layer pre-activation\n",
        "    # BatchNorm layer\n",
        "    # -------------------------------------------------------------\n",
        "    bnmean = hprebn.mean(0, keepdim=True)\n",
        "    bnvar = hprebn.var(0, keepdim=True, unbiased=True)\n",
        "    bnvar_inv = (bnvar + 1e-5)**-0.5\n",
        "    bnraw = (hprebn - bnmean) * bnvar_inv\n",
        "    hpreact = bngain * bnraw + bnbias\n",
        "    # -------------------------------------------------------------\n",
        "    # Non-linearity\n",
        "    h = torch.tanh(hpreact) # hidden layer\n",
        "    logits = h @ W2 + b2 # output layer\n",
        "    loss = F.cross_entropy(logits, Yb) # loss function\n",
        "\n",
        "    # backward pass\n",
        "    for p in parameters:\n",
        "      p.grad = None\n",
        "    # loss.backward() # use this for correctness comparisons, delete it later!\n",
        "\n",
        "    # manual backprop! #swole_doge_meme\n",
        "    # -----------------\n",
        "    # YOUR CODE HERE :)\n",
        "    dC, dW1, db1, dW2, db2, dbngain, dbnbias = None, None, None, None, None, None, None\n",
        "\n",
        "    dlogits = F.softmax(logits, 1)\n",
        "    dlogits[range(n), Yb] -= 1\n",
        "    dlogits /= n #shit this was the problem\n",
        "    # === 2nd layer backprop ====\n",
        "    # little bit freaky, but ok...\n",
        "    dh = dlogits @ W2.T\n",
        "    dW2 = h.T @ dlogits\n",
        "    db2 = dlogits.sum(0) # first broadcast to [32, 27], local derivates is just ones, then with global derivative it's like taking a sum\n",
        "    # === tanh ===\n",
        "    dhpreact = (1 - h**2) * dh\n",
        "    # === batch norm ===\n",
        "    dbngain = (bnraw * dhpreact).sum(0, keepdim=True)\n",
        "    dbnbias = dhpreact.sum(0, keepdim=True)\n",
        "    dhprebn = bngain * bnvar_inv/n * (n*dhpreact - dhpreact.sum(0) - n/(n-1) * bnraw*(dhpreact * bnraw).sum(0))\n",
        "    # === 1st layer ===\n",
        "    dembcat = dhprebn @ W1.T\n",
        "    dW1 = embcat.T @ dhprebn\n",
        "    db1 = 1.0 * dhprebn.sum(0)\n",
        "    # === embedding ===\n",
        "    demb = 1.0 * dembcat.view(emb.shape) #unview back\n",
        "    dC = torch.zeros_like(C)\n",
        "\n",
        "    for i, batch in enumerate(Xb):\n",
        "        for j, chari in enumerate(batch): \n",
        "            dC[chari] += 1.0 * demb[i, j] #probs not the best way...\n",
        "\n",
        "    grads = [dC, dW1, db1, dW2, db2, dbngain, dbnbias]\n",
        "    # -----------------\n",
        "\n",
        "    # update\n",
        "    lr = 0.1 if i < 100000 else 0.01 # step learning rate decay\n",
        "    for p, grad in zip(parameters, grads):\n",
        "      # p.data += -lr * p.grad # old way of cheems doge (using PyTorch grad from .backward())\n",
        "\n",
        "      # if not torch.allclose(p.grad, grad):\n",
        "        #  print('Different with: ', torch.sub(p.grad, grad).abs().max())\n",
        "        # pass\n",
        "\n",
        "      # print(len(grads), p.shape)\n",
        "      p.data += -lr * grad # new way of swole doge TODO: enable\n",
        "\n",
        "    # track stats\n",
        "    if i % 10000 == 0: # print every once in a while\n",
        "      print(f'{i:7d}/{max_steps:7d}: {loss.item():.4f}')\n",
        "\n",
        "    lossi.append(loss.log10().item())\n",
        "\n",
        "    if i >= 100: # TODO: delete early breaking when you're ready to train the full net\n",
        "      break"
      ]
    },
    {
      "cell_type": "code",
      "execution_count": 199,
      "metadata": {
        "id": "ZEpI0hMW8PPz"
      },
      "outputs": [
        {
          "ename": "TypeError",
          "evalue": "all() received an invalid combination of arguments - got (bool), but expected one of:\n * (Tensor input, *, Tensor out = None)\n * (Tensor input, tuple of ints dim = None, bool keepdim = False, *, Tensor out = None)\n * (Tensor input, int dim, bool keepdim = False, *, Tensor out = None)\n * (Tensor input, name dim, bool keepdim = False, *, Tensor out = None)\n",
          "output_type": "error",
          "traceback": [
            "\u001b[31m---------------------------------------------------------------------------\u001b[39m",
            "\u001b[31mTypeError\u001b[39m                                 Traceback (most recent call last)",
            "\u001b[36mCell\u001b[39m\u001b[36m \u001b[39m\u001b[32mIn[199]\u001b[39m\u001b[32m, line 3\u001b[39m\n\u001b[32m      1\u001b[39m \u001b[38;5;66;03m# useful for checking your gradients\u001b[39;00m\n\u001b[32m      2\u001b[39m \u001b[38;5;28;01mfor\u001b[39;00m p,g \u001b[38;5;129;01min\u001b[39;00m \u001b[38;5;28mzip\u001b[39m(parameters, grads):\n\u001b[32m----> \u001b[39m\u001b[32m3\u001b[39m   \u001b[43mcmp\u001b[49m\u001b[43m(\u001b[49m\u001b[38;5;28;43mstr\u001b[39;49m\u001b[43m(\u001b[49m\u001b[38;5;28;43mtuple\u001b[39;49m\u001b[43m(\u001b[49m\u001b[43mp\u001b[49m\u001b[43m.\u001b[49m\u001b[43mshape\u001b[49m\u001b[43m)\u001b[49m\u001b[43m)\u001b[49m\u001b[43m,\u001b[49m\u001b[43m \u001b[49m\u001b[43mg\u001b[49m\u001b[43m,\u001b[49m\u001b[43m \u001b[49m\u001b[43mp\u001b[49m\u001b[43m)\u001b[49m\n",
            "\u001b[36mCell\u001b[39m\u001b[36m \u001b[39m\u001b[32mIn[8]\u001b[39m\u001b[32m, line 3\u001b[39m, in \u001b[36mcmp\u001b[39m\u001b[34m(s, dt, t)\u001b[39m\n\u001b[32m      2\u001b[39m \u001b[38;5;28;01mdef\u001b[39;00m\u001b[38;5;250m \u001b[39m\u001b[34mcmp\u001b[39m(s, dt, t):\n\u001b[32m----> \u001b[39m\u001b[32m3\u001b[39m   ex = \u001b[43mtorch\u001b[49m\u001b[43m.\u001b[49m\u001b[43mall\u001b[49m\u001b[43m(\u001b[49m\u001b[43mdt\u001b[49m\u001b[43m \u001b[49m\u001b[43m==\u001b[49m\u001b[43m \u001b[49m\u001b[43mt\u001b[49m\u001b[43m.\u001b[49m\u001b[43mgrad\u001b[49m\u001b[43m)\u001b[49m.item()\n\u001b[32m      4\u001b[39m   app = torch.allclose(dt, t.grad)\n\u001b[32m      5\u001b[39m   maxdiff = (dt - t.grad).abs().max().item()\n",
            "\u001b[31mTypeError\u001b[39m: all() received an invalid combination of arguments - got (bool), but expected one of:\n * (Tensor input, *, Tensor out = None)\n * (Tensor input, tuple of ints dim = None, bool keepdim = False, *, Tensor out = None)\n * (Tensor input, int dim, bool keepdim = False, *, Tensor out = None)\n * (Tensor input, name dim, bool keepdim = False, *, Tensor out = None)\n"
          ]
        }
      ],
      "source": [
        "# useful for checking your gradients\n",
        "for p,g in zip(parameters, grads):\n",
        "  cmp(str(tuple(p.shape)), g, p)"
      ]
    },
    {
      "cell_type": "code",
      "execution_count": 197,
      "metadata": {
        "id": "KImLWNoh8PP0"
      },
      "outputs": [],
      "source": [
        "# calibrate the batch norm at the end of training\n",
        "\n",
        "with torch.no_grad():\n",
        "  # pass the training set through\n",
        "  emb = C[Xtr]\n",
        "  embcat = emb.view(emb.shape[0], -1)\n",
        "  hpreact = embcat @ W1 + b1\n",
        "  # measure the mean/std over the entire training set\n",
        "  bnmean = hpreact.mean(0, keepdim=True)\n",
        "  bnvar = hpreact.var(0, keepdim=True, unbiased=True)\n"
      ]
    },
    {
      "cell_type": "code",
      "execution_count": 176,
      "metadata": {
        "id": "6aFnP_Zc8PP0"
      },
      "outputs": [
        {
          "name": "stdout",
          "output_type": "stream",
          "text": [
            "train 2.1712758541107178\n",
            "val 2.195324420928955\n"
          ]
        }
      ],
      "source": [
        "# evaluate train and val loss\n",
        "\n",
        "@torch.no_grad() # this decorator disables gradient tracking\n",
        "def split_loss(split):\n",
        "  x,y = {\n",
        "    'train': (Xtr, Ytr),\n",
        "    'val': (Xdev, Ydev),\n",
        "    'test': (Xte, Yte),\n",
        "  }[split]\n",
        "  emb = C[x] # (N, block_size, n_embd)\n",
        "  embcat = emb.view(emb.shape[0], -1) # concat into (N, block_size * n_embd)\n",
        "  hpreact = embcat @ W1 + b1\n",
        "  hpreact = bngain * (hpreact - bnmean) * (bnvar + 1e-5)**-0.5 + bnbias\n",
        "  h = torch.tanh(hpreact) # (N, n_hidden)\n",
        "  logits = h @ W2 + b2 # (N, vocab_size)\n",
        "  loss = F.cross_entropy(logits, y)\n",
        "  print(split, loss.item())\n",
        "\n",
        "split_loss('train')\n",
        "split_loss('val')"
      ]
    },
    {
      "cell_type": "code",
      "execution_count": null,
      "metadata": {
        "id": "esWqmhyj8PP1"
      },
      "outputs": [],
      "source": [
        "# I achieved:\n",
        "# train 2.0718822479248047\n",
        "# val 2.1162495613098145"
      ]
    },
    {
      "cell_type": "code",
      "execution_count": 198,
      "metadata": {
        "id": "xHeQNv3s8PP1"
      },
      "outputs": [
        {
          "name": "stdout",
          "output_type": "stream",
          "text": [
            "carmahzamille.\n",
            "khi.\n",
            "myli.\n",
            "tety.\n",
            "skanden.\n",
            "jazon.\n",
            "nadelly.\n",
            "caraqui.\n",
            "nellara.\n",
            "chriivia.\n",
            "leigh.\n",
            "ham.\n",
            "joce.\n",
            "quinton.\n",
            "lilea.\n",
            "jadbi.\n",
            "wavero.\n",
            "dearisi.\n",
            "jaxen.\n",
            "druly.\n"
          ]
        }
      ],
      "source": [
        "# sample from the model\n",
        "g = torch.Generator().manual_seed(2147483647 + 10)\n",
        "\n",
        "for _ in range(20):\n",
        "\n",
        "    out = []\n",
        "    context = [0] * block_size # initialize with all ...\n",
        "    while True:\n",
        "      # forward pass\n",
        "      emb = C[torch.tensor([context])] # (1,block_size,d)\n",
        "      embcat = emb.view(emb.shape[0], -1) # concat into (N, block_size * n_embd)\n",
        "      hpreact = embcat @ W1 + b1\n",
        "      hpreact = bngain * (hpreact - bnmean) * (bnvar + 1e-5)**-0.5 + bnbias\n",
        "      h = torch.tanh(hpreact) # (N, n_hidden)\n",
        "      logits = h @ W2 + b2 # (N, vocab_size)\n",
        "      # sample\n",
        "      probs = F.softmax(logits, dim=1)\n",
        "      ix = torch.multinomial(probs, num_samples=1, generator=g).item()\n",
        "      context = context[1:] + [ix]\n",
        "      out.append(ix)\n",
        "      if ix == 0:\n",
        "        break\n",
        "\n",
        "    print(''.join(itos[i] for i in out))"
      ]
    }
  ],
  "metadata": {
    "colab": {
      "provenance": []
    },
    "kernelspec": {
      "display_name": ".venv",
      "language": "python",
      "name": "python3"
    },
    "language_info": {
      "codemirror_mode": {
        "name": "ipython",
        "version": 3
      },
      "file_extension": ".py",
      "mimetype": "text/x-python",
      "name": "python",
      "nbconvert_exporter": "python",
      "pygments_lexer": "ipython3",
      "version": "3.13.3"
    }
  },
  "nbformat": 4,
  "nbformat_minor": 0
}
